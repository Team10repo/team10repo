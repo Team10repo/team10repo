{
 "cells": [
  {
   "cell_type": "code",
   "execution_count": 81,
   "id": "befc9b42",
   "metadata": {},
   "outputs": [
    {
     "name": "stdout",
     "output_type": "stream",
     "text": [
      "     PatientID FirstName  LastName             DateOfBirth Gender  \\\n",
      "0            1     Lanni       Sue 1960-01-01 00:00:00.000   Male   \n",
      "1            2       Far     Myers 1985-11-15 02:08:42.090   Male   \n",
      "2            3   Devlin    Michael 1976-04-15 02:52:09.762   Male   \n",
      "3            4   Carmine     Texas 1968-10-15 03:32:13.635   Male   \n",
      "4            5     Tann       Bama 1962-05-01 19:12:58.950   Male   \n",
      "..         ...       ...       ...                     ...    ...   \n",
      "940        941       Wat   Fideler 1986-05-26 00:01:19.761   Male   \n",
      "941        942    Wandie  Baythrop 1970-06-10 21:41:03.814   Male   \n",
      "942        943   Diahann   Smeeton 1983-01-08 21:49:27.884   Male   \n",
      "943        944  Panchito   Sharple 1963-06-05 07:57:05.569   Male   \n",
      "944        945     Walsh    Calvie 1972-08-06 03:40:03.454   Male   \n",
      "\n",
      "                       Race Language  \n",
      "0                     White  English  \n",
      "1                     White  English  \n",
      "2                     White  English  \n",
      "3                     White  English  \n",
      "4                     White  English  \n",
      "..                      ...      ...  \n",
      "940  Black/African-American  English  \n",
      "941  Black/African-American  English  \n",
      "942  Black/African-American  English  \n",
      "943  Black/African-American  English  \n",
      "944  Black/African-American  English  \n",
      "\n",
      "[945 rows x 7 columns]\n",
      "      EDVisitID  PatientID               VisitDate         EDDischargeTime  \\\n",
      "0             1          1 2020-01-01 00:00:00.000 2020-01-01 11:20:22.924   \n",
      "1            12         12 2020-01-01 02:45:40.302 2020-01-02 02:00:00.517   \n",
      "2            13         13 2020-01-01 03:09:24.701 2020-01-01 05:00:20.852   \n",
      "3            14         14 2020-01-01 03:12:19.349 2020-01-01 04:32:29.142   \n",
      "4            15         15 2020-01-01 03:46:32.698 2020-01-01 06:24:52.741   \n",
      "...         ...        ...                     ...                     ...   \n",
      "1194       1183        929 2020-01-15 10:38:42.570 2020-01-16 02:31:52.023   \n",
      "1195       1186        932 2020-01-15 11:52:37.540 2020-01-16 10:19:41.570   \n",
      "1196       1187        933 2020-01-15 12:11:11.678 2020-01-15 16:41:15.223   \n",
      "1197       1188        934 2020-01-15 12:21:46.006 2020-01-15 18:32:21.060   \n",
      "1198       1189        935 2020-01-15 12:51:14.875 2020-01-15 23:40:41.456   \n",
      "\n",
      "      Acuity ReasonForVisit EDDisposition  \n",
      "0          1   Stomach Ache      Admitted  \n",
      "1          2       Migraine      Admitted  \n",
      "2          3   Stomach Ache      Admitted  \n",
      "3          3       Migraine      Admitted  \n",
      "4          3     Chest Pain      Admitted  \n",
      "...      ...            ...           ...  \n",
      "1194       4     Chest Pain    Discharged  \n",
      "1195       1      Pneumonia    Discharged  \n",
      "1196       1      Pneumonia    Discharged  \n",
      "1197       1      Pneumonia    Discharged  \n",
      "1198       1      Pneumonia    Discharged  \n",
      "\n",
      "[1199 rows x 7 columns]\n",
      "     VisitID  PatientMRN  ProviderID DateofVisit           DateScheduled  \\\n",
      "0        202         840          29  2019-03-19 2019-03-13 07:59:24.000   \n",
      "1        436         820          25  2019-03-19 2019-02-24 07:10:31.043   \n",
      "2        794         879          30  2019-04-02 2019-03-19 01:41:55.656   \n",
      "3        799         884          37  2019-03-03 2019-02-25 01:25:39.696   \n",
      "4        515          32          26  2019-03-16 2019-02-20 06:44:59.617   \n",
      "..       ...         ...         ...         ...                     ...   \n",
      "945      788         873           1  2019-03-27 2019-03-10 17:19:48.264   \n",
      "946      703         855          36  2019-03-12 2019-02-19 02:27:52.664   \n",
      "947      481         865          13  2019-05-03 2019-04-25 13:37:57.501   \n",
      "948      398         635          10  2019-02-09 2019-02-08 11:40:35.137   \n",
      "949      695         847          24  2019-03-04 2019-02-05 05:29:30.587   \n",
      "\n",
      "     VisitDepartmentID     VisitType  BloodPressureSystolic  \\\n",
      "0                   10      Physical                  188.0   \n",
      "1                    3     Follow Up                  179.0   \n",
      "2                   11  Telemedicine                  133.0   \n",
      "3                    4  Telemedicine                  132.0   \n",
      "4                   11  Telemedicine                  131.0   \n",
      "..                 ...           ...                    ...   \n",
      "945                  5  Telemedicine                  187.0   \n",
      "946                 10     Follow Up                  182.0   \n",
      "947                 12           New                  150.0   \n",
      "948                  1      Physical                  177.0   \n",
      "949                 12     Follow Up                  165.0   \n",
      "\n",
      "     BloodPressureDiastolic      Pulse VisitStatus  \n",
      "0                144.143427  83.044920     No Show  \n",
      "1                118.876808  90.309544     No Show  \n",
      "2                 98.749563  80.859776     No Show  \n",
      "3                 98.001270  82.184737     No Show  \n",
      "4                 85.115632  89.192362     No Show  \n",
      "..                      ...        ...         ...  \n",
      "945              126.695141  70.049167    Canceled  \n",
      "946              140.703502  73.380812    Canceled  \n",
      "947               84.841197  61.625454    Canceled  \n",
      "948              125.037534  53.287036    Canceled  \n",
      "949              116.879318  56.180317    Canceled  \n",
      "\n",
      "[950 rows x 11 columns]\n",
      "     AdmissionID  PatientID AdmissionDate           DischargeDate  \\\n",
      "0            389          1    2018-01-01 2018-01-04 19:59:31.391   \n",
      "1            635          2    2018-01-01 2018-01-04 21:28:51.898   \n",
      "2            606          3    2018-01-01 2018-01-04 22:28:23.672   \n",
      "3            587          5    2018-01-01 2018-01-05 05:47:04.933   \n",
      "4            640          6    2018-01-01 2018-01-05 14:18:30.029   \n",
      "..           ...        ...           ...                     ...   \n",
      "715          521        738    2018-02-22 2018-03-07 21:22:10.061   \n",
      "716          548        739    2018-02-22 2018-03-08 02:43:18.749   \n",
      "717          509        740    2018-02-22 2018-03-08 09:27:18.377   \n",
      "718          605        741    2018-02-22 2018-03-10 06:06:12.068   \n",
      "719          710        742    2018-02-22 2018-03-10 20:38:30.568   \n",
      "\n",
      "    DischargeDisposition           Service PrimaryDiagnosis  ExpectedLOS  \\\n",
      "0                   Home       Hospitalist   Kidney Failure     6.717771   \n",
      "1                   Home  General Medicine              Flu     3.825969   \n",
      "2                   Home  General Medicine              Flu     3.382493   \n",
      "3                   Home  General Medicine              Flu     3.763352   \n",
      "4                   Home               ICU    Heart Failure    13.650953   \n",
      "..                   ...               ...              ...          ...   \n",
      "715                 Home        Cardiology              AMI    13.725405   \n",
      "716                 Home               ICU        Pneumonia    11.355456   \n",
      "717                 Home       Hospitalist        Pneumonia     4.819882   \n",
      "718                 Home  General Medicine              Flu     3.123064   \n",
      "719             Transfer  General Medicine         Diabetes     7.195441   \n",
      "\n",
      "     ExpectedMortality  ReadmissionFlag  DaysToReadmission  \\\n",
      "0             0.010046              NaN                NaN   \n",
      "1             0.604562              1.0                2.0   \n",
      "2             0.266137              1.0                3.0   \n",
      "3             0.307527              1.0                4.0   \n",
      "4             0.408898              NaN                NaN   \n",
      "..                 ...              ...                ...   \n",
      "715           0.388319              NaN                NaN   \n",
      "716           0.088518              NaN                NaN   \n",
      "717           0.503308              NaN                NaN   \n",
      "718           0.655870              NaN                NaN   \n",
      "719           0.286439              NaN                NaN   \n",
      "\n",
      "     EDVisitAfterDischargeFlag  \n",
      "0                          NaN  \n",
      "1                          1.0  \n",
      "2                          1.0  \n",
      "3                          1.0  \n",
      "4                          NaN  \n",
      "..                         ...  \n",
      "715                        NaN  \n",
      "716                        NaN  \n",
      "717                        NaN  \n",
      "718                        NaN  \n",
      "719                        NaN  \n",
      "\n",
      "[720 rows x 12 columns]\n",
      "     AdmissionID  PatientID AdmissionDate           DischargeDate  \\\n",
      "0              1          9    2018-01-01 2018-01-07 18:06:06.408   \n",
      "1            257         93    2018-01-06 2018-01-18 02:59:04.667   \n",
      "2            152        101    2018-01-07 2018-01-11 16:16:06.782   \n",
      "3            361        102    2018-01-07 2018-01-15 04:48:33.134   \n",
      "4            258        103    2018-01-07 2018-01-15 13:32:36.157   \n",
      "..           ...        ...           ...                     ...   \n",
      "715          715        716    2018-02-21 2018-03-06 03:31:05.262   \n",
      "716          698        723    2018-02-22 2018-02-26 15:09:02.584   \n",
      "717          704        724    2018-02-22 2018-02-27 07:59:32.385   \n",
      "718          716        733    2018-02-22 2018-03-05 12:31:55.958   \n",
      "719          710        742    2018-02-22 2018-03-10 20:38:30.568   \n",
      "\n",
      "    DischargeDisposition           Service PrimaryDiagnosis  ExpectedLOS  \\\n",
      "0                Expired        Cardiology              AMI     9.646857   \n",
      "1                Expired        Cardiology       Broken Leg     6.816558   \n",
      "2                Expired        Cardiology   Kidney Failure     6.580273   \n",
      "3                Expired        Cardiology             Afib    12.794536   \n",
      "4                Expired        Cardiology       Broken Leg     2.639297   \n",
      "..                   ...               ...              ...          ...   \n",
      "715             Transfer               ICU    Heart Failure    11.362095   \n",
      "716             Transfer               ICU    Heart Failure    10.262312   \n",
      "717             Transfer  General Medicine        Pneumonia     6.036234   \n",
      "718             Transfer               ICU    Heart Failure    13.323413   \n",
      "719             Transfer  General Medicine         Diabetes     7.195441   \n",
      "\n",
      "     ExpectedMortality  \n",
      "0             0.061540  \n",
      "1             0.628827  \n",
      "2             0.573887  \n",
      "3             0.222163  \n",
      "4             0.055468  \n",
      "..                 ...  \n",
      "715           0.370695  \n",
      "716           0.812930  \n",
      "717           0.094128  \n",
      "718           0.490892  \n",
      "719           0.286439  \n",
      "\n",
      "[720 rows x 9 columns]\n",
      "    ProviderID     ProviderName ProviderSpecialty     ProviderDateOnStaff\n",
      "0            1        Sally Sue        Pediatrics 1993-01-01 00:00:00.000\n",
      "1            2       Mike Myers        Pediatrics 1993-05-02 00:00:17.695\n",
      "2            3   Jordan Michael        Pediatrics 1993-06-24 21:31:46.687\n",
      "3            4        Ted Texas        Pediatrics 1993-12-23 21:33:52.299\n",
      "4            5         Ala Bama        Pediatrics 1995-01-10 02:53:47.838\n",
      "5            6       Harry Kane        Pediatrics 1995-07-21 03:49:03.310\n",
      "6            7        Barry Bar        Pediatrics 1995-11-21 19:30:38.759\n",
      "7            8        Ted Green        Pediatrics 1996-05-30 06:14:52.539\n",
      "8            9        Ted Black        Pediatrics 1997-02-20 08:01:10.211\n",
      "9           10         Fred Man           Surgery 1998-03-17 01:47:18.794\n",
      "10          11     Kim Kimberly           Surgery 1998-05-10 14:47:29.468\n",
      "11          12         Sarah Ab           Surgery 1998-08-18 05:22:40.762\n",
      "12          13  Abigail Marriot           Surgery 1998-11-08 12:25:45.705\n",
      "13          14          Dave Yu           Surgery 1999-06-26 16:18:57.436\n",
      "14          15  Christian Saint           Surgery 2000-08-27 00:12:40.326\n",
      "15          16     Perry Pardon           Surgery 2001-02-13 11:49:17.862\n",
      "16          17     Kent Kendall        Cardiology 2001-12-22 11:18:32.919\n",
      "17          18       Ryan Kevin        Cardiology 2003-01-14 21:16:34.778\n",
      "18          19     Tyler Conner        Cardiology 2003-07-09 02:41:40.410\n",
      "19          20    Bailey Barret        Cardiology 2003-08-20 16:05:50.179\n",
      "20          21      Megan Bonco        Cardiology 2004-02-17 21:22:30.546\n",
      "21          22    Joesph Walter        Cardiology 2005-02-04 11:40:44.121\n",
      "22          23      Walter King        Cardiology 2006-03-12 22:11:58.070\n",
      "23          24        Luke Long        Cardiology 2006-04-28 00:16:36.762\n",
      "24          25      Justin Time       PrimaryCare 2006-06-21 04:46:36.838\n",
      "25          26      Mike Joseph       PrimaryCare 2006-12-29 16:26:41.085\n",
      "26          27   Bridget Brenda       PrimaryCare 2007-06-30 05:53:46.143\n",
      "27          28      Brenda Bing       PrimaryCare 2007-11-18 22:33:55.792\n",
      "28          29    Chandler Bing       PrimaryCare 2007-12-07 23:50:10.442\n",
      "29          30      Joesph Ross       PrimaryCare 2008-11-08 18:06:32.983\n",
      "30          31     Dwight Scott       PrimaryCare 2009-04-18 19:15:44.587\n",
      "31          32  Michael Halpert       PrimaryCare 2009-09-02 00:14:41.441\n",
      "32          33      Pamela Ding       PrimaryCare 2009-11-12 03:59:49.655\n",
      "33          34       Tony Creed       PrimaryCare 2010-04-28 14:11:26.802\n",
      "34          35  Phyllis Stanley       PrimaryCare 2011-05-05 16:06:03.222\n",
      "35          36        Holly Hue       PrimaryCare 2012-06-24 06:55:22.021\n",
      "36          37        Trent Tye       PrimaryCare 2013-01-12 15:32:21.137\n",
      "37          38    Kimberly Cone       PrimaryCare 2013-05-23 05:17:19.360\n",
      "38          39       Harry West       PrimaryCare 2013-07-14 00:22:03.151\n",
      "39          40     Rosie Renter       PrimaryCare 2013-09-11 12:07:55.584\n"
     ]
    },
    {
     "name": "stdout",
     "output_type": "stream",
     "text": [
      "     EDVisitID  PatientID               VisitDate         EDDischargeTime  \\\n",
      "0            1          1 2020-01-01 00:00:00.000 2020-01-01 11:20:22.924   \n",
      "1           12         12 2020-01-01 02:45:40.302 2020-01-02 02:00:00.517   \n",
      "2           13         13 2020-01-01 03:09:24.701 2020-01-01 05:00:20.852   \n",
      "3           14         14 2020-01-01 03:12:19.349 2020-01-01 04:32:29.142   \n",
      "4           15         15 2020-01-01 03:46:32.698 2020-01-01 06:24:52.741   \n",
      "..         ...        ...                     ...                     ...   \n",
      "940       1183        929 2020-01-15 10:38:42.570 2020-01-16 02:31:52.023   \n",
      "941       1186        932 2020-01-15 11:52:37.540 2020-01-16 10:19:41.570   \n",
      "942       1187        933 2020-01-15 12:11:11.678 2020-01-15 16:41:15.223   \n",
      "943       1188        934 2020-01-15 12:21:46.006 2020-01-15 18:32:21.060   \n",
      "944       1189        935 2020-01-15 12:51:14.875 2020-01-15 23:40:41.456   \n",
      "\n",
      "     Acuity ReasonForVisit EDDisposition  \n",
      "0         1   Stomach Ache      Admitted  \n",
      "1         2       Migraine      Admitted  \n",
      "2         3   Stomach Ache      Admitted  \n",
      "3         3       Migraine      Admitted  \n",
      "4         3     Chest Pain      Admitted  \n",
      "..      ...            ...           ...  \n",
      "940       4     Chest Pain    discharged  \n",
      "941       1      Pneumonia    discharged  \n",
      "942       1      Pneumonia    discharged  \n",
      "943       1      Pneumonia    discharged  \n",
      "944       1      Pneumonia    discharged  \n",
      "\n",
      "[945 rows x 7 columns]\n"
     ]
    }
   ],
   "source": [
    "#Importing the dataset in python \n",
    "import pandas as pd\n",
    "#df = pd.read_excel(r'D:\\python\\HospitalDatabase.xlsx')\n",
    "Datafilepath = 'D:\\python\\HospitalDatabase.xlsx'\n",
    "xl = pd.ExcelFile(Datafilepath)\n",
    "sheets = xl.sheet_names\n",
    "for i, sheet in enumerate(sheets):\n",
    "    globals()['df'+ str(i+1)] = pd.read_excel(Datafilepath, sheet_name = sheet)\n",
    "    print(globals()['df'+ str(i+1)])"
   ]
  },
  {
   "cell_type": "code",
   "execution_count": 67,
   "id": "b2d50b7e",
   "metadata": {},
   "outputs": [
    {
     "data": {
      "text/html": [
       "<div>\n",
       "<style scoped>\n",
       "    .dataframe tbody tr th:only-of-type {\n",
       "        vertical-align: middle;\n",
       "    }\n",
       "\n",
       "    .dataframe tbody tr th {\n",
       "        vertical-align: top;\n",
       "    }\n",
       "\n",
       "    .dataframe thead th {\n",
       "        text-align: right;\n",
       "    }\n",
       "</style>\n",
       "<table border=\"1\" class=\"dataframe\">\n",
       "  <thead>\n",
       "    <tr style=\"text-align: right;\">\n",
       "      <th></th>\n",
       "      <th>EDVisitID</th>\n",
       "      <th>Time</th>\n",
       "    </tr>\n",
       "  </thead>\n",
       "  <tbody>\n",
       "    <tr>\n",
       "      <th>0</th>\n",
       "      <td>1</td>\n",
       "      <td>0 days 11:20:22.924000</td>\n",
       "    </tr>\n",
       "    <tr>\n",
       "      <th>1</th>\n",
       "      <td>12</td>\n",
       "      <td>0 days 23:14:20.215000</td>\n",
       "    </tr>\n",
       "    <tr>\n",
       "      <th>2</th>\n",
       "      <td>13</td>\n",
       "      <td>0 days 01:50:56.151000</td>\n",
       "    </tr>\n",
       "    <tr>\n",
       "      <th>3</th>\n",
       "      <td>14</td>\n",
       "      <td>0 days 01:20:09.793000</td>\n",
       "    </tr>\n",
       "    <tr>\n",
       "      <th>4</th>\n",
       "      <td>15</td>\n",
       "      <td>0 days 02:38:20.043000</td>\n",
       "    </tr>\n",
       "    <tr>\n",
       "      <th>...</th>\n",
       "      <td>...</td>\n",
       "      <td>...</td>\n",
       "    </tr>\n",
       "    <tr>\n",
       "      <th>1194</th>\n",
       "      <td>1183</td>\n",
       "      <td>0 days 15:53:09.453000</td>\n",
       "    </tr>\n",
       "    <tr>\n",
       "      <th>1195</th>\n",
       "      <td>1186</td>\n",
       "      <td>0 days 22:27:04.030000</td>\n",
       "    </tr>\n",
       "    <tr>\n",
       "      <th>1196</th>\n",
       "      <td>1187</td>\n",
       "      <td>0 days 04:30:03.545000</td>\n",
       "    </tr>\n",
       "    <tr>\n",
       "      <th>1197</th>\n",
       "      <td>1188</td>\n",
       "      <td>0 days 06:10:35.054000</td>\n",
       "    </tr>\n",
       "    <tr>\n",
       "      <th>1198</th>\n",
       "      <td>1189</td>\n",
       "      <td>0 days 10:49:26.581000</td>\n",
       "    </tr>\n",
       "  </tbody>\n",
       "</table>\n",
       "<p>1199 rows × 2 columns</p>\n",
       "</div>"
      ],
      "text/plain": [
       "      EDVisitID                   Time\n",
       "0             1 0 days 11:20:22.924000\n",
       "1            12 0 days 23:14:20.215000\n",
       "2            13 0 days 01:50:56.151000\n",
       "3            14 0 days 01:20:09.793000\n",
       "4            15 0 days 02:38:20.043000\n",
       "...         ...                    ...\n",
       "1194       1183 0 days 15:53:09.453000\n",
       "1195       1186 0 days 22:27:04.030000\n",
       "1196       1187 0 days 04:30:03.545000\n",
       "1197       1188 0 days 06:10:35.054000\n",
       "1198       1189 0 days 10:49:26.581000\n",
       "\n",
       "[1199 rows x 2 columns]"
      ]
     },
     "execution_count": 67,
     "metadata": {},
     "output_type": "execute_result"
    }
   ],
   "source": [
    "#1.Calculate the time spent in ED Department for each visit.\n",
    "#-----------------------------------------------------------\n",
    "df=df2\n",
    "df['Time']=df[\"EDDischargeTime\"]-df[\"VisitDate\"]\n",
    "df[['EDVisitID','Time']]"
   ]
  },
  {
   "cell_type": "code",
   "execution_count": 74,
   "id": "023fc033",
   "metadata": {},
   "outputs": [
    {
     "data": {
      "text/html": [
       "<div>\n",
       "<style scoped>\n",
       "    .dataframe tbody tr th:only-of-type {\n",
       "        vertical-align: middle;\n",
       "    }\n",
       "\n",
       "    .dataframe tbody tr th {\n",
       "        vertical-align: top;\n",
       "    }\n",
       "\n",
       "    .dataframe thead th {\n",
       "        text-align: right;\n",
       "    }\n",
       "</style>\n",
       "<table border=\"1\" class=\"dataframe\">\n",
       "  <thead>\n",
       "    <tr style=\"text-align: right;\">\n",
       "      <th></th>\n",
       "      <th>Service</th>\n",
       "      <th>PrimaryDiagnosis</th>\n",
       "      <th>Patient count</th>\n",
       "    </tr>\n",
       "  </thead>\n",
       "  <tbody>\n",
       "    <tr>\n",
       "      <th>0</th>\n",
       "      <td>Cardiology</td>\n",
       "      <td>AMI</td>\n",
       "      <td>40</td>\n",
       "    </tr>\n",
       "    <tr>\n",
       "      <th>1</th>\n",
       "      <td>Cardiology</td>\n",
       "      <td>Afib</td>\n",
       "      <td>10</td>\n",
       "    </tr>\n",
       "    <tr>\n",
       "      <th>2</th>\n",
       "      <td>Cardiology</td>\n",
       "      <td>Broken Leg</td>\n",
       "      <td>3</td>\n",
       "    </tr>\n",
       "    <tr>\n",
       "      <th>3</th>\n",
       "      <td>Cardiology</td>\n",
       "      <td>Flu</td>\n",
       "      <td>2</td>\n",
       "    </tr>\n",
       "    <tr>\n",
       "      <th>4</th>\n",
       "      <td>Cardiology</td>\n",
       "      <td>Heart Failure</td>\n",
       "      <td>39</td>\n",
       "    </tr>\n",
       "    <tr>\n",
       "      <th>5</th>\n",
       "      <td>Cardiology</td>\n",
       "      <td>Kidney Failure</td>\n",
       "      <td>1</td>\n",
       "    </tr>\n",
       "    <tr>\n",
       "      <th>6</th>\n",
       "      <td>General Medicine</td>\n",
       "      <td>Broken Leg</td>\n",
       "      <td>3</td>\n",
       "    </tr>\n",
       "    <tr>\n",
       "      <th>7</th>\n",
       "      <td>General Medicine</td>\n",
       "      <td>Diabetes</td>\n",
       "      <td>38</td>\n",
       "    </tr>\n",
       "    <tr>\n",
       "      <th>8</th>\n",
       "      <td>General Medicine</td>\n",
       "      <td>Fever</td>\n",
       "      <td>13</td>\n",
       "    </tr>\n",
       "    <tr>\n",
       "      <th>9</th>\n",
       "      <td>General Medicine</td>\n",
       "      <td>Flu</td>\n",
       "      <td>54</td>\n",
       "    </tr>\n",
       "    <tr>\n",
       "      <th>10</th>\n",
       "      <td>General Medicine</td>\n",
       "      <td>Hypertension</td>\n",
       "      <td>35</td>\n",
       "    </tr>\n",
       "    <tr>\n",
       "      <th>11</th>\n",
       "      <td>General Medicine</td>\n",
       "      <td>Kidney Failure</td>\n",
       "      <td>12</td>\n",
       "    </tr>\n",
       "    <tr>\n",
       "      <th>12</th>\n",
       "      <td>General Medicine</td>\n",
       "      <td>Laceration</td>\n",
       "      <td>21</td>\n",
       "    </tr>\n",
       "    <tr>\n",
       "      <th>13</th>\n",
       "      <td>General Medicine</td>\n",
       "      <td>Pneumonia</td>\n",
       "      <td>67</td>\n",
       "    </tr>\n",
       "    <tr>\n",
       "      <th>14</th>\n",
       "      <td>General Medicine</td>\n",
       "      <td>Stroke</td>\n",
       "      <td>20</td>\n",
       "    </tr>\n",
       "    <tr>\n",
       "      <th>15</th>\n",
       "      <td>Hospitalist</td>\n",
       "      <td>AMI</td>\n",
       "      <td>1</td>\n",
       "    </tr>\n",
       "    <tr>\n",
       "      <th>16</th>\n",
       "      <td>Hospitalist</td>\n",
       "      <td>Broken Leg</td>\n",
       "      <td>3</td>\n",
       "    </tr>\n",
       "    <tr>\n",
       "      <th>17</th>\n",
       "      <td>Hospitalist</td>\n",
       "      <td>Diabetes</td>\n",
       "      <td>26</td>\n",
       "    </tr>\n",
       "    <tr>\n",
       "      <th>18</th>\n",
       "      <td>Hospitalist</td>\n",
       "      <td>Fever</td>\n",
       "      <td>3</td>\n",
       "    </tr>\n",
       "    <tr>\n",
       "      <th>19</th>\n",
       "      <td>Hospitalist</td>\n",
       "      <td>Flu</td>\n",
       "      <td>19</td>\n",
       "    </tr>\n",
       "    <tr>\n",
       "      <th>20</th>\n",
       "      <td>Hospitalist</td>\n",
       "      <td>Hypertension</td>\n",
       "      <td>6</td>\n",
       "    </tr>\n",
       "    <tr>\n",
       "      <th>21</th>\n",
       "      <td>Hospitalist</td>\n",
       "      <td>Kidney Failure</td>\n",
       "      <td>6</td>\n",
       "    </tr>\n",
       "    <tr>\n",
       "      <th>22</th>\n",
       "      <td>Hospitalist</td>\n",
       "      <td>Knee Replacement</td>\n",
       "      <td>1</td>\n",
       "    </tr>\n",
       "    <tr>\n",
       "      <th>23</th>\n",
       "      <td>Hospitalist</td>\n",
       "      <td>Laceration</td>\n",
       "      <td>7</td>\n",
       "    </tr>\n",
       "    <tr>\n",
       "      <th>24</th>\n",
       "      <td>Hospitalist</td>\n",
       "      <td>Pneumonia</td>\n",
       "      <td>28</td>\n",
       "    </tr>\n",
       "    <tr>\n",
       "      <th>25</th>\n",
       "      <td>Hospitalist</td>\n",
       "      <td>Stroke</td>\n",
       "      <td>1</td>\n",
       "    </tr>\n",
       "    <tr>\n",
       "      <th>26</th>\n",
       "      <td>ICU</td>\n",
       "      <td>AMI</td>\n",
       "      <td>5</td>\n",
       "    </tr>\n",
       "    <tr>\n",
       "      <th>27</th>\n",
       "      <td>ICU</td>\n",
       "      <td>Afib</td>\n",
       "      <td>1</td>\n",
       "    </tr>\n",
       "    <tr>\n",
       "      <th>28</th>\n",
       "      <td>ICU</td>\n",
       "      <td>Fever</td>\n",
       "      <td>3</td>\n",
       "    </tr>\n",
       "    <tr>\n",
       "      <th>29</th>\n",
       "      <td>ICU</td>\n",
       "      <td>Flu</td>\n",
       "      <td>3</td>\n",
       "    </tr>\n",
       "    <tr>\n",
       "      <th>30</th>\n",
       "      <td>ICU</td>\n",
       "      <td>Heart Failure</td>\n",
       "      <td>33</td>\n",
       "    </tr>\n",
       "    <tr>\n",
       "      <th>31</th>\n",
       "      <td>ICU</td>\n",
       "      <td>Hypertension</td>\n",
       "      <td>4</td>\n",
       "    </tr>\n",
       "    <tr>\n",
       "      <th>32</th>\n",
       "      <td>ICU</td>\n",
       "      <td>Kidney Failure</td>\n",
       "      <td>1</td>\n",
       "    </tr>\n",
       "    <tr>\n",
       "      <th>33</th>\n",
       "      <td>ICU</td>\n",
       "      <td>Laceration</td>\n",
       "      <td>1</td>\n",
       "    </tr>\n",
       "    <tr>\n",
       "      <th>34</th>\n",
       "      <td>ICU</td>\n",
       "      <td>Pneumonia</td>\n",
       "      <td>77</td>\n",
       "    </tr>\n",
       "    <tr>\n",
       "      <th>35</th>\n",
       "      <td>ICU</td>\n",
       "      <td>Spinal Cord Injury</td>\n",
       "      <td>2</td>\n",
       "    </tr>\n",
       "    <tr>\n",
       "      <th>36</th>\n",
       "      <td>ICU</td>\n",
       "      <td>Stroke</td>\n",
       "      <td>21</td>\n",
       "    </tr>\n",
       "    <tr>\n",
       "      <th>37</th>\n",
       "      <td>Neurology</td>\n",
       "      <td>AMI</td>\n",
       "      <td>2</td>\n",
       "    </tr>\n",
       "    <tr>\n",
       "      <th>38</th>\n",
       "      <td>Neurology</td>\n",
       "      <td>Flu</td>\n",
       "      <td>2</td>\n",
       "    </tr>\n",
       "    <tr>\n",
       "      <th>39</th>\n",
       "      <td>Neurology</td>\n",
       "      <td>Heart Failure</td>\n",
       "      <td>6</td>\n",
       "    </tr>\n",
       "    <tr>\n",
       "      <th>40</th>\n",
       "      <td>Neurology</td>\n",
       "      <td>Hypertension</td>\n",
       "      <td>5</td>\n",
       "    </tr>\n",
       "    <tr>\n",
       "      <th>41</th>\n",
       "      <td>Neurology</td>\n",
       "      <td>Migraine</td>\n",
       "      <td>12</td>\n",
       "    </tr>\n",
       "    <tr>\n",
       "      <th>42</th>\n",
       "      <td>Neurology</td>\n",
       "      <td>Pain</td>\n",
       "      <td>7</td>\n",
       "    </tr>\n",
       "    <tr>\n",
       "      <th>43</th>\n",
       "      <td>Neurology</td>\n",
       "      <td>Pneumonia</td>\n",
       "      <td>5</td>\n",
       "    </tr>\n",
       "    <tr>\n",
       "      <th>44</th>\n",
       "      <td>Neurology</td>\n",
       "      <td>Stroke</td>\n",
       "      <td>26</td>\n",
       "    </tr>\n",
       "    <tr>\n",
       "      <th>45</th>\n",
       "      <td>Orthopeadics</td>\n",
       "      <td>Hip Fracture</td>\n",
       "      <td>23</td>\n",
       "    </tr>\n",
       "    <tr>\n",
       "      <th>46</th>\n",
       "      <td>Orthopeadics</td>\n",
       "      <td>Knee Replacement</td>\n",
       "      <td>22</td>\n",
       "    </tr>\n",
       "  </tbody>\n",
       "</table>\n",
       "</div>"
      ],
      "text/plain": [
       "             Service    PrimaryDiagnosis  Patient count\n",
       "0         Cardiology                 AMI             40\n",
       "1         Cardiology                Afib             10\n",
       "2         Cardiology          Broken Leg              3\n",
       "3         Cardiology                 Flu              2\n",
       "4         Cardiology       Heart Failure             39\n",
       "5         Cardiology      Kidney Failure              1\n",
       "6   General Medicine          Broken Leg              3\n",
       "7   General Medicine            Diabetes             38\n",
       "8   General Medicine               Fever             13\n",
       "9   General Medicine                 Flu             54\n",
       "10  General Medicine        Hypertension             35\n",
       "11  General Medicine      Kidney Failure             12\n",
       "12  General Medicine          Laceration             21\n",
       "13  General Medicine           Pneumonia             67\n",
       "14  General Medicine              Stroke             20\n",
       "15       Hospitalist                 AMI              1\n",
       "16       Hospitalist          Broken Leg              3\n",
       "17       Hospitalist            Diabetes             26\n",
       "18       Hospitalist               Fever              3\n",
       "19       Hospitalist                 Flu             19\n",
       "20       Hospitalist        Hypertension              6\n",
       "21       Hospitalist      Kidney Failure              6\n",
       "22       Hospitalist    Knee Replacement              1\n",
       "23       Hospitalist          Laceration              7\n",
       "24       Hospitalist           Pneumonia             28\n",
       "25       Hospitalist              Stroke              1\n",
       "26               ICU                 AMI              5\n",
       "27               ICU                Afib              1\n",
       "28               ICU               Fever              3\n",
       "29               ICU                 Flu              3\n",
       "30               ICU       Heart Failure             33\n",
       "31               ICU        Hypertension              4\n",
       "32               ICU      Kidney Failure              1\n",
       "33               ICU          Laceration              1\n",
       "34               ICU           Pneumonia             77\n",
       "35               ICU  Spinal Cord Injury              2\n",
       "36               ICU              Stroke             21\n",
       "37         Neurology                 AMI              2\n",
       "38         Neurology                 Flu              2\n",
       "39         Neurology       Heart Failure              6\n",
       "40         Neurology        Hypertension              5\n",
       "41         Neurology            Migraine             12\n",
       "42         Neurology                Pain              7\n",
       "43         Neurology           Pneumonia              5\n",
       "44         Neurology              Stroke             26\n",
       "45      Orthopeadics        Hip Fracture             23\n",
       "46      Orthopeadics    Knee Replacement             22"
      ]
     },
     "execution_count": 74,
     "metadata": {},
     "output_type": "execute_result"
    }
   ],
   "source": [
    "#2.Get the  number of patients based on service and primary diagnosis.\n",
    "#--------------------------------------------------------------------\n",
    "df4.groupby([\"Service\",\"PrimaryDiagnosis\"])[\"PatientID\"].count().reset_index(name='Patient count')"
   ]
  },
  {
   "cell_type": "code",
   "execution_count": 40,
   "id": "120575f5",
   "metadata": {},
   "outputs": [
    {
     "data": {
      "text/plain": [
       "<seaborn.axisgrid.PairGrid at 0x1dcd74e60b0>"
      ]
     },
     "execution_count": 40,
     "metadata": {},
     "output_type": "execute_result"
    },
    {
     "data": {
      "image/png": "[encoded data removed]",
      "text/plain": [
       "<Figure size 750x750 with 12 Axes>"
      ]
     },
     "metadata": {},
     "output_type": "display_data"
    },
    {
     "data": {
      "image/png": "[encoded data removed]",
      "text/plain": [
       "<Figure size 878.5x750 with 12 Axes>"
      ]
     },
     "metadata": {},
     "output_type": "display_data"
    }
   ],
   "source": [
    "#3.Create a pair plot on whole dataframe by taking parameter \"hue\" as EDDisposition.\n",
    "#------------------------------------------------------------------------------------\n",
    "import seaborn as sns\n",
    "# Create the Ed disposition pairplot\n",
    "sns.pairplot(df2)\n",
    "sns.pairplot(df2,hue =\"EDDisposition\")"
   ]
  },
  {
   "cell_type": "code",
   "execution_count": null,
   "id": "c81bcdf1",
   "metadata": {},
   "outputs": [],
   "source": [
    "#4.Connect to sql and write a query to get list of Provider names whose Providername is starting with letter T.  (Attach screenshots for this question)\n",
    "#------------------------------------------------------------------------------------------------------------------------------------------------------\n",
    "import psycopg2\n",
    "conn = psycopg2.connect(\n",
    "    host=\"localhost\",\n",
    "    database=\"postgres\",\n",
    "    user=\"postgres\",\n",
    "   password=\"280814\")\n",
    "cursor = conn.cursor()\n",
    "postgreSQL_select_Query = \"select * from providers where providername like 'T%'\"\n",
    "cursor.execute(postgreSQL_select_Query)\n",
    "print(\"Selecting rows from providers table using cursor.fetchall\")\n",
    "providers_records = cursor.fetchall()\n",
    "\n",
    "print(\"Printing each row and it's columns values\")\n",
    "for row in providers_records:\n",
    "        print(\"Provider name = \", row[1])\n",
    "        #print(\"Model = \", row[1])\n",
    "        #print(\"Price  = \", row[2], \"\\n\")    "
   ]
  },
  {
   "attachments": {
    "image.png": {
     "image/png": "[encoded data removed]"
    }
   },
   "cell_type": "markdown",
   "id": "0c671129",
   "metadata": {},
   "source": [
    "![image.png](attachment:image.png)"
   ]
  },
  {
   "cell_type": "code",
   "execution_count": 61,
   "id": "8a6abd71",
   "metadata": {},
   "outputs": [
    {
     "data": {
      "image/png": "[encoded data removed]",
      "text/plain": [
       "<Figure size 640x480 with 1 Axes>"
      ]
     },
     "metadata": {},
     "output_type": "display_data"
    }
   ],
   "source": [
    "#5.Create a bar chart between expectedLOS & Primary diagnosis.\n",
    "#--------------------------------------------------------------\n",
    "import matplotlib.pyplot as plt\n",
    "y_axis = df4.loc[: , \"ExpectedLOS\"]\n",
    "x_axis = df4[\"PrimaryDiagnosis\"]\n",
    "plt.barh(x_axis, y_axis,height=0.9,color=('pink'))\n",
    "plt.title('Bar chart between EXPECTED LOS AND PRIMARY DIAGNOSIS')\n",
    "plt.xlabel('PrimaryDiagnosis')\n",
    "plt.ylabel('ExpectedLOS')\n",
    "plt.show()"
   ]
  },
  {
   "cell_type": "code",
   "execution_count": 24,
   "id": "240beabb",
   "metadata": {},
   "outputs": [
    {
     "name": "stdout",
     "output_type": "stream",
     "text": [
      "Input your First Name : lanni\n",
      "0         Sue\n",
      "129    Angear\n",
      "Name: LastName, dtype: object\n"
     ]
    }
   ],
   "source": [
    "#6.Find the last name of the patients, by getting the first name from the user.\n",
    "#--------------------------------------------------------------------------------\n",
    "import string\n",
    "fname=input(\"Input your First Name : \")\n",
    "fname = string.capwords(fname)\n",
    "df=df1.loc[df1['FirstName'] == fname,'LastName']\n",
    "print(df)"
   ]
  },
  {
   "cell_type": "code",
   "execution_count": 75,
   "id": "9abd1ff8",
   "metadata": {},
   "outputs": [
    {
     "name": "stdout",
     "output_type": "stream",
     "text": [
      "Enter the lenth of Stay : 16\n",
      "Number of Patient greater than 16.0 is 21\n",
      "PatientID FirstName LastName ExpectedLOS\n",
      "8 Alexandra Green 16.472256927259497\n",
      "90 Cilka Alden 16.161805620328312\n",
      "95 Abey Philipsson 16.83891828595611\n",
      "134 Borer Stonehewer 16.22512602988089\n",
      "215 Whitby Group 16.998213188933306\n",
      "259 Mayert MacGettigen 16.30698316948985\n",
      "302 Johann LLC 16.18918611446958\n",
      "338 Scottie Phetteplace 16.753521233008957\n",
      "351 Derk Garbutt 16.784041971729216\n",
      "352 Evanne Woodford 16.989907376726443\n",
      "355 Vitoria Cleaton 16.15437045083616\n",
      "365 Johannes O'Daly 16.032984636363043\n",
      "438 Daryl Buttriss 16.9748235974245\n",
      "490 Angel Brandone 16.85193698107185\n",
      "496 Lilyan Alekseev 16.65543023801477\n",
      "560 Robyn Aucourte 16.78592551617726\n",
      "587 Johnathan Philo 16.12251502209987\n",
      "597 Oralle Applin 16.45626610650337\n",
      "646 Andree Elliott 16.272193335768648\n",
      "652 Megen Inc 16.62752132832736\n",
      "663 Robyn Colborn 16.86788287978207\n"
     ]
    }
   ],
   "source": [
    "#7.Find the list of patients whose ExpectedLOS is greater than the value given by the user.\n",
    "#--------------------------------------------------------------------------------------------\n",
    "ReAdmissionRegistry = df4.iloc[:,[1,7]]\n",
    "Patients = df1.iloc[:,[0,1,2]]\n",
    "(lenthofStay)= float(input(\"Enter the lenth of Stay : \"))\n",
    "noofPatients = len([i for i in ReAdmissionRegistry['ExpectedLOS'] if i > lenthofStay])\n",
    "print(\"Number of Patient greater than\" , lenthofStay , \"is\" , noofPatients)\n",
    "print(\"PatientID\",\"FirstName\",\"LastName\",\"ExpectedLOS\")\n",
    "for PatientID1, ExpectedLOS in ReAdmissionRegistry.itertuples(index=False):\n",
    "     if ExpectedLOS > lenthofStay:\n",
    "        for PatientID2, FirstName, LastName in Patients.itertuples(index=False):\n",
    "            if PatientID2 == PatientID1:\n",
    "                        print(PatientID2,FirstName,LastName,ExpectedLOS)"
   ]
  },
  {
   "cell_type": "code",
   "execution_count": 35,
   "id": "8cac3a96",
   "metadata": {},
   "outputs": [
    {
     "data": {
      "application/vnd.plotly.v1+json": {
       "config": {
        "plotlyServerURL": "https://plot.ly"
       },
       "data": [
        {
         "branchvalues": "total",
         "customdata": [
          [
           24
          ],
          [
           28
          ],
          [
           19
          ],
          [
           27
          ],
          [
           15
          ],
          [
           15
          ],
          [
           15
          ],
          [
           22
          ],
          [
           23
          ],
          [
           13
          ],
          [
           25
          ],
          [
           27
          ],
          [
           9
          ],
          [
           10
          ],
          [
           14
          ],
          [
           18
          ],
          [
           29
          ],
          [
           16
          ],
          [
           21
          ],
          [
           24
          ],
          [
           9
          ],
          [
           16
          ],
          [
           19
          ],
          [
           13
          ],
          [
           16
          ],
          [
           29
          ],
          [
           13
          ],
          [
           22
          ],
          [
           11
          ],
          [
           9
          ],
          [
           20
          ],
          [
           30
          ],
          [
           24
          ],
          [
           26
          ],
          [
           26
          ],
          [
           29
          ],
          [
           12
          ],
          [
           10
          ],
          [
           19
          ],
          [
           17
          ],
          [
           18.74496644295302
          ],
          [
           27.95617529880478
          ],
          [
           12.99
          ],
          [
           23.475609756097562
          ]
         ],
         "domain": {
          "x": [
           0,
           1
          ],
          "y": [
           0,
           1
          ]
         },
         "hovertemplate": "labels=%{label}<br>Provider Experience_sum=%{value}<br>parent=%{parent}<br>id=%{id}<br>Provider Experience=%{color}<extra></extra>",
         "ids": [
          "Surgery/Abigail Marriot",
          "Pediatrics/Ala Bama",
          "Cardiology/Bailey Barret",
          "Pediatrics/Barry Bar",
          "PrimaryCare/Brenda Bing",
          "PrimaryCare/Bridget Brenda",
          "PrimaryCare/Chandler Bing",
          "Surgery/Christian Saint",
          "Surgery/Dave Yu",
          "PrimaryCare/Dwight Scott",
          "Surgery/Fred Man",
          "Pediatrics/Harry Kane",
          "PrimaryCare/Harry West",
          "PrimaryCare/Holly Hue",
          "PrimaryCare/Joesph Ross",
          "Cardiology/Joesph Walter",
          "Pediatrics/Jordan Michael",
          "PrimaryCare/Justin Time",
          "Cardiology/Kent Kendall",
          "Surgery/Kim Kimberly",
          "PrimaryCare/Kimberly Cone",
          "Cardiology/Luke Long",
          "Cardiology/Megan Bonco",
          "PrimaryCare/Michael Halpert",
          "PrimaryCare/Mike Joseph",
          "Pediatrics/Mike Myers",
          "PrimaryCare/Pamela Ding",
          "Surgery/Perry Pardon",
          "PrimaryCare/Phyllis Stanley",
          "PrimaryCare/Rosie Renter",
          "Cardiology/Ryan Kevin",
          "Pediatrics/Sally Sue",
          "Surgery/Sarah Ab",
          "Pediatrics/Ted Black",
          "Pediatrics/Ted Green",
          "Pediatrics/Ted Texas",
          "PrimaryCare/Tony Creed",
          "PrimaryCare/Trent Tye",
          "Cardiology/Tyler Conner",
          "Cardiology/Walter King",
          "Cardiology",
          "Pediatrics",
          "PrimaryCare",
          "Surgery"
         ],
         "labels": [
          "Abigail Marriot",
          "Ala Bama",
          "Bailey Barret",
          "Barry Bar",
          "Brenda Bing",
          "Bridget Brenda",
          "Chandler Bing",
          "Christian Saint",
          "Dave Yu",
          "Dwight Scott",
          "Fred Man",
          "Harry Kane",
          "Harry West",
          "Holly Hue",
          "Joesph Ross",
          "Joesph Walter",
          "Jordan Michael",
          "Justin Time",
          "Kent Kendall",
          "Kim Kimberly",
          "Kimberly Cone",
          "Luke Long",
          "Megan Bonco",
          "Michael Halpert",
          "Mike Joseph",
          "Mike Myers",
          "Pamela Ding",
          "Perry Pardon",
          "Phyllis Stanley",
          "Rosie Renter",
          "Ryan Kevin",
          "Sally Sue",
          "Sarah Ab",
          "Ted Black",
          "Ted Green",
          "Ted Texas",
          "Tony Creed",
          "Trent Tye",
          "Tyler Conner",
          "Walter King",
          "Cardiology",
          "Pediatrics",
          "PrimaryCare",
          "Surgery"
         ],
         "marker": {
          "coloraxis": "coloraxis",
          "colors": [
           24,
           28,
           19,
           27,
           15,
           15,
           15,
           22,
           23,
           13,
           25,
           27,
           9,
           10,
           14,
           18,
           29,
           16,
           21,
           24,
           9,
           16,
           19,
           13,
           16,
           29,
           13,
           22,
           11,
           9,
           20,
           30,
           24,
           26,
           26,
           29,
           12,
           10,
           19,
           17,
           18.74496644295302,
           27.95617529880478,
           12.99,
           23.475609756097562
          ]
         },
         "name": "",
         "parents": [
          "Surgery",
          "Pediatrics",
          "Cardiology",
          "Pediatrics",
          "PrimaryCare",
          "PrimaryCare",
          "PrimaryCare",
          "Surgery",
          "Surgery",
          "PrimaryCare",
          "Surgery",
          "Pediatrics",
          "PrimaryCare",
          "PrimaryCare",
          "PrimaryCare",
          "Cardiology",
          "Pediatrics",
          "PrimaryCare",
          "Cardiology",
          "Surgery",
          "PrimaryCare",
          "Cardiology",
          "Cardiology",
          "PrimaryCare",
          "PrimaryCare",
          "Pediatrics",
          "PrimaryCare",
          "Surgery",
          "PrimaryCare",
          "PrimaryCare",
          "Cardiology",
          "Pediatrics",
          "Surgery",
          "Pediatrics",
          "Pediatrics",
          "Pediatrics",
          "PrimaryCare",
          "PrimaryCare",
          "Cardiology",
          "Cardiology",
          "",
          "",
          "",
          ""
         ],
         "type": "sunburst",
         "values": [
          24,
          28,
          19,
          27,
          15,
          15,
          15,
          22,
          23,
          13,
          25,
          27,
          9,
          10,
          14,
          18,
          29,
          16,
          21,
          24,
          9,
          16,
          19,
          13,
          16,
          29,
          13,
          22,
          11,
          9,
          20,
          30,
          24,
          26,
          26,
          29,
          12,
          10,
          19,
          17,
          149,
          251,
          200,
          164
         ]
        }
       ],
       "layout": {
        "coloraxis": {
         "colorbar": {
          "title": {
           "text": "Provider Experience"
          }
         },
         "colorscale": [
          [
           0,
           "rgb(75, 41, 145)"
          ],
          [
           0.16666666666666666,
           "rgb(135, 44, 162)"
          ],
          [
           0.3333333333333333,
           "rgb(192, 54, 157)"
          ],
          [
           0.5,
           "rgb(234, 79, 136)"
          ],
          [
           0.6666666666666666,
           "rgb(250, 120, 118)"
          ],
          [
           0.8333333333333334,
           "rgb(246, 169, 122)"
          ],
          [
           1,
           "rgb(237, 217, 163)"
          ]
         ]
        },
        "legend": {
         "tracegroupgap": 0
        },
        "margin": {
         "t": 60
        },
        "template": {
         "data": {
          "bar": [
           {
            "error_x": {
             "color": "#2a3f5f"
            },
            "error_y": {
             "color": "#2a3f5f"
            },
            "marker": {
             "line": {
              "color": "#E5ECF6",
              "width": 0.5
             },
             "pattern": {
              "fillmode": "overlay",
              "size": 10,
              "solidity": 0.2
             }
            },
            "type": "bar"
           }
          ],
          "barpolar": [
           {
            "marker": {
             "line": {
              "color": "#E5ECF6",
              "width": 0.5
             },
             "pattern": {
              "fillmode": "overlay",
              "size": 10,
              "solidity": 0.2
             }
            },
            "type": "barpolar"
           }
          ],
          "carpet": [
           {
            "aaxis": {
             "endlinecolor": "#2a3f5f",
             "gridcolor": "white",
             "linecolor": "white",
             "minorgridcolor": "white",
             "startlinecolor": "#2a3f5f"
            },
            "baxis": {
             "endlinecolor": "#2a3f5f",
             "gridcolor": "white",
             "linecolor": "white",
             "minorgridcolor": "white",
             "startlinecolor": "#2a3f5f"
            },
            "type": "carpet"
           }
          ],
          "choropleth": [
           {
            "colorbar": {
             "outlinewidth": 0,
             "ticks": ""
            },
            "type": "choropleth"
           }
          ],
          "contour": [
           {
            "colorbar": {
             "outlinewidth": 0,
             "ticks": ""
            },
            "colorscale": [
             [
              0,
              "#0d0887"
             ],
             [
              0.1111111111111111,
              "#46039f"
             ],
             [
              0.2222222222222222,
              "#7201a8"
             ],
             [
              0.3333333333333333,
              "#9c179e"
             ],
             [
              0.4444444444444444,
              "#bd3786"
             ],
             [
              0.5555555555555556,
              "#d8576b"
             ],
             [
              0.6666666666666666,
              "#ed7953"
             ],
             [
              0.7777777777777778,
              "#fb9f3a"
             ],
             [
              0.8888888888888888,
              "#fdca26"
             ],
             [
              1,
              "#f0f921"
             ]
            ],
            "type": "contour"
           }
          ],
          "contourcarpet": [
           {
            "colorbar": {
             "outlinewidth": 0,
             "ticks": ""
            },
            "type": "contourcarpet"
           }
          ],
          "heatmap": [
           {
            "colorbar": {
             "outlinewidth": 0,
             "ticks": ""
            },
            "colorscale": [
             [
              0,
              "#0d0887"
             ],
             [
              0.1111111111111111,
              "#46039f"
             ],
             [
              0.2222222222222222,
              "#7201a8"
             ],
             [
              0.3333333333333333,
              "#9c179e"
             ],
             [
              0.4444444444444444,
              "#bd3786"
             ],
             [
              0.5555555555555556,
              "#d8576b"
             ],
             [
              0.6666666666666666,
              "#ed7953"
             ],
             [
              0.7777777777777778,
              "#fb9f3a"
             ],
             [
              0.8888888888888888,
              "#fdca26"
             ],
             [
              1,
              "#f0f921"
             ]
            ],
            "type": "heatmap"
           }
          ],
          "heatmapgl": [
           {
            "colorbar": {
             "outlinewidth": 0,
             "ticks": ""
            },
            "colorscale": [
             [
              0,
              "#0d0887"
             ],
             [
              0.1111111111111111,
              "#46039f"
             ],
             [
              0.2222222222222222,
              "#7201a8"
             ],
             [
              0.3333333333333333,
              "#9c179e"
             ],
             [
              0.4444444444444444,
              "#bd3786"
             ],
             [
              0.5555555555555556,
              "#d8576b"
             ],
             [
              0.6666666666666666,
              "#ed7953"
             ],
             [
              0.7777777777777778,
              "#fb9f3a"
             ],
             [
              0.8888888888888888,
              "#fdca26"
             ],
             [
              1,
              "#f0f921"
             ]
            ],
            "type": "heatmapgl"
           }
          ],
          "histogram": [
           {
            "marker": {
             "pattern": {
              "fillmode": "overlay",
              "size": 10,
              "solidity": 0.2
             }
            },
            "type": "histogram"
           }
          ],
          "histogram2d": [
           {
            "colorbar": {
             "outlinewidth": 0,
             "ticks": ""
            },
            "colorscale": [
             [
              0,
              "#0d0887"
             ],
             [
              0.1111111111111111,
              "#46039f"
             ],
             [
              0.2222222222222222,
              "#7201a8"
             ],
             [
              0.3333333333333333,
              "#9c179e"
             ],
             [
              0.4444444444444444,
              "#bd3786"
             ],
             [
              0.5555555555555556,
              "#d8576b"
             ],
             [
              0.6666666666666666,
              "#ed7953"
             ],
             [
              0.7777777777777778,
              "#fb9f3a"
             ],
             [
              0.8888888888888888,
              "#fdca26"
             ],
             [
              1,
              "#f0f921"
             ]
            ],
            "type": "histogram2d"
           }
          ],
          "histogram2dcontour": [
           {
            "colorbar": {
             "outlinewidth": 0,
             "ticks": ""
            },
            "colorscale": [
             [
              0,
              "#0d0887"
             ],
             [
              0.1111111111111111,
              "#46039f"
             ],
             [
              0.2222222222222222,
              "#7201a8"
             ],
             [
              0.3333333333333333,
              "#9c179e"
             ],
             [
              0.4444444444444444,
              "#bd3786"
             ],
             [
              0.5555555555555556,
              "#d8576b"
             ],
             [
              0.6666666666666666,
              "#ed7953"
             ],
             [
              0.7777777777777778,
              "#fb9f3a"
             ],
             [
              0.8888888888888888,
              "#fdca26"
             ],
             [
              1,
              "#f0f921"
             ]
            ],
            "type": "histogram2dcontour"
           }
          ],
          "mesh3d": [
           {
            "colorbar": {
             "outlinewidth": 0,
             "ticks": ""
            },
            "type": "mesh3d"
           }
          ],
          "parcoords": [
           {
            "line": {
             "colorbar": {
              "outlinewidth": 0,
              "ticks": ""
             }
            },
            "type": "parcoords"
           }
          ],
          "pie": [
           {
            "automargin": true,
            "type": "pie"
           }
          ],
          "scatter": [
           {
            "fillpattern": {
             "fillmode": "overlay",
             "size": 10,
             "solidity": 0.2
            },
            "type": "scatter"
           }
          ],
          "scatter3d": [
           {
            "line": {
             "colorbar": {
              "outlinewidth": 0,
              "ticks": ""
             }
            },
            "marker": {
             "colorbar": {
              "outlinewidth": 0,
              "ticks": ""
             }
            },
            "type": "scatter3d"
           }
          ],
          "scattercarpet": [
           {
            "marker": {
             "colorbar": {
              "outlinewidth": 0,
              "ticks": ""
             }
            },
            "type": "scattercarpet"
           }
          ],
          "scattergeo": [
           {
            "marker": {
             "colorbar": {
              "outlinewidth": 0,
              "ticks": ""
             }
            },
            "type": "scattergeo"
           }
          ],
          "scattergl": [
           {
            "marker": {
             "colorbar": {
              "outlinewidth": 0,
              "ticks": ""
             }
            },
            "type": "scattergl"
           }
          ],
          "scattermapbox": [
           {
            "marker": {
             "colorbar": {
              "outlinewidth": 0,
              "ticks": ""
             }
            },
            "type": "scattermapbox"
           }
          ],
          "scatterpolar": [
           {
            "marker": {
             "colorbar": {
              "outlinewidth": 0,
              "ticks": ""
             }
            },
            "type": "scatterpolar"
           }
          ],
          "scatterpolargl": [
           {
            "marker": {
             "colorbar": {
              "outlinewidth": 0,
              "ticks": ""
             }
            },
            "type": "scatterpolargl"
           }
          ],
          "scatterternary": [
           {
            "marker": {
             "colorbar": {
              "outlinewidth": 0,
              "ticks": ""
             }
            },
            "type": "scatterternary"
           }
          ],
          "surface": [
           {
            "colorbar": {
             "outlinewidth": 0,
             "ticks": ""
            },
            "colorscale": [
             [
              0,
              "#0d0887"
             ],
             [
              0.1111111111111111,
              "#46039f"
             ],
             [
              0.2222222222222222,
              "#7201a8"
             ],
             [
              0.3333333333333333,
              "#9c179e"
             ],
             [
              0.4444444444444444,
              "#bd3786"
             ],
             [
              0.5555555555555556,
              "#d8576b"
             ],
             [
              0.6666666666666666,
              "#ed7953"
             ],
             [
              0.7777777777777778,
              "#fb9f3a"
             ],
             [
              0.8888888888888888,
              "#fdca26"
             ],
             [
              1,
              "#f0f921"
             ]
            ],
            "type": "surface"
           }
          ],
          "table": [
           {
            "cells": {
             "fill": {
              "color": "#EBF0F8"
             },
             "line": {
              "color": "white"
             }
            },
            "header": {
             "fill": {
              "color": "#C8D4E3"
             },
             "line": {
              "color": "white"
             }
            },
            "type": "table"
           }
          ]
         },
         "layout": {
          "annotationdefaults": {
           "arrowcolor": "#2a3f5f",
           "arrowhead": 0,
           "arrowwidth": 1
          },
          "autotypenumbers": "strict",
          "coloraxis": {
           "colorbar": {
            "outlinewidth": 0,
            "ticks": ""
           }
          },
          "colorscale": {
           "diverging": [
            [
             0,
             "#8e0152"
            ],
            [
             0.1,
             "#c51b7d"
            ],
            [
             0.2,
             "#de77ae"
            ],
            [
             0.3,
             "#f1b6da"
            ],
            [
             0.4,
             "#fde0ef"
            ],
            [
             0.5,
             "#f7f7f7"
            ],
            [
             0.6,
             "#e6f5d0"
            ],
            [
             0.7,
             "#b8e186"
            ],
            [
             0.8,
             "#7fbc41"
            ],
            [
             0.9,
             "#4d9221"
            ],
            [
             1,
             "#276419"
            ]
           ],
           "sequential": [
            [
             0,
             "#0d0887"
            ],
            [
             0.1111111111111111,
             "#46039f"
            ],
            [
             0.2222222222222222,
             "#7201a8"
            ],
            [
             0.3333333333333333,
             "#9c179e"
            ],
            [
             0.4444444444444444,
             "#bd3786"
            ],
            [
             0.5555555555555556,
             "#d8576b"
            ],
            [
             0.6666666666666666,
             "#ed7953"
            ],
            [
             0.7777777777777778,
             "#fb9f3a"
            ],
            [
             0.8888888888888888,
             "#fdca26"
            ],
            [
             1,
             "#f0f921"
            ]
           ],
           "sequentialminus": [
            [
             0,
             "#0d0887"
            ],
            [
             0.1111111111111111,
             "#46039f"
            ],
            [
             0.2222222222222222,
             "#7201a8"
            ],
            [
             0.3333333333333333,
             "#9c179e"
            ],
            [
             0.4444444444444444,
             "#bd3786"
            ],
            [
             0.5555555555555556,
             "#d8576b"
            ],
            [
             0.6666666666666666,
             "#ed7953"
            ],
            [
             0.7777777777777778,
             "#fb9f3a"
            ],
            [
             0.8888888888888888,
             "#fdca26"
            ],
            [
             1,
             "#f0f921"
            ]
           ]
          },
          "colorway": [
           "#636efa",
           "#EF553B",
           "#00cc96",
           "#ab63fa",
           "#FFA15A",
           "#19d3f3",
           "#FF6692",
           "#B6E880",
           "#FF97FF",
           "#FECB52"
          ],
          "font": {
           "color": "#2a3f5f"
          },
          "geo": {
           "bgcolor": "white",
           "lakecolor": "white",
           "landcolor": "#E5ECF6",
           "showlakes": true,
           "showland": true,
           "subunitcolor": "white"
          },
          "hoverlabel": {
           "align": "left"
          },
          "hovermode": "closest",
          "mapbox": {
           "style": "light"
          },
          "paper_bgcolor": "white",
          "plot_bgcolor": "#E5ECF6",
          "polar": {
           "angularaxis": {
            "gridcolor": "white",
            "linecolor": "white",
            "ticks": ""
           },
           "bgcolor": "#E5ECF6",
           "radialaxis": {
            "gridcolor": "white",
            "linecolor": "white",
            "ticks": ""
           }
          },
          "scene": {
           "xaxis": {
            "backgroundcolor": "#E5ECF6",
            "gridcolor": "white",
            "gridwidth": 2,
            "linecolor": "white",
            "showbackground": true,
            "ticks": "",
            "zerolinecolor": "white"
           },
           "yaxis": {
            "backgroundcolor": "#E5ECF6",
            "gridcolor": "white",
            "gridwidth": 2,
            "linecolor": "white",
            "showbackground": true,
            "ticks": "",
            "zerolinecolor": "white"
           },
           "zaxis": {
            "backgroundcolor": "#E5ECF6",
            "gridcolor": "white",
            "gridwidth": 2,
            "linecolor": "white",
            "showbackground": true,
            "ticks": "",
            "zerolinecolor": "white"
           }
          },
          "shapedefaults": {
           "line": {
            "color": "#2a3f5f"
           }
          },
          "ternary": {
           "aaxis": {
            "gridcolor": "white",
            "linecolor": "white",
            "ticks": ""
           },
           "baxis": {
            "gridcolor": "white",
            "linecolor": "white",
            "ticks": ""
           },
           "bgcolor": "#E5ECF6",
           "caxis": {
            "gridcolor": "white",
            "linecolor": "white",
            "ticks": ""
           }
          },
          "title": {
           "x": 0.05
          },
          "xaxis": {
           "automargin": true,
           "gridcolor": "white",
           "linecolor": "white",
           "ticks": "",
           "title": {
            "standoff": 15
           },
           "zerolinecolor": "white",
           "zerolinewidth": 2
          },
          "yaxis": {
           "automargin": true,
           "gridcolor": "white",
           "linecolor": "white",
           "ticks": "",
           "title": {
            "standoff": 15
           },
           "zerolinecolor": "white",
           "zerolinewidth": 2
          }
         }
        }
       }
      },
      "text/html": [
       "<div>                            <div id=\"9f1d0590-5d57-43c4-b14e-ad4ee9bdd14f\" class=\"plotly-graph-div\" style=\"height:525px; width:100%;\"></div>            <script type=\"text/javascript\">                require([\"plotly\"], function(Plotly) {                    window.PLOTLYENV=window.PLOTLYENV || {};                                    if (document.getElementById(\"9f1d0590-5d57-43c4-b14e-ad4ee9bdd14f\")) {                    Plotly.newPlot(                        \"9f1d0590-5d57-43c4-b14e-ad4ee9bdd14f\",                        [{\"branchvalues\":\"total\",\"customdata\":[[24.0],[28.0],[19.0],[27.0],[15.0],[15.0],[15.0],[22.0],[23.0],[13.0],[25.0],[27.0],[9.0],[10.0],[14.0],[18.0],[29.0],[16.0],[21.0],[24.0],[9.0],[16.0],[19.0],[13.0],[16.0],[29.0],[13.0],[22.0],[11.0],[9.0],[20.0],[30.0],[24.0],[26.0],[26.0],[29.0],[12.0],[10.0],[19.0],[17.0],[18.74496644295302],[27.95617529880478],[12.99],[23.475609756097562]],\"domain\":{\"x\":[0.0,1.0],\"y\":[0.0,1.0]},\"hovertemplate\":\"labels=%{label}<br>Provider Experience_sum=%{value}<br>parent=%{parent}<br>id=%{id}<br>Provider Experience=%{color}<extra></extra>\",\"ids\":[\"Surgery/Abigail Marriot\",\"Pediatrics/Ala Bama\",\"Cardiology/Bailey Barret\",\"Pediatrics/Barry Bar\",\"PrimaryCare/Brenda Bing\",\"PrimaryCare/Bridget Brenda\",\"PrimaryCare/Chandler Bing\",\"Surgery/Christian Saint\",\"Surgery/Dave Yu\",\"PrimaryCare/Dwight Scott\",\"Surgery/Fred Man\",\"Pediatrics/Harry Kane\",\"PrimaryCare/Harry West\",\"PrimaryCare/Holly Hue\",\"PrimaryCare/Joesph Ross\",\"Cardiology/Joesph Walter\",\"Pediatrics/Jordan Michael\",\"PrimaryCare/Justin Time\",\"Cardiology/Kent Kendall\",\"Surgery/Kim Kimberly\",\"PrimaryCare/Kimberly Cone\",\"Cardiology/Luke Long\",\"Cardiology/Megan Bonco\",\"PrimaryCare/Michael Halpert\",\"PrimaryCare/Mike Joseph\",\"Pediatrics/Mike Myers\",\"PrimaryCare/Pamela Ding\",\"Surgery/Perry Pardon\",\"PrimaryCare/Phyllis Stanley\",\"PrimaryCare/Rosie Renter\",\"Cardiology/Ryan Kevin\",\"Pediatrics/Sally Sue\",\"Surgery/Sarah Ab\",\"Pediatrics/Ted Black\",\"Pediatrics/Ted Green\",\"Pediatrics/Ted Texas\",\"PrimaryCare/Tony Creed\",\"PrimaryCare/Trent Tye\",\"Cardiology/Tyler Conner\",\"Cardiology/Walter King\",\"Cardiology\",\"Pediatrics\",\"PrimaryCare\",\"Surgery\"],\"labels\":[\"Abigail Marriot\",\"Ala Bama\",\"Bailey Barret\",\"Barry Bar\",\"Brenda Bing\",\"Bridget Brenda\",\"Chandler Bing\",\"Christian Saint\",\"Dave Yu\",\"Dwight Scott\",\"Fred Man\",\"Harry Kane\",\"Harry West\",\"Holly Hue\",\"Joesph Ross\",\"Joesph Walter\",\"Jordan Michael\",\"Justin Time\",\"Kent Kendall\",\"Kim Kimberly\",\"Kimberly Cone\",\"Luke Long\",\"Megan Bonco\",\"Michael Halpert\",\"Mike Joseph\",\"Mike Myers\",\"Pamela Ding\",\"Perry Pardon\",\"Phyllis Stanley\",\"Rosie Renter\",\"Ryan Kevin\",\"Sally Sue\",\"Sarah Ab\",\"Ted Black\",\"Ted Green\",\"Ted Texas\",\"Tony Creed\",\"Trent Tye\",\"Tyler Conner\",\"Walter King\",\"Cardiology\",\"Pediatrics\",\"PrimaryCare\",\"Surgery\"],\"marker\":{\"coloraxis\":\"coloraxis\",\"colors\":[24.0,28.0,19.0,27.0,15.0,15.0,15.0,22.0,23.0,13.0,25.0,27.0,9.0,10.0,14.0,18.0,29.0,16.0,21.0,24.0,9.0,16.0,19.0,13.0,16.0,29.0,13.0,22.0,11.0,9.0,20.0,30.0,24.0,26.0,26.0,29.0,12.0,10.0,19.0,17.0,18.74496644295302,27.95617529880478,12.99,23.475609756097562]},\"name\":\"\",\"parents\":[\"Surgery\",\"Pediatrics\",\"Cardiology\",\"Pediatrics\",\"PrimaryCare\",\"PrimaryCare\",\"PrimaryCare\",\"Surgery\",\"Surgery\",\"PrimaryCare\",\"Surgery\",\"Pediatrics\",\"PrimaryCare\",\"PrimaryCare\",\"PrimaryCare\",\"Cardiology\",\"Pediatrics\",\"PrimaryCare\",\"Cardiology\",\"Surgery\",\"PrimaryCare\",\"Cardiology\",\"Cardiology\",\"PrimaryCare\",\"PrimaryCare\",\"Pediatrics\",\"PrimaryCare\",\"Surgery\",\"PrimaryCare\",\"PrimaryCare\",\"Cardiology\",\"Pediatrics\",\"Surgery\",\"Pediatrics\",\"Pediatrics\",\"Pediatrics\",\"PrimaryCare\",\"PrimaryCare\",\"Cardiology\",\"Cardiology\",\"\",\"\",\"\",\"\"],\"values\":[24,28,19,27,15,15,15,22,23,13,25,27,9,10,14,18,29,16,21,24,9,16,19,13,16,29,13,22,11,9,20,30,24,26,26,29,12,10,19,17,149,251,200,164],\"type\":\"sunburst\"}],                        {\"template\":{\"data\":{\"histogram2dcontour\":[{\"type\":\"histogram2dcontour\",\"colorbar\":{\"outlinewidth\":0,\"ticks\":\"\"},\"colorscale\":[[0.0,\"#0d0887\"],[0.1111111111111111,\"#46039f\"],[0.2222222222222222,\"#7201a8\"],[0.3333333333333333,\"#9c179e\"],[0.4444444444444444,\"#bd3786\"],[0.5555555555555556,\"#d8576b\"],[0.6666666666666666,\"#ed7953\"],[0.7777777777777778,\"#fb9f3a\"],[0.8888888888888888,\"#fdca26\"],[1.0,\"#f0f921\"]]}],\"choropleth\":[{\"type\":\"choropleth\",\"colorbar\":{\"outlinewidth\":0,\"ticks\":\"\"}}],\"histogram2d\":[{\"type\":\"histogram2d\",\"colorbar\":{\"outlinewidth\":0,\"ticks\":\"\"},\"colorscale\":[[0.0,\"#0d0887\"],[0.1111111111111111,\"#46039f\"],[0.2222222222222222,\"#7201a8\"],[0.3333333333333333,\"#9c179e\"],[0.4444444444444444,\"#bd3786\"],[0.5555555555555556,\"#d8576b\"],[0.6666666666666666,\"#ed7953\"],[0.7777777777777778,\"#fb9f3a\"],[0.8888888888888888,\"#fdca26\"],[1.0,\"#f0f921\"]]}],\"heatmap\":[{\"type\":\"heatmap\",\"colorbar\":{\"outlinewidth\":0,\"ticks\":\"\"},\"colorscale\":[[0.0,\"#0d0887\"],[0.1111111111111111,\"#46039f\"],[0.2222222222222222,\"#7201a8\"],[0.3333333333333333,\"#9c179e\"],[0.4444444444444444,\"#bd3786\"],[0.5555555555555556,\"#d8576b\"],[0.6666666666666666,\"#ed7953\"],[0.7777777777777778,\"#fb9f3a\"],[0.8888888888888888,\"#fdca26\"],[1.0,\"#f0f921\"]]}],\"heatmapgl\":[{\"type\":\"heatmapgl\",\"colorbar\":{\"outlinewidth\":0,\"ticks\":\"\"},\"colorscale\":[[0.0,\"#0d0887\"],[0.1111111111111111,\"#46039f\"],[0.2222222222222222,\"#7201a8\"],[0.3333333333333333,\"#9c179e\"],[0.4444444444444444,\"#bd3786\"],[0.5555555555555556,\"#d8576b\"],[0.6666666666666666,\"#ed7953\"],[0.7777777777777778,\"#fb9f3a\"],[0.8888888888888888,\"#fdca26\"],[1.0,\"#f0f921\"]]}],\"contourcarpet\":[{\"type\":\"contourcarpet\",\"colorbar\":{\"outlinewidth\":0,\"ticks\":\"\"}}],\"contour\":[{\"type\":\"contour\",\"colorbar\":{\"outlinewidth\":0,\"ticks\":\"\"},\"colorscale\":[[0.0,\"#0d0887\"],[0.1111111111111111,\"#46039f\"],[0.2222222222222222,\"#7201a8\"],[0.3333333333333333,\"#9c179e\"],[0.4444444444444444,\"#bd3786\"],[0.5555555555555556,\"#d8576b\"],[0.6666666666666666,\"#ed7953\"],[0.7777777777777778,\"#fb9f3a\"],[0.8888888888888888,\"#fdca26\"],[1.0,\"#f0f921\"]]}],\"surface\":[{\"type\":\"surface\",\"colorbar\":{\"outlinewidth\":0,\"ticks\":\"\"},\"colorscale\":[[0.0,\"#0d0887\"],[0.1111111111111111,\"#46039f\"],[0.2222222222222222,\"#7201a8\"],[0.3333333333333333,\"#9c179e\"],[0.4444444444444444,\"#bd3786\"],[0.5555555555555556,\"#d8576b\"],[0.6666666666666666,\"#ed7953\"],[0.7777777777777778,\"#fb9f3a\"],[0.8888888888888888,\"#fdca26\"],[1.0,\"#f0f921\"]]}],\"mesh3d\":[{\"type\":\"mesh3d\",\"colorbar\":{\"outlinewidth\":0,\"ticks\":\"\"}}],\"scatter\":[{\"fillpattern\":{\"fillmode\":\"overlay\",\"size\":10,\"solidity\":0.2},\"type\":\"scatter\"}],\"parcoords\":[{\"type\":\"parcoords\",\"line\":{\"colorbar\":{\"outlinewidth\":0,\"ticks\":\"\"}}}],\"scatterpolargl\":[{\"type\":\"scatterpolargl\",\"marker\":{\"colorbar\":{\"outlinewidth\":0,\"ticks\":\"\"}}}],\"bar\":[{\"error_x\":{\"color\":\"#2a3f5f\"},\"error_y\":{\"color\":\"#2a3f5f\"},\"marker\":{\"line\":{\"color\":\"#E5ECF6\",\"width\":0.5},\"pattern\":{\"fillmode\":\"overlay\",\"size\":10,\"solidity\":0.2}},\"type\":\"bar\"}],\"scattergeo\":[{\"type\":\"scattergeo\",\"marker\":{\"colorbar\":{\"outlinewidth\":0,\"ticks\":\"\"}}}],\"scatterpolar\":[{\"type\":\"scatterpolar\",\"marker\":{\"colorbar\":{\"outlinewidth\":0,\"ticks\":\"\"}}}],\"histogram\":[{\"marker\":{\"pattern\":{\"fillmode\":\"overlay\",\"size\":10,\"solidity\":0.2}},\"type\":\"histogram\"}],\"scattergl\":[{\"type\":\"scattergl\",\"marker\":{\"colorbar\":{\"outlinewidth\":0,\"ticks\":\"\"}}}],\"scatter3d\":[{\"type\":\"scatter3d\",\"line\":{\"colorbar\":{\"outlinewidth\":0,\"ticks\":\"\"}},\"marker\":{\"colorbar\":{\"outlinewidth\":0,\"ticks\":\"\"}}}],\"scattermapbox\":[{\"type\":\"scattermapbox\",\"marker\":{\"colorbar\":{\"outlinewidth\":0,\"ticks\":\"\"}}}],\"scatterternary\":[{\"type\":\"scatterternary\",\"marker\":{\"colorbar\":{\"outlinewidth\":0,\"ticks\":\"\"}}}],\"scattercarpet\":[{\"type\":\"scattercarpet\",\"marker\":{\"colorbar\":{\"outlinewidth\":0,\"ticks\":\"\"}}}],\"carpet\":[{\"aaxis\":{\"endlinecolor\":\"#2a3f5f\",\"gridcolor\":\"white\",\"linecolor\":\"white\",\"minorgridcolor\":\"white\",\"startlinecolor\":\"#2a3f5f\"},\"baxis\":{\"endlinecolor\":\"#2a3f5f\",\"gridcolor\":\"white\",\"linecolor\":\"white\",\"minorgridcolor\":\"white\",\"startlinecolor\":\"#2a3f5f\"},\"type\":\"carpet\"}],\"table\":[{\"cells\":{\"fill\":{\"color\":\"#EBF0F8\"},\"line\":{\"color\":\"white\"}},\"header\":{\"fill\":{\"color\":\"#C8D4E3\"},\"line\":{\"color\":\"white\"}},\"type\":\"table\"}],\"barpolar\":[{\"marker\":{\"line\":{\"color\":\"#E5ECF6\",\"width\":0.5},\"pattern\":{\"fillmode\":\"overlay\",\"size\":10,\"solidity\":0.2}},\"type\":\"barpolar\"}],\"pie\":[{\"automargin\":true,\"type\":\"pie\"}]},\"layout\":{\"autotypenumbers\":\"strict\",\"colorway\":[\"#636efa\",\"#EF553B\",\"#00cc96\",\"#ab63fa\",\"#FFA15A\",\"#19d3f3\",\"#FF6692\",\"#B6E880\",\"#FF97FF\",\"#FECB52\"],\"font\":{\"color\":\"#2a3f5f\"},\"hovermode\":\"closest\",\"hoverlabel\":{\"align\":\"left\"},\"paper_bgcolor\":\"white\",\"plot_bgcolor\":\"#E5ECF6\",\"polar\":{\"bgcolor\":\"#E5ECF6\",\"angularaxis\":{\"gridcolor\":\"white\",\"linecolor\":\"white\",\"ticks\":\"\"},\"radialaxis\":{\"gridcolor\":\"white\",\"linecolor\":\"white\",\"ticks\":\"\"}},\"ternary\":{\"bgcolor\":\"#E5ECF6\",\"aaxis\":{\"gridcolor\":\"white\",\"linecolor\":\"white\",\"ticks\":\"\"},\"baxis\":{\"gridcolor\":\"white\",\"linecolor\":\"white\",\"ticks\":\"\"},\"caxis\":{\"gridcolor\":\"white\",\"linecolor\":\"white\",\"ticks\":\"\"}},\"coloraxis\":{\"colorbar\":{\"outlinewidth\":0,\"ticks\":\"\"}},\"colorscale\":{\"sequential\":[[0.0,\"#0d0887\"],[0.1111111111111111,\"#46039f\"],[0.2222222222222222,\"#7201a8\"],[0.3333333333333333,\"#9c179e\"],[0.4444444444444444,\"#bd3786\"],[0.5555555555555556,\"#d8576b\"],[0.6666666666666666,\"#ed7953\"],[0.7777777777777778,\"#fb9f3a\"],[0.8888888888888888,\"#fdca26\"],[1.0,\"#f0f921\"]],\"sequentialminus\":[[0.0,\"#0d0887\"],[0.1111111111111111,\"#46039f\"],[0.2222222222222222,\"#7201a8\"],[0.3333333333333333,\"#9c179e\"],[0.4444444444444444,\"#bd3786\"],[0.5555555555555556,\"#d8576b\"],[0.6666666666666666,\"#ed7953\"],[0.7777777777777778,\"#fb9f3a\"],[0.8888888888888888,\"#fdca26\"],[1.0,\"#f0f921\"]],\"diverging\":[[0,\"#8e0152\"],[0.1,\"#c51b7d\"],[0.2,\"#de77ae\"],[0.3,\"#f1b6da\"],[0.4,\"#fde0ef\"],[0.5,\"#f7f7f7\"],[0.6,\"#e6f5d0\"],[0.7,\"#b8e186\"],[0.8,\"#7fbc41\"],[0.9,\"#4d9221\"],[1,\"#276419\"]]},\"xaxis\":{\"gridcolor\":\"white\",\"linecolor\":\"white\",\"ticks\":\"\",\"title\":{\"standoff\":15},\"zerolinecolor\":\"white\",\"automargin\":true,\"zerolinewidth\":2},\"yaxis\":{\"gridcolor\":\"white\",\"linecolor\":\"white\",\"ticks\":\"\",\"title\":{\"standoff\":15},\"zerolinecolor\":\"white\",\"automargin\":true,\"zerolinewidth\":2},\"scene\":{\"xaxis\":{\"backgroundcolor\":\"#E5ECF6\",\"gridcolor\":\"white\",\"linecolor\":\"white\",\"showbackground\":true,\"ticks\":\"\",\"zerolinecolor\":\"white\",\"gridwidth\":2},\"yaxis\":{\"backgroundcolor\":\"#E5ECF6\",\"gridcolor\":\"white\",\"linecolor\":\"white\",\"showbackground\":true,\"ticks\":\"\",\"zerolinecolor\":\"white\",\"gridwidth\":2},\"zaxis\":{\"backgroundcolor\":\"#E5ECF6\",\"gridcolor\":\"white\",\"linecolor\":\"white\",\"showbackground\":true,\"ticks\":\"\",\"zerolinecolor\":\"white\",\"gridwidth\":2}},\"shapedefaults\":{\"line\":{\"color\":\"#2a3f5f\"}},\"annotationdefaults\":{\"arrowcolor\":\"#2a3f5f\",\"arrowhead\":0,\"arrowwidth\":1},\"geo\":{\"bgcolor\":\"white\",\"landcolor\":\"#E5ECF6\",\"subunitcolor\":\"white\",\"showland\":true,\"showlakes\":true,\"lakecolor\":\"white\"},\"title\":{\"x\":0.05},\"mapbox\":{\"style\":\"light\"}}},\"coloraxis\":{\"colorbar\":{\"title\":{\"text\":\"Provider Experience\"}},\"colorscale\":[[0.0,\"rgb(75, 41, 145)\"],[0.16666666666666666,\"rgb(135, 44, 162)\"],[0.3333333333333333,\"rgb(192, 54, 157)\"],[0.5,\"rgb(234, 79, 136)\"],[0.6666666666666666,\"rgb(250, 120, 118)\"],[0.8333333333333334,\"rgb(246, 169, 122)\"],[1.0,\"rgb(237, 217, 163)\"]]},\"legend\":{\"tracegroupgap\":0},\"margin\":{\"t\":60}},                        {\"responsive\": true}                    ).then(function(){\n",
       "                            \n",
       "var gd = document.getElementById('9f1d0590-5d57-43c4-b14e-ad4ee9bdd14f');\n",
       "var x = new MutationObserver(function (mutations, observer) {{\n",
       "        var display = window.getComputedStyle(gd).display;\n",
       "        if (!display || display === 'none') {{\n",
       "            console.log([gd, 'removed!']);\n",
       "            Plotly.purge(gd);\n",
       "            observer.disconnect();\n",
       "        }}\n",
       "}});\n",
       "\n",
       "// Listen for the removal of the full notebook cells\n",
       "var notebookContainer = gd.closest('#notebook-container');\n",
       "if (notebookContainer) {{\n",
       "    x.observe(notebookContainer, {childList: true});\n",
       "}}\n",
       "\n",
       "// Listen for the clearing of the current output cell\n",
       "var outputEl = gd.closest('.output');\n",
       "if (outputEl) {{\n",
       "    x.observe(outputEl, {childList: true});\n",
       "}}\n",
       "\n",
       "                        })                };                });            </script>        </div>"
      ]
     },
     "metadata": {},
     "output_type": "display_data"
    }
   ],
   "source": [
    "#8.Using Sunburst chart display the providers name by thier provider speciality, considering thier experience.\n",
    "#--------------------------------------------------------------------------------------------------------------\n",
    "import plotly.express as px\n",
    "from datetime import date, datetime\n",
    "# This function converts given date to experience\n",
    "def experience(datejoin):\n",
    "    today = date.today() \n",
    "    return today.year - datejoin.year - ((today.month,\n",
    "                                      today.day) < (datejoin.month,\n",
    "                                                    datejoin.day))\n",
    "df6['Provider Experience'] = df6['ProviderDateOnStaff'].apply(experience)\n",
    "df6\n",
    "df = df6\n",
    "px.sunburst(df, path=['ProviderSpecialty','ProviderName'], values='Provider Experience', color='Provider Experience', color_continuous_scale='agsunset')"
   ]
  },
  {
   "cell_type": "code",
   "execution_count": 78,
   "id": "3163994e",
   "metadata": {},
   "outputs": [
    {
     "data": {
      "image/png": "[encoded data removed]",
      "text/plain": [
       "<Figure size 640x480 with 1 Axes>"
      ]
     },
     "metadata": {},
     "output_type": "display_data"
    }
   ],
   "source": [
    "#9.Create a subplot on x = np.arange(0, 10, 0.1) , y = np.sin(np.pi * x) + x with 2 rows & 2 columns with object oriented approach.\n",
    "#----------------------------------------------------------------------------------------------------------------------------------\n",
    "import matplotlib.pyplot as plt\n",
    "import numpy as np\n",
    "x = np.arange(0, 10, 0.1)\n",
    "y = np.sin(np.pi * x) + x\n",
    "plt.subplot(2, 2,1)\n",
    "plt.plot(x,y,color=('pink'))\n",
    "plt.show()"
   ]
  },
  {
   "cell_type": "code",
   "execution_count": 8,
   "id": "6698f604",
   "metadata": {},
   "outputs": [
    {
     "data": {
      "text/html": [
       "<div>\n",
       "<style scoped>\n",
       "    .dataframe tbody tr th:only-of-type {\n",
       "        vertical-align: middle;\n",
       "    }\n",
       "\n",
       "    .dataframe tbody tr th {\n",
       "        vertical-align: top;\n",
       "    }\n",
       "\n",
       "    .dataframe thead th {\n",
       "        text-align: right;\n",
       "    }\n",
       "</style>\n",
       "<table border=\"1\" class=\"dataframe\">\n",
       "  <thead>\n",
       "    <tr style=\"text-align: right;\">\n",
       "      <th>EDDisposition</th>\n",
       "      <th>Admitted</th>\n",
       "      <th>Discharged</th>\n",
       "    </tr>\n",
       "    <tr>\n",
       "      <th>ReasonForVisit</th>\n",
       "      <th></th>\n",
       "      <th></th>\n",
       "    </tr>\n",
       "  </thead>\n",
       "  <tbody>\n",
       "    <tr>\n",
       "      <th>Accident</th>\n",
       "      <td>39.0</td>\n",
       "      <td>NaN</td>\n",
       "    </tr>\n",
       "    <tr>\n",
       "      <th>Bleeding</th>\n",
       "      <td>16.0</td>\n",
       "      <td>15.0</td>\n",
       "    </tr>\n",
       "    <tr>\n",
       "      <th>Car Accident</th>\n",
       "      <td>17.0</td>\n",
       "      <td>NaN</td>\n",
       "    </tr>\n",
       "    <tr>\n",
       "      <th>Chest Pain</th>\n",
       "      <td>94.0</td>\n",
       "      <td>15.0</td>\n",
       "    </tr>\n",
       "    <tr>\n",
       "      <th>Cough</th>\n",
       "      <td>NaN</td>\n",
       "      <td>1.0</td>\n",
       "    </tr>\n",
       "    <tr>\n",
       "      <th>Fever</th>\n",
       "      <td>46.0</td>\n",
       "      <td>188.0</td>\n",
       "    </tr>\n",
       "    <tr>\n",
       "      <th>Gun Shot</th>\n",
       "      <td>16.0</td>\n",
       "      <td>NaN</td>\n",
       "    </tr>\n",
       "    <tr>\n",
       "      <th>Intoxication</th>\n",
       "      <td>NaN</td>\n",
       "      <td>30.0</td>\n",
       "    </tr>\n",
       "    <tr>\n",
       "      <th>Laceration</th>\n",
       "      <td>NaN</td>\n",
       "      <td>30.0</td>\n",
       "    </tr>\n",
       "    <tr>\n",
       "      <th>Migraine</th>\n",
       "      <td>47.0</td>\n",
       "      <td>109.0</td>\n",
       "    </tr>\n",
       "    <tr>\n",
       "      <th>Pneumonia</th>\n",
       "      <td>136.0</td>\n",
       "      <td>65.0</td>\n",
       "    </tr>\n",
       "    <tr>\n",
       "      <th>Shortness of Breath</th>\n",
       "      <td>72.0</td>\n",
       "      <td>77.0</td>\n",
       "    </tr>\n",
       "    <tr>\n",
       "      <th>Stomach Ache</th>\n",
       "      <td>32.0</td>\n",
       "      <td>154.0</td>\n",
       "    </tr>\n",
       "  </tbody>\n",
       "</table>\n",
       "</div>"
      ],
      "text/plain": [
       "EDDisposition        Admitted  Discharged\n",
       "ReasonForVisit                           \n",
       "Accident                 39.0         NaN\n",
       "Bleeding                 16.0        15.0\n",
       "Car Accident             17.0         NaN\n",
       "Chest Pain               94.0        15.0\n",
       "Cough                     NaN         1.0\n",
       "Fever                    46.0       188.0\n",
       "Gun Shot                 16.0         NaN\n",
       "Intoxication              NaN        30.0\n",
       "Laceration                NaN        30.0\n",
       "Migraine                 47.0       109.0\n",
       "Pneumonia               136.0        65.0\n",
       "Shortness of Breath      72.0        77.0\n",
       "Stomach Ache             32.0       154.0"
      ]
     },
     "execution_count": 8,
     "metadata": {},
     "output_type": "execute_result"
    }
   ],
   "source": [
    "#10.Get the number of patients based on ReasonForVisit and EDDisposition (use stack/unstack functions).\n",
    "#------------------------------------------------------------------------------------------------------\n",
    "df2.groupby([\"ReasonForVisit\",\"EDDisposition\"])[\"PatientID\"].count().unstack(level=-1)"
   ]
  },
  {
   "cell_type": "code",
   "execution_count": 62,
   "id": "16ec0092",
   "metadata": {},
   "outputs": [
    {
     "data": {
      "text/html": [
       "<div>\n",
       "<style scoped>\n",
       "    .dataframe tbody tr th:only-of-type {\n",
       "        vertical-align: middle;\n",
       "    }\n",
       "\n",
       "    .dataframe tbody tr th {\n",
       "        vertical-align: top;\n",
       "    }\n",
       "\n",
       "    .dataframe thead th {\n",
       "        text-align: right;\n",
       "    }\n",
       "</style>\n",
       "<table border=\"1\" class=\"dataframe\">\n",
       "  <thead>\n",
       "    <tr style=\"text-align: right;\">\n",
       "      <th></th>\n",
       "      <th>time</th>\n",
       "      <th>year</th>\n",
       "      <th>month</th>\n",
       "      <th>day</th>\n",
       "      <th>hour</th>\n",
       "      <th>minute</th>\n",
       "    </tr>\n",
       "  </thead>\n",
       "  <tbody>\n",
       "    <tr>\n",
       "      <th>0</th>\n",
       "      <td>2018-01-04 19:59:31.391</td>\n",
       "      <td>2018</td>\n",
       "      <td>1</td>\n",
       "      <td>4</td>\n",
       "      <td>19</td>\n",
       "      <td>59</td>\n",
       "    </tr>\n",
       "    <tr>\n",
       "      <th>1</th>\n",
       "      <td>2018-01-04 21:28:51.898</td>\n",
       "      <td>2018</td>\n",
       "      <td>1</td>\n",
       "      <td>4</td>\n",
       "      <td>21</td>\n",
       "      <td>28</td>\n",
       "    </tr>\n",
       "    <tr>\n",
       "      <th>2</th>\n",
       "      <td>2018-01-04 22:28:23.672</td>\n",
       "      <td>2018</td>\n",
       "      <td>1</td>\n",
       "      <td>4</td>\n",
       "      <td>22</td>\n",
       "      <td>28</td>\n",
       "    </tr>\n",
       "    <tr>\n",
       "      <th>3</th>\n",
       "      <td>2018-01-05 05:47:04.933</td>\n",
       "      <td>2018</td>\n",
       "      <td>1</td>\n",
       "      <td>5</td>\n",
       "      <td>5</td>\n",
       "      <td>47</td>\n",
       "    </tr>\n",
       "    <tr>\n",
       "      <th>4</th>\n",
       "      <td>2018-01-05 14:18:30.029</td>\n",
       "      <td>2018</td>\n",
       "      <td>1</td>\n",
       "      <td>5</td>\n",
       "      <td>14</td>\n",
       "      <td>18</td>\n",
       "    </tr>\n",
       "    <tr>\n",
       "      <th>...</th>\n",
       "      <td>...</td>\n",
       "      <td>...</td>\n",
       "      <td>...</td>\n",
       "      <td>...</td>\n",
       "      <td>...</td>\n",
       "      <td>...</td>\n",
       "    </tr>\n",
       "    <tr>\n",
       "      <th>715</th>\n",
       "      <td>2018-03-07 21:22:10.061</td>\n",
       "      <td>2018</td>\n",
       "      <td>3</td>\n",
       "      <td>7</td>\n",
       "      <td>21</td>\n",
       "      <td>22</td>\n",
       "    </tr>\n",
       "    <tr>\n",
       "      <th>716</th>\n",
       "      <td>2018-03-08 02:43:18.749</td>\n",
       "      <td>2018</td>\n",
       "      <td>3</td>\n",
       "      <td>8</td>\n",
       "      <td>2</td>\n",
       "      <td>43</td>\n",
       "    </tr>\n",
       "    <tr>\n",
       "      <th>717</th>\n",
       "      <td>2018-03-08 09:27:18.377</td>\n",
       "      <td>2018</td>\n",
       "      <td>3</td>\n",
       "      <td>8</td>\n",
       "      <td>9</td>\n",
       "      <td>27</td>\n",
       "    </tr>\n",
       "    <tr>\n",
       "      <th>718</th>\n",
       "      <td>2018-03-10 06:06:12.068</td>\n",
       "      <td>2018</td>\n",
       "      <td>3</td>\n",
       "      <td>10</td>\n",
       "      <td>6</td>\n",
       "      <td>6</td>\n",
       "    </tr>\n",
       "    <tr>\n",
       "      <th>719</th>\n",
       "      <td>2018-03-10 20:38:30.568</td>\n",
       "      <td>2018</td>\n",
       "      <td>3</td>\n",
       "      <td>10</td>\n",
       "      <td>20</td>\n",
       "      <td>38</td>\n",
       "    </tr>\n",
       "  </tbody>\n",
       "</table>\n",
       "<p>720 rows × 6 columns</p>\n",
       "</div>"
      ],
      "text/plain": [
       "                       time  year  month  day  hour  minute\n",
       "0   2018-01-04 19:59:31.391  2018      1    4    19      59\n",
       "1   2018-01-04 21:28:51.898  2018      1    4    21      28\n",
       "2   2018-01-04 22:28:23.672  2018      1    4    22      28\n",
       "3   2018-01-05 05:47:04.933  2018      1    5     5      47\n",
       "4   2018-01-05 14:18:30.029  2018      1    5    14      18\n",
       "..                      ...   ...    ...  ...   ...     ...\n",
       "715 2018-03-07 21:22:10.061  2018      3    7    21      22\n",
       "716 2018-03-08 02:43:18.749  2018      3    8     2      43\n",
       "717 2018-03-08 09:27:18.377  2018      3    8     9      27\n",
       "718 2018-03-10 06:06:12.068  2018      3   10     6       6\n",
       "719 2018-03-10 20:38:30.568  2018      3   10    20      38\n",
       "\n",
       "[720 rows x 6 columns]"
      ]
     },
     "execution_count": 62,
     "metadata": {},
     "output_type": "execute_result"
    }
   ],
   "source": [
    "#11.Create a dataframe with date and time as columns, where the values are the discharge time from readmissionregistry sheet.\n",
    "#--------------------------------------------------------------------------------------------------------------------------\n",
    "df = pd.DataFrame()\n",
    "df['time'] = df4[\"DischargeDate\"]\n",
    "# Extract features - year, month, day, hour, and minute\n",
    "df['year'] = df['time'].dt.year\n",
    "df['month'] = df['time'].dt.month\n",
    "df['day'] = df['time'].dt.day\n",
    "df['hour'] = df['time'].dt.hour\n",
    "df['minute'] = df['time'].dt.minute\n",
    "df.head(720)"
   ]
  },
  {
   "cell_type": "code",
   "execution_count": 49,
   "id": "8ce04548",
   "metadata": {},
   "outputs": [
    {
     "data": {
      "application/vnd.plotly.v1+json": {
       "config": {
        "plotlyServerURL": "https://plot.ly"
       },
       "data": [
        {
         "alignmentgroup": "True",
         "hovertemplate": "PrimaryDiagnosis=%{x}<br>countofpatients=%{marker.color}<extra></extra>",
         "legendgroup": "",
         "marker": {
          "color": [
           2,
           7,
           9,
           11,
           12,
           19,
           20,
           23,
           23,
           29,
           48,
           49,
           64,
           68,
           78,
           80,
           177
          ],
          "coloraxis": "coloraxis",
          "pattern": {
           "shape": ""
          }
         },
         "name": "",
         "offsetgroup": "",
         "orientation": "v",
         "showlegend": false,
         "textposition": "auto",
         "type": "bar",
         "x": [
          "Spinal Cord Injury",
          "Pain",
          "Broken Leg",
          "Afib",
          "Migraine",
          "Fever",
          "Kidney Failure",
          "Hip Fracture",
          "Knee Replacement",
          "Laceration",
          "AMI",
          "Hypertension",
          "Diabetes",
          "Stroke",
          "Heart Failure",
          "Flu",
          "Pneumonia"
         ],
         "xaxis": "x",
         "y": [
          2,
          7,
          9,
          11,
          12,
          19,
          20,
          23,
          23,
          29,
          48,
          49,
          64,
          68,
          78,
          80,
          177
         ],
         "yaxis": "y"
        }
       ],
       "layout": {
        "barmode": "relative",
        "coloraxis": {
         "colorbar": {
          "title": {
           "text": "countofpatients"
          }
         },
         "colorscale": [
          [
           0,
           "#0d0887"
          ],
          [
           0.1111111111111111,
           "#46039f"
          ],
          [
           0.2222222222222222,
           "#7201a8"
          ],
          [
           0.3333333333333333,
           "#9c179e"
          ],
          [
           0.4444444444444444,
           "#bd3786"
          ],
          [
           0.5555555555555556,
           "#d8576b"
          ],
          [
           0.6666666666666666,
           "#ed7953"
          ],
          [
           0.7777777777777778,
           "#fb9f3a"
          ],
          [
           0.8888888888888888,
           "#fdca26"
          ],
          [
           1,
           "#f0f921"
          ]
         ]
        },
        "height": 600,
        "legend": {
         "tracegroupgap": 0
        },
        "margin": {
         "t": 60
        },
        "template": {
         "data": {
          "bar": [
           {
            "error_x": {
             "color": "#2a3f5f"
            },
            "error_y": {
             "color": "#2a3f5f"
            },
            "marker": {
             "line": {
              "color": "#E5ECF6",
              "width": 0.5
             },
             "pattern": {
              "fillmode": "overlay",
              "size": 10,
              "solidity": 0.2
             }
            },
            "type": "bar"
           }
          ],
          "barpolar": [
           {
            "marker": {
             "line": {
              "color": "#E5ECF6",
              "width": 0.5
             },
             "pattern": {
              "fillmode": "overlay",
              "size": 10,
              "solidity": 0.2
             }
            },
            "type": "barpolar"
           }
          ],
          "carpet": [
           {
            "aaxis": {
             "endlinecolor": "#2a3f5f",
             "gridcolor": "white",
             "linecolor": "white",
             "minorgridcolor": "white",
             "startlinecolor": "#2a3f5f"
            },
            "baxis": {
             "endlinecolor": "#2a3f5f",
             "gridcolor": "white",
             "linecolor": "white",
             "minorgridcolor": "white",
             "startlinecolor": "#2a3f5f"
            },
            "type": "carpet"
           }
          ],
          "choropleth": [
           {
            "colorbar": {
             "outlinewidth": 0,
             "ticks": ""
            },
            "type": "choropleth"
           }
          ],
          "contour": [
           {
            "colorbar": {
             "outlinewidth": 0,
             "ticks": ""
            },
            "colorscale": [
             [
              0,
              "#0d0887"
             ],
             [
              0.1111111111111111,
              "#46039f"
             ],
             [
              0.2222222222222222,
              "#7201a8"
             ],
             [
              0.3333333333333333,
              "#9c179e"
             ],
             [
              0.4444444444444444,
              "#bd3786"
             ],
             [
              0.5555555555555556,
              "#d8576b"
             ],
             [
              0.6666666666666666,
              "#ed7953"
             ],
             [
              0.7777777777777778,
              "#fb9f3a"
             ],
             [
              0.8888888888888888,
              "#fdca26"
             ],
             [
              1,
              "#f0f921"
             ]
            ],
            "type": "contour"
           }
          ],
          "contourcarpet": [
           {
            "colorbar": {
             "outlinewidth": 0,
             "ticks": ""
            },
            "type": "contourcarpet"
           }
          ],
          "heatmap": [
           {
            "colorbar": {
             "outlinewidth": 0,
             "ticks": ""
            },
            "colorscale": [
             [
              0,
              "#0d0887"
             ],
             [
              0.1111111111111111,
              "#46039f"
             ],
             [
              0.2222222222222222,
              "#7201a8"
             ],
             [
              0.3333333333333333,
              "#9c179e"
             ],
             [
              0.4444444444444444,
              "#bd3786"
             ],
             [
              0.5555555555555556,
              "#d8576b"
             ],
             [
              0.6666666666666666,
              "#ed7953"
             ],
             [
              0.7777777777777778,
              "#fb9f3a"
             ],
             [
              0.8888888888888888,
              "#fdca26"
             ],
             [
              1,
              "#f0f921"
             ]
            ],
            "type": "heatmap"
           }
          ],
          "heatmapgl": [
           {
            "colorbar": {
             "outlinewidth": 0,
             "ticks": ""
            },
            "colorscale": [
             [
              0,
              "#0d0887"
             ],
             [
              0.1111111111111111,
              "#46039f"
             ],
             [
              0.2222222222222222,
              "#7201a8"
             ],
             [
              0.3333333333333333,
              "#9c179e"
             ],
             [
              0.4444444444444444,
              "#bd3786"
             ],
             [
              0.5555555555555556,
              "#d8576b"
             ],
             [
              0.6666666666666666,
              "#ed7953"
             ],
             [
              0.7777777777777778,
              "#fb9f3a"
             ],
             [
              0.8888888888888888,
              "#fdca26"
             ],
             [
              1,
              "#f0f921"
             ]
            ],
            "type": "heatmapgl"
           }
          ],
          "histogram": [
           {
            "marker": {
             "pattern": {
              "fillmode": "overlay",
              "size": 10,
              "solidity": 0.2
             }
            },
            "type": "histogram"
           }
          ],
          "histogram2d": [
           {
            "colorbar": {
             "outlinewidth": 0,
             "ticks": ""
            },
            "colorscale": [
             [
              0,
              "#0d0887"
             ],
             [
              0.1111111111111111,
              "#46039f"
             ],
             [
              0.2222222222222222,
              "#7201a8"
             ],
             [
              0.3333333333333333,
              "#9c179e"
             ],
             [
              0.4444444444444444,
              "#bd3786"
             ],
             [
              0.5555555555555556,
              "#d8576b"
             ],
             [
              0.6666666666666666,
              "#ed7953"
             ],
             [
              0.7777777777777778,
              "#fb9f3a"
             ],
             [
              0.8888888888888888,
              "#fdca26"
             ],
             [
              1,
              "#f0f921"
             ]
            ],
            "type": "histogram2d"
           }
          ],
          "histogram2dcontour": [
           {
            "colorbar": {
             "outlinewidth": 0,
             "ticks": ""
            },
            "colorscale": [
             [
              0,
              "#0d0887"
             ],
             [
              0.1111111111111111,
              "#46039f"
             ],
             [
              0.2222222222222222,
              "#7201a8"
             ],
             [
              0.3333333333333333,
              "#9c179e"
             ],
             [
              0.4444444444444444,
              "#bd3786"
             ],
             [
              0.5555555555555556,
              "#d8576b"
             ],
             [
              0.6666666666666666,
              "#ed7953"
             ],
             [
              0.7777777777777778,
              "#fb9f3a"
             ],
             [
              0.8888888888888888,
              "#fdca26"
             ],
             [
              1,
              "#f0f921"
             ]
            ],
            "type": "histogram2dcontour"
           }
          ],
          "mesh3d": [
           {
            "colorbar": {
             "outlinewidth": 0,
             "ticks": ""
            },
            "type": "mesh3d"
           }
          ],
          "parcoords": [
           {
            "line": {
             "colorbar": {
              "outlinewidth": 0,
              "ticks": ""
             }
            },
            "type": "parcoords"
           }
          ],
          "pie": [
           {
            "automargin": true,
            "type": "pie"
           }
          ],
          "scatter": [
           {
            "fillpattern": {
             "fillmode": "overlay",
             "size": 10,
             "solidity": 0.2
            },
            "type": "scatter"
           }
          ],
          "scatter3d": [
           {
            "line": {
             "colorbar": {
              "outlinewidth": 0,
              "ticks": ""
             }
            },
            "marker": {
             "colorbar": {
              "outlinewidth": 0,
              "ticks": ""
             }
            },
            "type": "scatter3d"
           }
          ],
          "scattercarpet": [
           {
            "marker": {
             "colorbar": {
              "outlinewidth": 0,
              "ticks": ""
             }
            },
            "type": "scattercarpet"
           }
          ],
          "scattergeo": [
           {
            "marker": {
             "colorbar": {
              "outlinewidth": 0,
              "ticks": ""
             }
            },
            "type": "scattergeo"
           }
          ],
          "scattergl": [
           {
            "marker": {
             "colorbar": {
              "outlinewidth": 0,
              "ticks": ""
             }
            },
            "type": "scattergl"
           }
          ],
          "scattermapbox": [
           {
            "marker": {
             "colorbar": {
              "outlinewidth": 0,
              "ticks": ""
             }
            },
            "type": "scattermapbox"
           }
          ],
          "scatterpolar": [
           {
            "marker": {
             "colorbar": {
              "outlinewidth": 0,
              "ticks": ""
             }
            },
            "type": "scatterpolar"
           }
          ],
          "scatterpolargl": [
           {
            "marker": {
             "colorbar": {
              "outlinewidth": 0,
              "ticks": ""
             }
            },
            "type": "scatterpolargl"
           }
          ],
          "scatterternary": [
           {
            "marker": {
             "colorbar": {
              "outlinewidth": 0,
              "ticks": ""
             }
            },
            "type": "scatterternary"
           }
          ],
          "surface": [
           {
            "colorbar": {
             "outlinewidth": 0,
             "ticks": ""
            },
            "colorscale": [
             [
              0,
              "#0d0887"
             ],
             [
              0.1111111111111111,
              "#46039f"
             ],
             [
              0.2222222222222222,
              "#7201a8"
             ],
             [
              0.3333333333333333,
              "#9c179e"
             ],
             [
              0.4444444444444444,
              "#bd3786"
             ],
             [
              0.5555555555555556,
              "#d8576b"
             ],
             [
              0.6666666666666666,
              "#ed7953"
             ],
             [
              0.7777777777777778,
              "#fb9f3a"
             ],
             [
              0.8888888888888888,
              "#fdca26"
             ],
             [
              1,
              "#f0f921"
             ]
            ],
            "type": "surface"
           }
          ],
          "table": [
           {
            "cells": {
             "fill": {
              "color": "#EBF0F8"
             },
             "line": {
              "color": "white"
             }
            },
            "header": {
             "fill": {
              "color": "#C8D4E3"
             },
             "line": {
              "color": "white"
             }
            },
            "type": "table"
           }
          ]
         },
         "layout": {
          "annotationdefaults": {
           "arrowcolor": "#2a3f5f",
           "arrowhead": 0,
           "arrowwidth": 1
          },
          "autotypenumbers": "strict",
          "coloraxis": {
           "colorbar": {
            "outlinewidth": 0,
            "ticks": ""
           }
          },
          "colorscale": {
           "diverging": [
            [
             0,
             "#8e0152"
            ],
            [
             0.1,
             "#c51b7d"
            ],
            [
             0.2,
             "#de77ae"
            ],
            [
             0.3,
             "#f1b6da"
            ],
            [
             0.4,
             "#fde0ef"
            ],
            [
             0.5,
             "#f7f7f7"
            ],
            [
             0.6,
             "#e6f5d0"
            ],
            [
             0.7,
             "#b8e186"
            ],
            [
             0.8,
             "#7fbc41"
            ],
            [
             0.9,
             "#4d9221"
            ],
            [
             1,
             "#276419"
            ]
           ],
           "sequential": [
            [
             0,
             "#0d0887"
            ],
            [
             0.1111111111111111,
             "#46039f"
            ],
            [
             0.2222222222222222,
             "#7201a8"
            ],
            [
             0.3333333333333333,
             "#9c179e"
            ],
            [
             0.4444444444444444,
             "#bd3786"
            ],
            [
             0.5555555555555556,
             "#d8576b"
            ],
            [
             0.6666666666666666,
             "#ed7953"
            ],
            [
             0.7777777777777778,
             "#fb9f3a"
            ],
            [
             0.8888888888888888,
             "#fdca26"
            ],
            [
             1,
             "#f0f921"
            ]
           ],
           "sequentialminus": [
            [
             0,
             "#0d0887"
            ],
            [
             0.1111111111111111,
             "#46039f"
            ],
            [
             0.2222222222222222,
             "#7201a8"
            ],
            [
             0.3333333333333333,
             "#9c179e"
            ],
            [
             0.4444444444444444,
             "#bd3786"
            ],
            [
             0.5555555555555556,
             "#d8576b"
            ],
            [
             0.6666666666666666,
             "#ed7953"
            ],
            [
             0.7777777777777778,
             "#fb9f3a"
            ],
            [
             0.8888888888888888,
             "#fdca26"
            ],
            [
             1,
             "#f0f921"
            ]
           ]
          },
          "colorway": [
           "#636efa",
           "#EF553B",
           "#00cc96",
           "#ab63fa",
           "#FFA15A",
           "#19d3f3",
           "#FF6692",
           "#B6E880",
           "#FF97FF",
           "#FECB52"
          ],
          "font": {
           "color": "#2a3f5f"
          },
          "geo": {
           "bgcolor": "white",
           "lakecolor": "white",
           "landcolor": "#E5ECF6",
           "showlakes": true,
           "showland": true,
           "subunitcolor": "white"
          },
          "hoverlabel": {
           "align": "left"
          },
          "hovermode": "closest",
          "mapbox": {
           "style": "light"
          },
          "paper_bgcolor": "white",
          "plot_bgcolor": "#E5ECF6",
          "polar": {
           "angularaxis": {
            "gridcolor": "white",
            "linecolor": "white",
            "ticks": ""
           },
           "bgcolor": "#E5ECF6",
           "radialaxis": {
            "gridcolor": "white",
            "linecolor": "white",
            "ticks": ""
           }
          },
          "scene": {
           "xaxis": {
            "backgroundcolor": "#E5ECF6",
            "gridcolor": "white",
            "gridwidth": 2,
            "linecolor": "white",
            "showbackground": true,
            "ticks": "",
            "zerolinecolor": "white"
           },
           "yaxis": {
            "backgroundcolor": "#E5ECF6",
            "gridcolor": "white",
            "gridwidth": 2,
            "linecolor": "white",
            "showbackground": true,
            "ticks": "",
            "zerolinecolor": "white"
           },
           "zaxis": {
            "backgroundcolor": "#E5ECF6",
            "gridcolor": "white",
            "gridwidth": 2,
            "linecolor": "white",
            "showbackground": true,
            "ticks": "",
            "zerolinecolor": "white"
           }
          },
          "shapedefaults": {
           "line": {
            "color": "#2a3f5f"
           }
          },
          "ternary": {
           "aaxis": {
            "gridcolor": "white",
            "linecolor": "white",
            "ticks": ""
           },
           "baxis": {
            "gridcolor": "white",
            "linecolor": "white",
            "ticks": ""
           },
           "bgcolor": "#E5ECF6",
           "caxis": {
            "gridcolor": "white",
            "linecolor": "white",
            "ticks": ""
           }
          },
          "title": {
           "x": 0.05
          },
          "xaxis": {
           "automargin": true,
           "gridcolor": "white",
           "linecolor": "white",
           "ticks": "",
           "title": {
            "standoff": 15
           },
           "zerolinecolor": "white",
           "zerolinewidth": 2
          },
          "yaxis": {
           "automargin": true,
           "gridcolor": "white",
           "linecolor": "white",
           "ticks": "",
           "title": {
            "standoff": 15
           },
           "zerolinecolor": "white",
           "zerolinewidth": 2
          }
         }
        },
        "xaxis": {
         "anchor": "y",
         "domain": [
          0,
          1
         ],
         "title": {
          "text": "PrimaryDiagnosis"
         }
        },
        "yaxis": {
         "anchor": "x",
         "domain": [
          0,
          1
         ],
         "title": {
          "text": "countofpatients"
         }
        }
       }
      },
      "text/html": [
       "<div>                            <div id=\"6a519fbc-8195-4c6f-9c89-f0aee90a6538\" class=\"plotly-graph-div\" style=\"height:600px; width:100%;\"></div>            <script type=\"text/javascript\">                require([\"plotly\"], function(Plotly) {                    window.PLOTLYENV=window.PLOTLYENV || {};                                    if (document.getElementById(\"6a519fbc-8195-4c6f-9c89-f0aee90a6538\")) {                    Plotly.newPlot(                        \"6a519fbc-8195-4c6f-9c89-f0aee90a6538\",                        [{\"alignmentgroup\":\"True\",\"hovertemplate\":\"PrimaryDiagnosis=%{x}<br>countofpatients=%{marker.color}<extra></extra>\",\"legendgroup\":\"\",\"marker\":{\"color\":[2,7,9,11,12,19,20,23,23,29,48,49,64,68,78,80,177],\"coloraxis\":\"coloraxis\",\"pattern\":{\"shape\":\"\"}},\"name\":\"\",\"offsetgroup\":\"\",\"orientation\":\"v\",\"showlegend\":false,\"textposition\":\"auto\",\"x\":[\"Spinal Cord Injury\",\"Pain\",\"Broken Leg\",\"Afib\",\"Migraine\",\"Fever\",\"Kidney Failure\",\"Hip Fracture\",\"Knee Replacement\",\"Laceration\",\"AMI\",\"Hypertension\",\"Diabetes\",\"Stroke\",\"Heart Failure\",\"Flu\",\"Pneumonia\"],\"xaxis\":\"x\",\"y\":[2,7,9,11,12,19,20,23,23,29,48,49,64,68,78,80,177],\"yaxis\":\"y\",\"type\":\"bar\"}],                        {\"template\":{\"data\":{\"histogram2dcontour\":[{\"type\":\"histogram2dcontour\",\"colorbar\":{\"outlinewidth\":0,\"ticks\":\"\"},\"colorscale\":[[0.0,\"#0d0887\"],[0.1111111111111111,\"#46039f\"],[0.2222222222222222,\"#7201a8\"],[0.3333333333333333,\"#9c179e\"],[0.4444444444444444,\"#bd3786\"],[0.5555555555555556,\"#d8576b\"],[0.6666666666666666,\"#ed7953\"],[0.7777777777777778,\"#fb9f3a\"],[0.8888888888888888,\"#fdca26\"],[1.0,\"#f0f921\"]]}],\"choropleth\":[{\"type\":\"choropleth\",\"colorbar\":{\"outlinewidth\":0,\"ticks\":\"\"}}],\"histogram2d\":[{\"type\":\"histogram2d\",\"colorbar\":{\"outlinewidth\":0,\"ticks\":\"\"},\"colorscale\":[[0.0,\"#0d0887\"],[0.1111111111111111,\"#46039f\"],[0.2222222222222222,\"#7201a8\"],[0.3333333333333333,\"#9c179e\"],[0.4444444444444444,\"#bd3786\"],[0.5555555555555556,\"#d8576b\"],[0.6666666666666666,\"#ed7953\"],[0.7777777777777778,\"#fb9f3a\"],[0.8888888888888888,\"#fdca26\"],[1.0,\"#f0f921\"]]}],\"heatmap\":[{\"type\":\"heatmap\",\"colorbar\":{\"outlinewidth\":0,\"ticks\":\"\"},\"colorscale\":[[0.0,\"#0d0887\"],[0.1111111111111111,\"#46039f\"],[0.2222222222222222,\"#7201a8\"],[0.3333333333333333,\"#9c179e\"],[0.4444444444444444,\"#bd3786\"],[0.5555555555555556,\"#d8576b\"],[0.6666666666666666,\"#ed7953\"],[0.7777777777777778,\"#fb9f3a\"],[0.8888888888888888,\"#fdca26\"],[1.0,\"#f0f921\"]]}],\"heatmapgl\":[{\"type\":\"heatmapgl\",\"colorbar\":{\"outlinewidth\":0,\"ticks\":\"\"},\"colorscale\":[[0.0,\"#0d0887\"],[0.1111111111111111,\"#46039f\"],[0.2222222222222222,\"#7201a8\"],[0.3333333333333333,\"#9c179e\"],[0.4444444444444444,\"#bd3786\"],[0.5555555555555556,\"#d8576b\"],[0.6666666666666666,\"#ed7953\"],[0.7777777777777778,\"#fb9f3a\"],[0.8888888888888888,\"#fdca26\"],[1.0,\"#f0f921\"]]}],\"contourcarpet\":[{\"type\":\"contourcarpet\",\"colorbar\":{\"outlinewidth\":0,\"ticks\":\"\"}}],\"contour\":[{\"type\":\"contour\",\"colorbar\":{\"outlinewidth\":0,\"ticks\":\"\"},\"colorscale\":[[0.0,\"#0d0887\"],[0.1111111111111111,\"#46039f\"],[0.2222222222222222,\"#7201a8\"],[0.3333333333333333,\"#9c179e\"],[0.4444444444444444,\"#bd3786\"],[0.5555555555555556,\"#d8576b\"],[0.6666666666666666,\"#ed7953\"],[0.7777777777777778,\"#fb9f3a\"],[0.8888888888888888,\"#fdca26\"],[1.0,\"#f0f921\"]]}],\"surface\":[{\"type\":\"surface\",\"colorbar\":{\"outlinewidth\":0,\"ticks\":\"\"},\"colorscale\":[[0.0,\"#0d0887\"],[0.1111111111111111,\"#46039f\"],[0.2222222222222222,\"#7201a8\"],[0.3333333333333333,\"#9c179e\"],[0.4444444444444444,\"#bd3786\"],[0.5555555555555556,\"#d8576b\"],[0.6666666666666666,\"#ed7953\"],[0.7777777777777778,\"#fb9f3a\"],[0.8888888888888888,\"#fdca26\"],[1.0,\"#f0f921\"]]}],\"mesh3d\":[{\"type\":\"mesh3d\",\"colorbar\":{\"outlinewidth\":0,\"ticks\":\"\"}}],\"scatter\":[{\"fillpattern\":{\"fillmode\":\"overlay\",\"size\":10,\"solidity\":0.2},\"type\":\"scatter\"}],\"parcoords\":[{\"type\":\"parcoords\",\"line\":{\"colorbar\":{\"outlinewidth\":0,\"ticks\":\"\"}}}],\"scatterpolargl\":[{\"type\":\"scatterpolargl\",\"marker\":{\"colorbar\":{\"outlinewidth\":0,\"ticks\":\"\"}}}],\"bar\":[{\"error_x\":{\"color\":\"#2a3f5f\"},\"error_y\":{\"color\":\"#2a3f5f\"},\"marker\":{\"line\":{\"color\":\"#E5ECF6\",\"width\":0.5},\"pattern\":{\"fillmode\":\"overlay\",\"size\":10,\"solidity\":0.2}},\"type\":\"bar\"}],\"scattergeo\":[{\"type\":\"scattergeo\",\"marker\":{\"colorbar\":{\"outlinewidth\":0,\"ticks\":\"\"}}}],\"scatterpolar\":[{\"type\":\"scatterpolar\",\"marker\":{\"colorbar\":{\"outlinewidth\":0,\"ticks\":\"\"}}}],\"histogram\":[{\"marker\":{\"pattern\":{\"fillmode\":\"overlay\",\"size\":10,\"solidity\":0.2}},\"type\":\"histogram\"}],\"scattergl\":[{\"type\":\"scattergl\",\"marker\":{\"colorbar\":{\"outlinewidth\":0,\"ticks\":\"\"}}}],\"scatter3d\":[{\"type\":\"scatter3d\",\"line\":{\"colorbar\":{\"outlinewidth\":0,\"ticks\":\"\"}},\"marker\":{\"colorbar\":{\"outlinewidth\":0,\"ticks\":\"\"}}}],\"scattermapbox\":[{\"type\":\"scattermapbox\",\"marker\":{\"colorbar\":{\"outlinewidth\":0,\"ticks\":\"\"}}}],\"scatterternary\":[{\"type\":\"scatterternary\",\"marker\":{\"colorbar\":{\"outlinewidth\":0,\"ticks\":\"\"}}}],\"scattercarpet\":[{\"type\":\"scattercarpet\",\"marker\":{\"colorbar\":{\"outlinewidth\":0,\"ticks\":\"\"}}}],\"carpet\":[{\"aaxis\":{\"endlinecolor\":\"#2a3f5f\",\"gridcolor\":\"white\",\"linecolor\":\"white\",\"minorgridcolor\":\"white\",\"startlinecolor\":\"#2a3f5f\"},\"baxis\":{\"endlinecolor\":\"#2a3f5f\",\"gridcolor\":\"white\",\"linecolor\":\"white\",\"minorgridcolor\":\"white\",\"startlinecolor\":\"#2a3f5f\"},\"type\":\"carpet\"}],\"table\":[{\"cells\":{\"fill\":{\"color\":\"#EBF0F8\"},\"line\":{\"color\":\"white\"}},\"header\":{\"fill\":{\"color\":\"#C8D4E3\"},\"line\":{\"color\":\"white\"}},\"type\":\"table\"}],\"barpolar\":[{\"marker\":{\"line\":{\"color\":\"#E5ECF6\",\"width\":0.5},\"pattern\":{\"fillmode\":\"overlay\",\"size\":10,\"solidity\":0.2}},\"type\":\"barpolar\"}],\"pie\":[{\"automargin\":true,\"type\":\"pie\"}]},\"layout\":{\"autotypenumbers\":\"strict\",\"colorway\":[\"#636efa\",\"#EF553B\",\"#00cc96\",\"#ab63fa\",\"#FFA15A\",\"#19d3f3\",\"#FF6692\",\"#B6E880\",\"#FF97FF\",\"#FECB52\"],\"font\":{\"color\":\"#2a3f5f\"},\"hovermode\":\"closest\",\"hoverlabel\":{\"align\":\"left\"},\"paper_bgcolor\":\"white\",\"plot_bgcolor\":\"#E5ECF6\",\"polar\":{\"bgcolor\":\"#E5ECF6\",\"angularaxis\":{\"gridcolor\":\"white\",\"linecolor\":\"white\",\"ticks\":\"\"},\"radialaxis\":{\"gridcolor\":\"white\",\"linecolor\":\"white\",\"ticks\":\"\"}},\"ternary\":{\"bgcolor\":\"#E5ECF6\",\"aaxis\":{\"gridcolor\":\"white\",\"linecolor\":\"white\",\"ticks\":\"\"},\"baxis\":{\"gridcolor\":\"white\",\"linecolor\":\"white\",\"ticks\":\"\"},\"caxis\":{\"gridcolor\":\"white\",\"linecolor\":\"white\",\"ticks\":\"\"}},\"coloraxis\":{\"colorbar\":{\"outlinewidth\":0,\"ticks\":\"\"}},\"colorscale\":{\"sequential\":[[0.0,\"#0d0887\"],[0.1111111111111111,\"#46039f\"],[0.2222222222222222,\"#7201a8\"],[0.3333333333333333,\"#9c179e\"],[0.4444444444444444,\"#bd3786\"],[0.5555555555555556,\"#d8576b\"],[0.6666666666666666,\"#ed7953\"],[0.7777777777777778,\"#fb9f3a\"],[0.8888888888888888,\"#fdca26\"],[1.0,\"#f0f921\"]],\"sequentialminus\":[[0.0,\"#0d0887\"],[0.1111111111111111,\"#46039f\"],[0.2222222222222222,\"#7201a8\"],[0.3333333333333333,\"#9c179e\"],[0.4444444444444444,\"#bd3786\"],[0.5555555555555556,\"#d8576b\"],[0.6666666666666666,\"#ed7953\"],[0.7777777777777778,\"#fb9f3a\"],[0.8888888888888888,\"#fdca26\"],[1.0,\"#f0f921\"]],\"diverging\":[[0,\"#8e0152\"],[0.1,\"#c51b7d\"],[0.2,\"#de77ae\"],[0.3,\"#f1b6da\"],[0.4,\"#fde0ef\"],[0.5,\"#f7f7f7\"],[0.6,\"#e6f5d0\"],[0.7,\"#b8e186\"],[0.8,\"#7fbc41\"],[0.9,\"#4d9221\"],[1,\"#276419\"]]},\"xaxis\":{\"gridcolor\":\"white\",\"linecolor\":\"white\",\"ticks\":\"\",\"title\":{\"standoff\":15},\"zerolinecolor\":\"white\",\"automargin\":true,\"zerolinewidth\":2},\"yaxis\":{\"gridcolor\":\"white\",\"linecolor\":\"white\",\"ticks\":\"\",\"title\":{\"standoff\":15},\"zerolinecolor\":\"white\",\"automargin\":true,\"zerolinewidth\":2},\"scene\":{\"xaxis\":{\"backgroundcolor\":\"#E5ECF6\",\"gridcolor\":\"white\",\"linecolor\":\"white\",\"showbackground\":true,\"ticks\":\"\",\"zerolinecolor\":\"white\",\"gridwidth\":2},\"yaxis\":{\"backgroundcolor\":\"#E5ECF6\",\"gridcolor\":\"white\",\"linecolor\":\"white\",\"showbackground\":true,\"ticks\":\"\",\"zerolinecolor\":\"white\",\"gridwidth\":2},\"zaxis\":{\"backgroundcolor\":\"#E5ECF6\",\"gridcolor\":\"white\",\"linecolor\":\"white\",\"showbackground\":true,\"ticks\":\"\",\"zerolinecolor\":\"white\",\"gridwidth\":2}},\"shapedefaults\":{\"line\":{\"color\":\"#2a3f5f\"}},\"annotationdefaults\":{\"arrowcolor\":\"#2a3f5f\",\"arrowhead\":0,\"arrowwidth\":1},\"geo\":{\"bgcolor\":\"white\",\"landcolor\":\"#E5ECF6\",\"subunitcolor\":\"white\",\"showland\":true,\"showlakes\":true,\"lakecolor\":\"white\"},\"title\":{\"x\":0.05},\"mapbox\":{\"style\":\"light\"}}},\"xaxis\":{\"anchor\":\"y\",\"domain\":[0.0,1.0],\"title\":{\"text\":\"PrimaryDiagnosis\"}},\"yaxis\":{\"anchor\":\"x\",\"domain\":[0.0,1.0],\"title\":{\"text\":\"countofpatients\"}},\"coloraxis\":{\"colorbar\":{\"title\":{\"text\":\"countofpatients\"}},\"colorscale\":[[0.0,\"#0d0887\"],[0.1111111111111111,\"#46039f\"],[0.2222222222222222,\"#7201a8\"],[0.3333333333333333,\"#9c179e\"],[0.4444444444444444,\"#bd3786\"],[0.5555555555555556,\"#d8576b\"],[0.6666666666666666,\"#ed7953\"],[0.7777777777777778,\"#fb9f3a\"],[0.8888888888888888,\"#fdca26\"],[1.0,\"#f0f921\"]]},\"legend\":{\"tracegroupgap\":0},\"margin\":{\"t\":60},\"barmode\":\"relative\",\"height\":600},                        {\"responsive\": true}                    ).then(function(){\n",
       "                            \n",
       "var gd = document.getElementById('6a519fbc-8195-4c6f-9c89-f0aee90a6538');\n",
       "var x = new MutationObserver(function (mutations, observer) {{\n",
       "        var display = window.getComputedStyle(gd).display;\n",
       "        if (!display || display === 'none') {{\n",
       "            console.log([gd, 'removed!']);\n",
       "            Plotly.purge(gd);\n",
       "            observer.disconnect();\n",
       "        }}\n",
       "}});\n",
       "\n",
       "// Listen for the removal of the full notebook cells\n",
       "var notebookContainer = gd.closest('#notebook-container');\n",
       "if (notebookContainer) {{\n",
       "    x.observe(notebookContainer, {childList: true});\n",
       "}}\n",
       "\n",
       "// Listen for the clearing of the current output cell\n",
       "var outputEl = gd.closest('.output');\n",
       "if (outputEl) {{\n",
       "    x.observe(outputEl, {childList: true});\n",
       "}}\n",
       "\n",
       "                        })                };                });            </script>        </div>"
      ]
     },
     "metadata": {},
     "output_type": "display_data"
    }
   ],
   "source": [
    "#12.Create a visualization on the count of patients based on primary diagnosis.\n",
    "#-------------------------------------------------------------------------------\n",
    "df=df4\n",
    "groupbydiagnosis=df.groupby('PrimaryDiagnosis')['PatientID'].nunique().reset_index(name='countofpatients').sort_values('countofpatients')\n",
    "fig = px.bar(groupbydiagnosis, x='PrimaryDiagnosis', y='countofpatients',\n",
    "             hover_data=['countofpatients', 'PrimaryDiagnosis'], color=('countofpatients'),\n",
    "             labels={'primd':'PrimaryDiagnosis'}, height=600)\n",
    "\n",
    "fig.show()"
   ]
  },
  {
   "cell_type": "code",
   "execution_count": 68,
   "id": "d986237f",
   "metadata": {},
   "outputs": [
    {
     "data": {
      "image/png": "[encoded data removed]",
      "text/plain": [
       "<Figure size 640x480 with 1 Axes>"
      ]
     },
     "metadata": {},
     "output_type": "display_data"
    }
   ],
   "source": [
    "#13.Create a bar chart on service & expected length of stay.\n",
    "#-----------------------------------------------------------\n",
    "import matplotlib.pyplot as plt\n",
    "y_axis = df4.loc[: , \"ExpectedLOS\"]\n",
    "x_axis = df4[\"Service\"]\n",
    "plt.barh(x_axis, y_axis,height=0.7,color=('pink'))\n",
    "plt.title('Bar chart')\n",
    "plt.xlabel('ExpectedLOS')\n",
    "plt.ylabel('Service')\n",
    "plt.show()"
   ]
  },
  {
   "cell_type": "code",
   "execution_count": 30,
   "id": "e4325993",
   "metadata": {},
   "outputs": [
    {
     "name": "stdout",
     "output_type": "stream",
     "text": [
      "The number of Spanish Speaking patient: 110\n"
     ]
    }
   ],
   "source": [
    "#14.Find the count of Spanish Speaking patients.\n",
    "#-----------------------------------------------\n",
    "df=len(df1[df1[\"Language\"]=='Spanish'])\n",
    "print('The number of Spanish Speaking patient:',df)"
   ]
  },
  {
   "cell_type": "code",
   "execution_count": 55,
   "id": "07676afc",
   "metadata": {},
   "outputs": [
    {
     "data": {
      "application/vnd.plotly.v1+json": {
       "config": {
        "plotlyServerURL": "https://plot.ly"
       },
       "data": [
        {
         "alignmentgroup": "True",
         "hovertemplate": "x=%{x}<br>y=%{y}<extra></extra>",
         "legendgroup": "",
         "marker": {
          "color": "#636efa"
         },
         "name": "",
         "notched": false,
         "offsetgroup": "",
         "orientation": "v",
         "showlegend": false,
         "type": "box",
         "x": [
          "Hospitalist",
          "General Medicine",
          "General Medicine",
          "General Medicine",
          "ICU",
          "Hospitalist",
          "Hospitalist",
          "Cardiology",
          "ICU",
          "Hospitalist",
          "Hospitalist",
          "Hospitalist",
          "General Medicine",
          "Hospitalist",
          "Hospitalist",
          "Hospitalist",
          "Hospitalist",
          "Hospitalist",
          "Hospitalist",
          "Hospitalist",
          "Hospitalist",
          "General Medicine",
          "Hospitalist",
          "Hospitalist",
          "Hospitalist",
          "Cardiology",
          "Hospitalist",
          "General Medicine",
          "General Medicine",
          "Hospitalist",
          "General Medicine",
          "ICU",
          "Cardiology",
          "General Medicine",
          "General Medicine",
          "General Medicine",
          "General Medicine",
          "General Medicine",
          "General Medicine",
          "General Medicine",
          "Neurology",
          "Orthopeadics",
          "Cardiology",
          "Cardiology",
          "Hospitalist",
          "ICU",
          "Cardiology",
          "General Medicine",
          "General Medicine",
          "General Medicine",
          "Cardiology",
          "General Medicine",
          "Hospitalist",
          "Orthopeadics",
          "General Medicine",
          "General Medicine",
          "Cardiology",
          "General Medicine",
          "General Medicine",
          "Neurology",
          "Neurology",
          "Neurology",
          "Hospitalist",
          "Orthopeadics",
          "ICU",
          "ICU",
          "General Medicine",
          "General Medicine",
          "Neurology",
          "ICU",
          "Hospitalist",
          "General Medicine",
          "General Medicine",
          "General Medicine",
          "General Medicine",
          "General Medicine",
          "ICU",
          "Hospitalist",
          "Cardiology",
          "ICU",
          "Orthopeadics",
          "General Medicine",
          "ICU",
          "Hospitalist",
          "Hospitalist",
          "General Medicine",
          "Cardiology",
          "Hospitalist",
          "ICU",
          "General Medicine",
          "ICU",
          "ICU",
          "General Medicine",
          "Orthopeadics",
          "ICU",
          "ICU",
          "General Medicine",
          "ICU",
          "Cardiology",
          "General Medicine",
          "ICU",
          "Hospitalist",
          "Cardiology",
          "General Medicine",
          "Orthopeadics",
          "ICU",
          "Cardiology",
          "Cardiology",
          "Cardiology",
          "Cardiology",
          "Orthopeadics",
          "General Medicine",
          "Cardiology",
          "ICU",
          "Cardiology",
          "ICU",
          "Cardiology",
          "General Medicine",
          "ICU",
          "ICU",
          "General Medicine",
          "Cardiology",
          "Cardiology",
          "General Medicine",
          "Cardiology",
          "Neurology",
          "ICU",
          "Cardiology",
          "General Medicine",
          "Neurology",
          "Neurology",
          "ICU",
          "General Medicine",
          "ICU",
          "Hospitalist",
          "ICU",
          "ICU",
          "ICU",
          "General Medicine",
          "General Medicine",
          "ICU",
          "Hospitalist",
          "Cardiology",
          "ICU",
          "ICU",
          "Hospitalist",
          "General Medicine",
          "ICU",
          "General Medicine",
          "ICU",
          "General Medicine",
          "ICU",
          "Hospitalist",
          "General Medicine",
          "Orthopeadics",
          "Hospitalist",
          "Neurology",
          "Cardiology",
          "ICU",
          "Orthopeadics",
          "ICU",
          "ICU",
          "Orthopeadics",
          "Neurology",
          "General Medicine",
          "Cardiology",
          "ICU",
          "General Medicine",
          "General Medicine",
          "Hospitalist",
          "ICU",
          "Hospitalist",
          "ICU",
          "ICU",
          "General Medicine",
          "General Medicine",
          "Cardiology",
          "Cardiology",
          "Hospitalist",
          "General Medicine",
          "ICU",
          "General Medicine",
          "ICU",
          "General Medicine",
          "ICU",
          "General Medicine",
          "Orthopeadics",
          "ICU",
          "ICU",
          "Hospitalist",
          "ICU",
          "General Medicine",
          "General Medicine",
          "General Medicine",
          "Orthopeadics",
          "ICU",
          "ICU",
          "ICU",
          "ICU",
          "ICU",
          "ICU",
          "ICU",
          "General Medicine",
          "General Medicine",
          "General Medicine",
          "Neurology",
          "ICU",
          "ICU",
          "Cardiology",
          "Hospitalist",
          "Cardiology",
          "General Medicine",
          "Hospitalist",
          "General Medicine",
          "General Medicine",
          "Orthopeadics",
          "Neurology",
          "ICU",
          "General Medicine",
          "General Medicine",
          "General Medicine",
          "Cardiology",
          "Cardiology",
          "General Medicine",
          "Neurology",
          "General Medicine",
          "General Medicine",
          "General Medicine",
          "Cardiology",
          "Hospitalist",
          "General Medicine",
          "Hospitalist",
          "General Medicine",
          "Cardiology",
          "Neurology",
          "Hospitalist",
          "General Medicine",
          "Hospitalist",
          "ICU",
          "General Medicine",
          "General Medicine",
          "Orthopeadics",
          "General Medicine",
          "Hospitalist",
          "Neurology",
          "General Medicine",
          "General Medicine",
          "ICU",
          "ICU",
          "General Medicine",
          "Hospitalist",
          "Orthopeadics",
          "Cardiology",
          "Hospitalist",
          "ICU",
          "General Medicine",
          "Hospitalist",
          "Hospitalist",
          "Orthopeadics",
          "General Medicine",
          "ICU",
          "General Medicine",
          "Cardiology",
          "ICU",
          "General Medicine",
          "Orthopeadics",
          "ICU",
          "General Medicine",
          "ICU",
          "General Medicine",
          "Cardiology",
          "ICU",
          "Cardiology",
          "General Medicine",
          "Cardiology",
          "ICU",
          "Orthopeadics",
          "ICU",
          "General Medicine",
          "General Medicine",
          "Cardiology",
          "General Medicine",
          "Neurology",
          "General Medicine",
          "ICU",
          "General Medicine",
          "General Medicine",
          "Cardiology",
          "Cardiology",
          "ICU",
          "ICU",
          "General Medicine",
          "General Medicine",
          "Neurology",
          "Cardiology",
          "Hospitalist",
          "ICU",
          "Neurology",
          "Hospitalist",
          "General Medicine",
          "General Medicine",
          "General Medicine",
          "General Medicine",
          "Neurology",
          "General Medicine",
          "General Medicine",
          "General Medicine",
          "ICU",
          "ICU",
          "ICU",
          "General Medicine",
          "General Medicine",
          "Hospitalist",
          "Cardiology",
          "General Medicine",
          "Hospitalist",
          "Hospitalist",
          "General Medicine",
          "General Medicine",
          "Hospitalist",
          "Hospitalist",
          "Orthopeadics",
          "Cardiology",
          "Neurology",
          "Hospitalist",
          "Orthopeadics",
          "General Medicine",
          "General Medicine",
          "General Medicine",
          "General Medicine",
          "General Medicine",
          "ICU",
          "General Medicine",
          "Hospitalist",
          "Cardiology",
          "Cardiology",
          "General Medicine",
          "General Medicine",
          "ICU",
          "Orthopeadics",
          "Orthopeadics",
          "Neurology",
          "ICU",
          "General Medicine",
          "ICU",
          "General Medicine",
          "ICU",
          "Hospitalist",
          "Hospitalist",
          "Cardiology",
          "General Medicine",
          "Cardiology",
          "General Medicine",
          "Cardiology",
          "General Medicine",
          "General Medicine",
          "General Medicine",
          "ICU",
          "ICU",
          "General Medicine",
          "General Medicine",
          "ICU",
          "General Medicine",
          "Neurology",
          "ICU",
          "Orthopeadics",
          "General Medicine",
          "Hospitalist",
          "Cardiology",
          "ICU",
          "General Medicine",
          "ICU",
          "Cardiology",
          "General Medicine",
          "General Medicine",
          "Hospitalist",
          "ICU",
          "ICU",
          "Orthopeadics",
          "General Medicine",
          "General Medicine",
          "ICU",
          "Neurology",
          "General Medicine",
          "General Medicine",
          "Cardiology",
          "General Medicine",
          "ICU",
          "Cardiology",
          "ICU",
          "General Medicine",
          "ICU",
          "Neurology",
          "Cardiology",
          "General Medicine",
          "General Medicine",
          "Orthopeadics",
          "Hospitalist",
          "General Medicine",
          "General Medicine",
          "General Medicine",
          "Neurology",
          "General Medicine",
          "General Medicine",
          "Cardiology",
          "Hospitalist",
          "General Medicine",
          "General Medicine",
          "General Medicine",
          "General Medicine",
          "Cardiology",
          "General Medicine",
          "General Medicine",
          "Neurology",
          "Hospitalist",
          "General Medicine",
          "General Medicine",
          "Neurology",
          "ICU",
          "Hospitalist",
          "General Medicine",
          "ICU",
          "Orthopeadics",
          "Hospitalist",
          "General Medicine",
          "Cardiology",
          "Hospitalist",
          "ICU",
          "Hospitalist",
          "General Medicine",
          "ICU",
          "ICU",
          "General Medicine",
          "ICU",
          "Orthopeadics",
          "Orthopeadics",
          "General Medicine",
          "General Medicine",
          "ICU",
          "Hospitalist",
          "General Medicine",
          "ICU",
          "Neurology",
          "ICU",
          "ICU",
          "Cardiology",
          "Orthopeadics",
          "General Medicine",
          "ICU",
          "Neurology",
          "General Medicine",
          "Neurology",
          "Neurology",
          "Cardiology",
          "Cardiology",
          "General Medicine",
          "Neurology",
          "Neurology",
          "General Medicine",
          "Cardiology",
          "Neurology",
          "Neurology",
          "Neurology",
          "ICU",
          "Cardiology",
          "General Medicine",
          "Neurology",
          "Neurology",
          "General Medicine",
          "Neurology",
          "Hospitalist",
          "Neurology",
          "ICU",
          "ICU",
          "Hospitalist",
          "General Medicine",
          "General Medicine",
          "General Medicine",
          "Hospitalist",
          "ICU",
          "Hospitalist",
          "ICU",
          "Hospitalist",
          "General Medicine",
          "Hospitalist",
          "Neurology",
          "Neurology",
          "ICU",
          "General Medicine",
          "General Medicine",
          "Neurology",
          "Hospitalist",
          "Orthopeadics",
          "General Medicine",
          "ICU",
          "Neurology",
          "General Medicine",
          "General Medicine",
          "Cardiology",
          "Neurology",
          "Hospitalist",
          "Orthopeadics",
          "General Medicine",
          "Cardiology",
          "ICU",
          "Orthopeadics",
          "Cardiology",
          "Neurology",
          "Orthopeadics",
          "ICU",
          "ICU",
          "General Medicine",
          "General Medicine",
          "Cardiology",
          "Neurology",
          "Neurology",
          "General Medicine",
          "Orthopeadics",
          "General Medicine",
          "Cardiology",
          "ICU",
          "General Medicine",
          "General Medicine",
          "ICU",
          "Cardiology",
          "Cardiology",
          "General Medicine",
          "Hospitalist",
          "General Medicine",
          "General Medicine",
          "General Medicine",
          "Hospitalist",
          "Neurology",
          "Cardiology",
          "Neurology",
          "ICU",
          "General Medicine",
          "ICU",
          "General Medicine",
          "Hospitalist",
          "General Medicine",
          "Cardiology",
          "Neurology",
          "General Medicine",
          "Hospitalist",
          "General Medicine",
          "General Medicine",
          "General Medicine",
          "General Medicine",
          "General Medicine",
          "General Medicine",
          "Orthopeadics",
          "ICU",
          "Neurology",
          "Neurology",
          "ICU",
          "Neurology",
          "Orthopeadics",
          "Hospitalist",
          "General Medicine",
          "ICU",
          "Neurology",
          "Cardiology",
          "ICU",
          "Cardiology",
          "General Medicine",
          "General Medicine",
          "General Medicine",
          "ICU",
          "Neurology",
          "ICU",
          "General Medicine",
          "Hospitalist",
          "Hospitalist",
          "Cardiology",
          "General Medicine",
          "Hospitalist",
          "General Medicine",
          "ICU",
          "General Medicine",
          "General Medicine",
          "Neurology",
          "General Medicine",
          "General Medicine",
          "General Medicine",
          "General Medicine",
          "General Medicine",
          "Hospitalist",
          "Neurology",
          "General Medicine",
          "Cardiology",
          "General Medicine",
          "General Medicine",
          "Orthopeadics",
          "ICU",
          "General Medicine",
          "ICU",
          "Neurology",
          "General Medicine",
          "Neurology",
          "ICU",
          "Orthopeadics",
          "Cardiology",
          "General Medicine",
          "General Medicine",
          "General Medicine",
          "General Medicine",
          "Hospitalist",
          "ICU",
          "Hospitalist",
          "ICU",
          "Hospitalist",
          "Hospitalist",
          "General Medicine",
          "Hospitalist",
          "General Medicine",
          "Cardiology",
          "Orthopeadics",
          "Neurology",
          "Cardiology",
          "General Medicine",
          "General Medicine",
          "Neurology",
          "General Medicine",
          "General Medicine",
          "Cardiology",
          "ICU",
          "General Medicine",
          "General Medicine",
          "General Medicine",
          "ICU",
          "General Medicine",
          "ICU",
          "Hospitalist",
          "General Medicine",
          "Cardiology",
          "General Medicine",
          "General Medicine",
          "Orthopeadics",
          "Hospitalist",
          "General Medicine",
          "Neurology",
          "General Medicine",
          "ICU",
          "Cardiology",
          "General Medicine",
          "ICU",
          "ICU",
          "General Medicine",
          "Hospitalist",
          "Hospitalist",
          "General Medicine",
          "ICU",
          "Cardiology",
          "General Medicine",
          "Hospitalist",
          "Hospitalist",
          "Orthopeadics",
          "Hospitalist",
          "General Medicine",
          "Orthopeadics",
          "General Medicine",
          "General Medicine",
          "ICU",
          "Cardiology",
          "Neurology",
          "Cardiology",
          "ICU",
          "General Medicine",
          "Cardiology",
          "General Medicine",
          "ICU",
          "ICU",
          "Hospitalist",
          "Orthopeadics",
          "General Medicine",
          "ICU",
          "General Medicine",
          "Cardiology",
          "Hospitalist",
          "ICU",
          "Orthopeadics",
          "General Medicine",
          "ICU",
          "ICU",
          "General Medicine",
          "General Medicine",
          "Cardiology",
          "General Medicine",
          "General Medicine",
          "General Medicine",
          "General Medicine",
          "General Medicine",
          "General Medicine",
          "ICU",
          "Cardiology",
          "Orthopeadics",
          "General Medicine",
          "Cardiology",
          "Cardiology",
          "General Medicine",
          "ICU",
          "General Medicine",
          "ICU",
          "Neurology",
          "Cardiology",
          "Cardiology",
          "ICU",
          "Cardiology",
          "General Medicine",
          "ICU",
          "General Medicine",
          "General Medicine",
          "General Medicine",
          "ICU",
          "Cardiology",
          "ICU",
          "Hospitalist",
          "General Medicine",
          "General Medicine"
         ],
         "x0": " ",
         "xaxis": "x",
         "y": [
          6.717771346663337,
          3.825969024190549,
          3.3824933742760894,
          3.7633523908979027,
          13.650953356868314,
          9.55504663316706,
          16.472256927259497,
          9.646856958539377,
          14.787083693676138,
          12.081905064424134,
          7.162810789382473,
          4.554479019182422,
          10.06074035372089,
          10.547414930746019,
          6.369160688763615,
          13.82828983654956,
          8.357081414905487,
          10.421874640064999,
          15.349671133605698,
          8.20295251955964,
          4.90036121870833,
          5.476966558161552,
          4.751740349807609,
          2.255705046762321,
          13.32849237105871,
          11.36757552880648,
          6.3760895418121395,
          6.718293372162124,
          3.766962107644845,
          6.3069084299175415,
          7.957105299951457,
          15.415513626910197,
          12.053232979788426,
          9.589547154969848,
          7.9853152601140085,
          6.950851692811442,
          3.3288079897829266,
          3.131825449869753,
          8.263810083756793,
          2.9105919123254047,
          13.042938867967235,
          2.4840863912645155,
          11.71569255716547,
          14.948764902755446,
          10.38739795227341,
          10.077280544309833,
          14.995420850808227,
          8.57696343026047,
          8.769049103492678,
          2.0664088434703,
          13.934283114678243,
          8.192555998951315,
          9.871817820594371,
          2.1069538806566577,
          6.296517563621494,
          4.574649318620964,
          12.472654578134161,
          6.495285894597193,
          4.631735945326659,
          10.424714201817752,
          10.951695849963292,
          12.275701565171232,
          10.777036221634408,
          2.182020283875822,
          15.118849827587344,
          12.987743093480983,
          4.9274480771494265,
          10.66599616677123,
          11.019811821899815,
          14.897845015984537,
          5.107199228261431,
          8.235262602687095,
          8.438865552709505,
          8.924782072232734,
          4.811733101568249,
          5.342351715091443,
          10.133823971886311,
          6.0334476178007,
          12.37877294324059,
          14.700115816085894,
          4.15073051088869,
          6.408437243401028,
          12.411706059033369,
          8.017256924885546,
          9.465766280240564,
          2.508400537487095,
          14.846204768648976,
          6.726158077550355,
          15.622700456009511,
          9.317125443389067,
          10.621573143400733,
          13.744103146730872,
          7.247168534816998,
          3.2410715327260937,
          12.792737340971314,
          16.161805620328312,
          9.928437197562438,
          10.523978773147833,
          6.816557622453512,
          6.789999758981924,
          16.83891828595611,
          9.81065814836101,
          12.700672184499258,
          6.390661800363563,
          4.842254958353364,
          12.680416814804758,
          6.580272988158669,
          12.79453646857412,
          2.6392966486252023,
          11.447056076167822,
          2.4396341939694386,
          5.92288969345742,
          11.434997367471192,
          15.660602282660527,
          2.981757927509367,
          12.01379128103462,
          11.740538825641329,
          9.204322849616577,
          15.895307278651982,
          12.102463884705326,
          5.40107646098088,
          4.959098293437467,
          2.279623700639979,
          7.783019621541534,
          12.81439034228503,
          14.650621160978142,
          3.748880775486529,
          12.091387366015336,
          9.400155461805205,
          13.156892335374863,
          14.98340264631295,
          3.4400459298122996,
          9.873563238189092,
          10.217167300653552,
          8.701934853307467,
          3.4919477747218624,
          2.0129739231354193,
          13.303016312560928,
          3.8226803071630546,
          9.869775690424374,
          16.22512602988089,
          5.497955737829974,
          13.977978381023565,
          7.507728308124129,
          15.42210328912562,
          4.815536829575064,
          6.558499984960162,
          5.669601446786581,
          9.949811654211924,
          5.67347585644538,
          5.852701177649488,
          10.352633499344003,
          7.2651396257273,
          8.753585361546138,
          3.778577220907724,
          9.663402823364528,
          11.841126804327988,
          9.549971541828711,
          2.420530629706912,
          4.370946216740997,
          11.499479626448812,
          10.665039792360158,
          3.0413405142134016,
          14.457093722950479,
          5.208812386113119,
          11.512227476206906,
          7.57482205314159,
          2.208800575205568,
          6.367131196860003,
          5.623746908682826,
          5.273816523095461,
          7.899941045313281,
          13.944443594153821,
          9.651521610149047,
          9.112132814593524,
          3.917441433833521,
          12.138189535660414,
          11.214127343068665,
          9.247602855970339,
          5.8323348050571635,
          14.348074410760933,
          6.349690245316244,
          15.183750180060994,
          10.587088070157588,
          12.282943192808268,
          6.645202993809198,
          3.773073578091727,
          11.347380282136788,
          13.910329545104375,
          5.488724044043865,
          11.775195680766805,
          2.102908597727079,
          4.730037973271101,
          5.213168917436491,
          2.2533496043148618,
          11.849022550051112,
          10.65387410272101,
          15.442761870373886,
          10.507869022015395,
          9.045994576227217,
          10.685085448198512,
          15.36933017162199,
          2.2554024084550637,
          5.908662034402504,
          8.6783341481441,
          14.274502304067346,
          10.642027789840464,
          12.5983983759366,
          9.97436600213521,
          4.194270684461247,
          15.516296763815635,
          8.484974975670085,
          8.015168388358147,
          6.272480298148806,
          8.174398358154713,
          2.905936446722365,
          13.717025110896882,
          16.998213188933306,
          10.102859041137759,
          4.388233092795661,
          4.215421494051402,
          14.799782870550313,
          13.932112063609662,
          2.7448622062013563,
          15.573662832078085,
          4.006159505968678,
          4.224672502675003,
          6.105207950038243,
          14.386312079052331,
          7.153878406653058,
          2.3624670702333677,
          10.17610668752372,
          5.841803811414798,
          15.212172945220967,
          10.10210385864643,
          7.77956982310865,
          8.18930908694826,
          8.388041402369263,
          12.660427831400705,
          9.498131393523604,
          9.382891390390167,
          2.9481977832440394,
          3.3969591115622335,
          5.333811935944873,
          12.362961130992339,
          5.080003227783515,
          2.163953123522834,
          12.516991212508742,
          14.388287823338494,
          7.945071158811599,
          9.973929311799017,
          2.0441174391093,
          13.379684557674487,
          8.724820437587844,
          11.720372764390234,
          7.4254059581229095,
          10.632359594154808,
          10.067500605938005,
          4.28127297331247,
          10.888192253853976,
          13.312327957108069,
          6.641276449172444,
          11.300099808637057,
          16.30698316948985,
          4.236265261770096,
          3.4736431871928612,
          15.8831721191615,
          2.0780244320281613,
          15.142298105127779,
          7.158905043137265,
          13.009845770398146,
          12.571336210689672,
          13.525345409401156,
          8.63493815513405,
          11.591619383265595,
          13.471628653645691,
          3.3367105659422966,
          14.676301162990871,
          10.424252480048384,
          8.5265826999082,
          11.02402805373983,
          10.206560361658156,
          9.425010840770312,
          7.1701718327627075,
          14.499949274976867,
          4.015181096784842,
          10.395617547661995,
          13.932190956681012,
          15.440714353313645,
          14.049194858991243,
          10.24883278551751,
          6.779164007029092,
          8.163864687445187,
          9.115077480389171,
          14.571605607794268,
          5.795888042480301,
          11.178354012021334,
          10.816994243150482,
          7.887406049073988,
          4.924177013834746,
          6.190590625789845,
          8.703382464470508,
          8.614291818705611,
          11.971881959468677,
          2.7127068678858492,
          7.2640735804723935,
          4.2054775499913575,
          11.115915952621446,
          16.18918611446958,
          12.294841316393107,
          7.504608434879696,
          4.80609321048341,
          9.424780177060747,
          15.156452386154445,
          4.450249525051207,
          6.438673167461116,
          5.225229172575469,
          4.997363566047145,
          4.013020876981264,
          4.258518692825293,
          9.472297150009844,
          2.974892703572614,
          12.123099173942432,
          13.33278988232305,
          7.079608019102602,
          4.4644401685836055,
          5.41956085573692,
          7.8243050553150235,
          2.534247676148047,
          8.714055797787788,
          5.9188379074556074,
          11.141214393470126,
          6.171448278129925,
          10.12797112117871,
          13.326051283795493,
          15.46220981773928,
          4.528152113976274,
          4.0304556327322745,
          10.426577317433699,
          4.117606387413426,
          4.986324120041769,
          10.516933886417497,
          12.365760238730472,
          6.280408814186233,
          16.753521233008957,
          5.883385130657741,
          14.454152770202654,
          7.430237064580476,
          6.2375616395514735,
          9.953840465682617,
          9.34948967940758,
          13.358075738120517,
          7.791697535892297,
          14.9196987641043,
          4.427740280912954,
          5.803260070542365,
          4.4860099817009536,
          16.784041971729216,
          16.989907376726443,
          7.5531954346418875,
          6.62074681050769,
          16.15437045083616,
          2.914253477122933,
          12.93640265608752,
          14.807147995107528,
          3.7688438554620896,
          9.037003419406915,
          4.563139378160718,
          11.991499405503948,
          13.70463669103085,
          4.147175819197409,
          16.032984636363043,
          10.25431009292675,
          6.8760527881297735,
          8.44082578475667,
          7.255112893092706,
          12.13519602153231,
          10.553389673746995,
          4.191781803814072,
          2.082388614090064,
          7.684616163390981,
          10.917334876642967,
          13.820020524857277,
          3.829063198424037,
          7.778382938764552,
          10.685853534896061,
          7.611563823973006,
          12.539995566807539,
          9.920995281479861,
          15.074306743188663,
          4.040342515577809,
          13.066078694761366,
          11.360759287372556,
          11.81620928752903,
          5.323226839850697,
          4.475334505902469,
          3.3204377520825847,
          4.608205831391145,
          4.816419627652395,
          9.85849696168745,
          7.784003257069956,
          14.592053914427714,
          8.100704890200884,
          8.104727002379835,
          9.95414423453791,
          10.88995435083628,
          10.270529691613456,
          7.478230558388788,
          6.909370804980388,
          4.420970750436966,
          12.040956573237668,
          5.148935148469619,
          8.077797223345755,
          12.522477539351211,
          9.100882073922211,
          4.738522717121276,
          5.862721934451492,
          12.875980571200667,
          10.688386380171037,
          5.513635190432961,
          8.340095962027462,
          16.9748235974245,
          2.6663766145812104,
          4.11057135063013,
          5.86756467566316,
          12.432390610416014,
          4.222366654615295,
          10.7587777194908,
          7.820726630600111,
          4.471184100592282,
          12.318385140447838,
          15.116539920805977,
          8.125878099213546,
          12.244492156765308,
          4.004132281027475,
          2.524370121485945,
          6.896504635905348,
          5.746587272651202,
          13.28715827754447,
          4.119963787629809,
          4.93571848832832,
          15.287647254494711,
          9.852817144297557,
          10.439373842533518,
          14.065531706096538,
          15.273151607542916,
          4.770870363108063,
          6.66948600474981,
          13.687150980570198,
          14.38736032230821,
          8.04177674932965,
          2.910901294116856,
          9.251734960822231,
          15.627739594604826,
          11.183073393777697,
          7.749946707673965,
          7.534976333930905,
          8.45792670497702,
          4.96887734978783,
          14.219141446972515,
          10.400056742432717,
          12.571604311363124,
          9.557963835036302,
          11.811954762130025,
          9.424872503205528,
          7.97289997685016,
          4.101825582066212,
          4.855980692603089,
          6.964099186721783,
          15.041548629448062,
          6.785136745418845,
          10.335768059510855,
          11.082221199109675,
          16.85193698107185,
          4.59975472125571,
          6.145635737291423,
          6.71761038151529,
          4.561073574299963,
          7.621290893864922,
          16.65543023801477,
          8.037949076856018,
          12.37503657338983,
          4.224690467457631,
          8.790462257439138,
          4.326131250579498,
          4.752214318284874,
          4.6989802951078765,
          14.153539129137727,
          6.226007675721152,
          3.3978750841978753,
          3.7758846944120195,
          9.957221473104624,
          2.252143106702474,
          8.452174768370476,
          14.335011771042634,
          8.648971501640375,
          3.834287767665696,
          6.146799043606823,
          13.26363739506423,
          3.0586812334063755,
          5.982481455354633,
          4.211368811601375,
          4.425283465021039,
          11.105396894191294,
          13.258430104158595,
          4.3730705951038145,
          12.746474257205673,
          9.932031875599561,
          3.335056825416455,
          11.573574720663634,
          14.383281412470664,
          9.353410502392647,
          5.458197150972746,
          14.784080342737775,
          12.499478113790571,
          15.712912563416099,
          8.45455050921646,
          4.64932687225725,
          6.39100162176475,
          13.128586374954391,
          10.397016333196614,
          4.589804280818127,
          5.9985049073615775,
          13.82424195042887,
          13.165941328827639,
          15.811000301279627,
          7.004827998915094,
          10.496180025638841,
          3.2502504455631733,
          4.960556539452705,
          4.259351968404489,
          9.782219901930247,
          12.481972442452276,
          9.830120079969637,
          14.454000432679486,
          11.121963443175728,
          2.8391598905155018,
          10.159496824413905,
          3.4565791397461445,
          9.631236814184845,
          4.197121808523107,
          11.774619140407648,
          16.78592551617726,
          7.058963399978891,
          6.8619614276233225,
          5.054112879319812,
          3.4799717170890343,
          6.3268918519459305,
          6.366871204961099,
          3.3845012729687007,
          7.961991744451333,
          3.7543010100667598,
          12.709256460924202,
          10.372028737440484,
          10.71269196007271,
          12.573460287091704,
          11.267331736052842,
          3.282319796967561,
          9.781317288080285,
          3.672860886835067,
          13.338825667972888,
          11.112876897892257,
          9.95695507600512,
          13.398349193910953,
          11.90159023331688,
          3.6848451403667504,
          7.239378417010412,
          5.331684245859589,
          16.12251502209987,
          15.958583335666393,
          14.373768629706495,
          4.646067046166445,
          9.284697929318465,
          9.74709675092799,
          10.090417161999174,
          3.051107726886398,
          10.646383255416954,
          3.942249421145987,
          16.45626610650337,
          3.516730466676157,
          8.347326052758042,
          13.499803423533272,
          7.245086022743717,
          7.801940440606681,
          3.346680699372959,
          7.544031763304712,
          3.1891479477796656,
          6.390603117152198,
          12.003594365258106,
          3.585772318438929,
          13.626184904886413,
          6.904900504764502,
          6.179943583257017,
          4.626271920667369,
          13.056747339824197,
          7.943915530326402,
          11.981274866169201,
          14.579665724185835,
          6.504795995792339,
          10.039591877149936,
          11.543940598773245,
          4.691521886321697,
          14.742347250835095,
          5.924201007994366,
          8.07172894477548,
          2.5483454862503567,
          2.1139548148938148,
          7.81619764613099,
          13.5155611481579,
          4.202927965956019,
          10.115537719363735,
          8.394412844133242,
          6.305181510899124,
          5.19741348498599,
          8.782952305623581,
          6.474203472720196,
          12.859779110397223,
          3.604817091264417,
          9.384178499168586,
          14.156925107534958,
          8.18957144844504,
          4.596507135283412,
          10.33442864107106,
          4.980881167643435,
          3.877609888029231,
          14.981830868295301,
          16.272193335768648,
          8.61416993423111,
          3.5808464527732484,
          6.31351704476545,
          10.101442530014033,
          4.07712399609467,
          16.62752132832736,
          9.4345170416167,
          4.414625831374035,
          13.152833849821542,
          7.431690880701048,
          3.618634654026679,
          4.544247344934885,
          7.858168451837193,
          3.8525635314166635,
          12.51368224879317,
          2.546735596187608,
          16.86788287978207,
          14.980873490544358,
          7.889448857003379,
          15.36628132813739,
          15.50304075162284,
          3.8112829269793354,
          10.887322772957653,
          9.241809369378576,
          6.113524114257562,
          12.420605897371527,
          11.465698948944866,
          3.6633858658198397,
          9.979503394373236,
          8.571955055204693,
          4.789729321104008,
          5.270810233697663,
          6.256772087645439,
          3.918134339365292,
          8.811123807857033,
          7.155835683744524,
          12.74970790889076,
          14.393323885266415,
          13.996333551145957,
          9.172858656829575,
          15.745479021359554,
          7.361073329186804,
          10.068797890355315,
          7.598355791891963,
          13.761805516603868,
          10.382256369842924,
          8.390758071201189,
          4.153125239130162,
          2.8940241740253123,
          12.97788177144944,
          3.9824134357859986,
          13.741250158951054,
          5.580863935467086,
          12.68212139182361,
          3.1877022037516185,
          3.5391651913663775,
          14.37309460100307,
          10.70056812269626,
          8.175662402466944,
          4.518875886439119,
          15.47141159045781,
          2.9510185353321554,
          3.178281421638174,
          5.962342041557915,
          8.54296980295515,
          8.632712558697463,
          4.721749664047032,
          11.362095422134843,
          14.932265031784883,
          2.5696693878341277,
          2.2992778236933846,
          12.259916499510545,
          11.098825966002803,
          8.925273966810586,
          10.26231220531809,
          6.036233840754827,
          14.078233178611413,
          9.756778130563724,
          10.778028664974563,
          14.646675687382993,
          11.936178229707922,
          15.435454637047021,
          8.726069517684799,
          13.323413402311518,
          6.879644496424094,
          8.322150524403199,
          2.109383581186358,
          10.56368791644611,
          13.725405397382728,
          11.35545589966923,
          4.819882420779625,
          3.123064003841507,
          7.1954414795999515
         ],
         "y0": " ",
         "yaxis": "y"
        }
       ],
       "layout": {
        "boxmode": "group",
        "legend": {
         "tracegroupgap": 0
        },
        "margin": {
         "t": 60
        },
        "template": {
         "data": {
          "bar": [
           {
            "error_x": {
             "color": "#2a3f5f"
            },
            "error_y": {
             "color": "#2a3f5f"
            },
            "marker": {
             "line": {
              "color": "#E5ECF6",
              "width": 0.5
             },
             "pattern": {
              "fillmode": "overlay",
              "size": 10,
              "solidity": 0.2
             }
            },
            "type": "bar"
           }
          ],
          "barpolar": [
           {
            "marker": {
             "line": {
              "color": "#E5ECF6",
              "width": 0.5
             },
             "pattern": {
              "fillmode": "overlay",
              "size": 10,
              "solidity": 0.2
             }
            },
            "type": "barpolar"
           }
          ],
          "carpet": [
           {
            "aaxis": {
             "endlinecolor": "#2a3f5f",
             "gridcolor": "white",
             "linecolor": "white",
             "minorgridcolor": "white",
             "startlinecolor": "#2a3f5f"
            },
            "baxis": {
             "endlinecolor": "#2a3f5f",
             "gridcolor": "white",
             "linecolor": "white",
             "minorgridcolor": "white",
             "startlinecolor": "#2a3f5f"
            },
            "type": "carpet"
           }
          ],
          "choropleth": [
           {
            "colorbar": {
             "outlinewidth": 0,
             "ticks": ""
            },
            "type": "choropleth"
           }
          ],
          "contour": [
           {
            "colorbar": {
             "outlinewidth": 0,
             "ticks": ""
            },
            "colorscale": [
             [
              0,
              "#0d0887"
             ],
             [
              0.1111111111111111,
              "#46039f"
             ],
             [
              0.2222222222222222,
              "#7201a8"
             ],
             [
              0.3333333333333333,
              "#9c179e"
             ],
             [
              0.4444444444444444,
              "#bd3786"
             ],
             [
              0.5555555555555556,
              "#d8576b"
             ],
             [
              0.6666666666666666,
              "#ed7953"
             ],
             [
              0.7777777777777778,
              "#fb9f3a"
             ],
             [
              0.8888888888888888,
              "#fdca26"
             ],
             [
              1,
              "#f0f921"
             ]
            ],
            "type": "contour"
           }
          ],
          "contourcarpet": [
           {
            "colorbar": {
             "outlinewidth": 0,
             "ticks": ""
            },
            "type": "contourcarpet"
           }
          ],
          "heatmap": [
           {
            "colorbar": {
             "outlinewidth": 0,
             "ticks": ""
            },
            "colorscale": [
             [
              0,
              "#0d0887"
             ],
             [
              0.1111111111111111,
              "#46039f"
             ],
             [
              0.2222222222222222,
              "#7201a8"
             ],
             [
              0.3333333333333333,
              "#9c179e"
             ],
             [
              0.4444444444444444,
              "#bd3786"
             ],
             [
              0.5555555555555556,
              "#d8576b"
             ],
             [
              0.6666666666666666,
              "#ed7953"
             ],
             [
              0.7777777777777778,
              "#fb9f3a"
             ],
             [
              0.8888888888888888,
              "#fdca26"
             ],
             [
              1,
              "#f0f921"
             ]
            ],
            "type": "heatmap"
           }
          ],
          "heatmapgl": [
           {
            "colorbar": {
             "outlinewidth": 0,
             "ticks": ""
            },
            "colorscale": [
             [
              0,
              "#0d0887"
             ],
             [
              0.1111111111111111,
              "#46039f"
             ],
             [
              0.2222222222222222,
              "#7201a8"
             ],
             [
              0.3333333333333333,
              "#9c179e"
             ],
             [
              0.4444444444444444,
              "#bd3786"
             ],
             [
              0.5555555555555556,
              "#d8576b"
             ],
             [
              0.6666666666666666,
              "#ed7953"
             ],
             [
              0.7777777777777778,
              "#fb9f3a"
             ],
             [
              0.8888888888888888,
              "#fdca26"
             ],
             [
              1,
              "#f0f921"
             ]
            ],
            "type": "heatmapgl"
           }
          ],
          "histogram": [
           {
            "marker": {
             "pattern": {
              "fillmode": "overlay",
              "size": 10,
              "solidity": 0.2
             }
            },
            "type": "histogram"
           }
          ],
          "histogram2d": [
           {
            "colorbar": {
             "outlinewidth": 0,
             "ticks": ""
            },
            "colorscale": [
             [
              0,
              "#0d0887"
             ],
             [
              0.1111111111111111,
              "#46039f"
             ],
             [
              0.2222222222222222,
              "#7201a8"
             ],
             [
              0.3333333333333333,
              "#9c179e"
             ],
             [
              0.4444444444444444,
              "#bd3786"
             ],
             [
              0.5555555555555556,
              "#d8576b"
             ],
             [
              0.6666666666666666,
              "#ed7953"
             ],
             [
              0.7777777777777778,
              "#fb9f3a"
             ],
             [
              0.8888888888888888,
              "#fdca26"
             ],
             [
              1,
              "#f0f921"
             ]
            ],
            "type": "histogram2d"
           }
          ],
          "histogram2dcontour": [
           {
            "colorbar": {
             "outlinewidth": 0,
             "ticks": ""
            },
            "colorscale": [
             [
              0,
              "#0d0887"
             ],
             [
              0.1111111111111111,
              "#46039f"
             ],
             [
              0.2222222222222222,
              "#7201a8"
             ],
             [
              0.3333333333333333,
              "#9c179e"
             ],
             [
              0.4444444444444444,
              "#bd3786"
             ],
             [
              0.5555555555555556,
              "#d8576b"
             ],
             [
              0.6666666666666666,
              "#ed7953"
             ],
             [
              0.7777777777777778,
              "#fb9f3a"
             ],
             [
              0.8888888888888888,
              "#fdca26"
             ],
             [
              1,
              "#f0f921"
             ]
            ],
            "type": "histogram2dcontour"
           }
          ],
          "mesh3d": [
           {
            "colorbar": {
             "outlinewidth": 0,
             "ticks": ""
            },
            "type": "mesh3d"
           }
          ],
          "parcoords": [
           {
            "line": {
             "colorbar": {
              "outlinewidth": 0,
              "ticks": ""
             }
            },
            "type": "parcoords"
           }
          ],
          "pie": [
           {
            "automargin": true,
            "type": "pie"
           }
          ],
          "scatter": [
           {
            "fillpattern": {
             "fillmode": "overlay",
             "size": 10,
             "solidity": 0.2
            },
            "type": "scatter"
           }
          ],
          "scatter3d": [
           {
            "line": {
             "colorbar": {
              "outlinewidth": 0,
              "ticks": ""
             }
            },
            "marker": {
             "colorbar": {
              "outlinewidth": 0,
              "ticks": ""
             }
            },
            "type": "scatter3d"
           }
          ],
          "scattercarpet": [
           {
            "marker": {
             "colorbar": {
              "outlinewidth": 0,
              "ticks": ""
             }
            },
            "type": "scattercarpet"
           }
          ],
          "scattergeo": [
           {
            "marker": {
             "colorbar": {
              "outlinewidth": 0,
              "ticks": ""
             }
            },
            "type": "scattergeo"
           }
          ],
          "scattergl": [
           {
            "marker": {
             "colorbar": {
              "outlinewidth": 0,
              "ticks": ""
             }
            },
            "type": "scattergl"
           }
          ],
          "scattermapbox": [
           {
            "marker": {
             "colorbar": {
              "outlinewidth": 0,
              "ticks": ""
             }
            },
            "type": "scattermapbox"
           }
          ],
          "scatterpolar": [
           {
            "marker": {
             "colorbar": {
              "outlinewidth": 0,
              "ticks": ""
             }
            },
            "type": "scatterpolar"
           }
          ],
          "scatterpolargl": [
           {
            "marker": {
             "colorbar": {
              "outlinewidth": 0,
              "ticks": ""
             }
            },
            "type": "scatterpolargl"
           }
          ],
          "scatterternary": [
           {
            "marker": {
             "colorbar": {
              "outlinewidth": 0,
              "ticks": ""
             }
            },
            "type": "scatterternary"
           }
          ],
          "surface": [
           {
            "colorbar": {
             "outlinewidth": 0,
             "ticks": ""
            },
            "colorscale": [
             [
              0,
              "#0d0887"
             ],
             [
              0.1111111111111111,
              "#46039f"
             ],
             [
              0.2222222222222222,
              "#7201a8"
             ],
             [
              0.3333333333333333,
              "#9c179e"
             ],
             [
              0.4444444444444444,
              "#bd3786"
             ],
             [
              0.5555555555555556,
              "#d8576b"
             ],
             [
              0.6666666666666666,
              "#ed7953"
             ],
             [
              0.7777777777777778,
              "#fb9f3a"
             ],
             [
              0.8888888888888888,
              "#fdca26"
             ],
             [
              1,
              "#f0f921"
             ]
            ],
            "type": "surface"
           }
          ],
          "table": [
           {
            "cells": {
             "fill": {
              "color": "#EBF0F8"
             },
             "line": {
              "color": "white"
             }
            },
            "header": {
             "fill": {
              "color": "#C8D4E3"
             },
             "line": {
              "color": "white"
             }
            },
            "type": "table"
           }
          ]
         },
         "layout": {
          "annotationdefaults": {
           "arrowcolor": "#2a3f5f",
           "arrowhead": 0,
           "arrowwidth": 1
          },
          "autotypenumbers": "strict",
          "coloraxis": {
           "colorbar": {
            "outlinewidth": 0,
            "ticks": ""
           }
          },
          "colorscale": {
           "diverging": [
            [
             0,
             "#8e0152"
            ],
            [
             0.1,
             "#c51b7d"
            ],
            [
             0.2,
             "#de77ae"
            ],
            [
             0.3,
             "#f1b6da"
            ],
            [
             0.4,
             "#fde0ef"
            ],
            [
             0.5,
             "#f7f7f7"
            ],
            [
             0.6,
             "#e6f5d0"
            ],
            [
             0.7,
             "#b8e186"
            ],
            [
             0.8,
             "#7fbc41"
            ],
            [
             0.9,
             "#4d9221"
            ],
            [
             1,
             "#276419"
            ]
           ],
           "sequential": [
            [
             0,
             "#0d0887"
            ],
            [
             0.1111111111111111,
             "#46039f"
            ],
            [
             0.2222222222222222,
             "#7201a8"
            ],
            [
             0.3333333333333333,
             "#9c179e"
            ],
            [
             0.4444444444444444,
             "#bd3786"
            ],
            [
             0.5555555555555556,
             "#d8576b"
            ],
            [
             0.6666666666666666,
             "#ed7953"
            ],
            [
             0.7777777777777778,
             "#fb9f3a"
            ],
            [
             0.8888888888888888,
             "#fdca26"
            ],
            [
             1,
             "#f0f921"
            ]
           ],
           "sequentialminus": [
            [
             0,
             "#0d0887"
            ],
            [
             0.1111111111111111,
             "#46039f"
            ],
            [
             0.2222222222222222,
             "#7201a8"
            ],
            [
             0.3333333333333333,
             "#9c179e"
            ],
            [
             0.4444444444444444,
             "#bd3786"
            ],
            [
             0.5555555555555556,
             "#d8576b"
            ],
            [
             0.6666666666666666,
             "#ed7953"
            ],
            [
             0.7777777777777778,
             "#fb9f3a"
            ],
            [
             0.8888888888888888,
             "#fdca26"
            ],
            [
             1,
             "#f0f921"
            ]
           ]
          },
          "colorway": [
           "#636efa",
           "#EF553B",
           "#00cc96",
           "#ab63fa",
           "#FFA15A",
           "#19d3f3",
           "#FF6692",
           "#B6E880",
           "#FF97FF",
           "#FECB52"
          ],
          "font": {
           "color": "#2a3f5f"
          },
          "geo": {
           "bgcolor": "white",
           "lakecolor": "white",
           "landcolor": "#E5ECF6",
           "showlakes": true,
           "showland": true,
           "subunitcolor": "white"
          },
          "hoverlabel": {
           "align": "left"
          },
          "hovermode": "closest",
          "mapbox": {
           "style": "light"
          },
          "paper_bgcolor": "white",
          "plot_bgcolor": "#E5ECF6",
          "polar": {
           "angularaxis": {
            "gridcolor": "white",
            "linecolor": "white",
            "ticks": ""
           },
           "bgcolor": "#E5ECF6",
           "radialaxis": {
            "gridcolor": "white",
            "linecolor": "white",
            "ticks": ""
           }
          },
          "scene": {
           "xaxis": {
            "backgroundcolor": "#E5ECF6",
            "gridcolor": "white",
            "gridwidth": 2,
            "linecolor": "white",
            "showbackground": true,
            "ticks": "",
            "zerolinecolor": "white"
           },
           "yaxis": {
            "backgroundcolor": "#E5ECF6",
            "gridcolor": "white",
            "gridwidth": 2,
            "linecolor": "white",
            "showbackground": true,
            "ticks": "",
            "zerolinecolor": "white"
           },
           "zaxis": {
            "backgroundcolor": "#E5ECF6",
            "gridcolor": "white",
            "gridwidth": 2,
            "linecolor": "white",
            "showbackground": true,
            "ticks": "",
            "zerolinecolor": "white"
           }
          },
          "shapedefaults": {
           "line": {
            "color": "#2a3f5f"
           }
          },
          "ternary": {
           "aaxis": {
            "gridcolor": "white",
            "linecolor": "white",
            "ticks": ""
           },
           "baxis": {
            "gridcolor": "white",
            "linecolor": "white",
            "ticks": ""
           },
           "bgcolor": "#E5ECF6",
           "caxis": {
            "gridcolor": "white",
            "linecolor": "white",
            "ticks": ""
           }
          },
          "title": {
           "x": 0.05
          },
          "xaxis": {
           "automargin": true,
           "gridcolor": "white",
           "linecolor": "white",
           "ticks": "",
           "title": {
            "standoff": 15
           },
           "zerolinecolor": "white",
           "zerolinewidth": 2
          },
          "yaxis": {
           "automargin": true,
           "gridcolor": "white",
           "linecolor": "white",
           "ticks": "",
           "title": {
            "standoff": 15
           },
           "zerolinecolor": "white",
           "zerolinewidth": 2
          }
         }
        },
        "xaxis": {
         "anchor": "y",
         "domain": [
          0,
          1
         ],
         "title": {
          "text": "x"
         }
        },
        "yaxis": {
         "anchor": "x",
         "domain": [
          0,
          1
         ],
         "title": {
          "text": "y"
         }
        }
       }
      },
      "text/html": [
       "<div>                            <div id=\"28885123-978b-4d98-9a1d-4e61aa52cc2c\" class=\"plotly-graph-div\" style=\"height:525px; width:100%;\"></div>            <script type=\"text/javascript\">                require([\"plotly\"], function(Plotly) {                    window.PLOTLYENV=window.PLOTLYENV || {};                                    if (document.getElementById(\"28885123-978b-4d98-9a1d-4e61aa52cc2c\")) {                    Plotly.newPlot(                        \"28885123-978b-4d98-9a1d-4e61aa52cc2c\",                        [{\"alignmentgroup\":\"True\",\"hovertemplate\":\"x=%{x}<br>y=%{y}<extra></extra>\",\"legendgroup\":\"\",\"marker\":{\"color\":\"#636efa\"},\"name\":\"\",\"notched\":false,\"offsetgroup\":\"\",\"orientation\":\"v\",\"showlegend\":false,\"x\":[\"Hospitalist\",\"General Medicine\",\"General Medicine\",\"General Medicine\",\"ICU\",\"Hospitalist\",\"Hospitalist\",\"Cardiology\",\"ICU\",\"Hospitalist\",\"Hospitalist\",\"Hospitalist\",\"General Medicine\",\"Hospitalist\",\"Hospitalist\",\"Hospitalist\",\"Hospitalist\",\"Hospitalist\",\"Hospitalist\",\"Hospitalist\",\"Hospitalist\",\"General Medicine\",\"Hospitalist\",\"Hospitalist\",\"Hospitalist\",\"Cardiology\",\"Hospitalist\",\"General Medicine\",\"General Medicine\",\"Hospitalist\",\"General Medicine\",\"ICU\",\"Cardiology\",\"General Medicine\",\"General Medicine\",\"General Medicine\",\"General Medicine\",\"General Medicine\",\"General Medicine\",\"General Medicine\",\"Neurology\",\"Orthopeadics\",\"Cardiology\",\"Cardiology\",\"Hospitalist\",\"ICU\",\"Cardiology\",\"General Medicine\",\"General Medicine\",\"General Medicine\",\"Cardiology\",\"General Medicine\",\"Hospitalist\",\"Orthopeadics\",\"General Medicine\",\"General Medicine\",\"Cardiology\",\"General Medicine\",\"General Medicine\",\"Neurology\",\"Neurology\",\"Neurology\",\"Hospitalist\",\"Orthopeadics\",\"ICU\",\"ICU\",\"General Medicine\",\"General Medicine\",\"Neurology\",\"ICU\",\"Hospitalist\",\"General Medicine\",\"General Medicine\",\"General Medicine\",\"General Medicine\",\"General Medicine\",\"ICU\",\"Hospitalist\",\"Cardiology\",\"ICU\",\"Orthopeadics\",\"General Medicine\",\"ICU\",\"Hospitalist\",\"Hospitalist\",\"General Medicine\",\"Cardiology\",\"Hospitalist\",\"ICU\",\"General Medicine\",\"ICU\",\"ICU\",\"General Medicine\",\"Orthopeadics\",\"ICU\",\"ICU\",\"General Medicine\",\"ICU\",\"Cardiology\",\"General Medicine\",\"ICU\",\"Hospitalist\",\"Cardiology\",\"General Medicine\",\"Orthopeadics\",\"ICU\",\"Cardiology\",\"Cardiology\",\"Cardiology\",\"Cardiology\",\"Orthopeadics\",\"General Medicine\",\"Cardiology\",\"ICU\",\"Cardiology\",\"ICU\",\"Cardiology\",\"General Medicine\",\"ICU\",\"ICU\",\"General Medicine\",\"Cardiology\",\"Cardiology\",\"General Medicine\",\"Cardiology\",\"Neurology\",\"ICU\",\"Cardiology\",\"General Medicine\",\"Neurology\",\"Neurology\",\"ICU\",\"General Medicine\",\"ICU\",\"Hospitalist\",\"ICU\",\"ICU\",\"ICU\",\"General Medicine\",\"General Medicine\",\"ICU\",\"Hospitalist\",\"Cardiology\",\"ICU\",\"ICU\",\"Hospitalist\",\"General Medicine\",\"ICU\",\"General Medicine\",\"ICU\",\"General Medicine\",\"ICU\",\"Hospitalist\",\"General Medicine\",\"Orthopeadics\",\"Hospitalist\",\"Neurology\",\"Cardiology\",\"ICU\",\"Orthopeadics\",\"ICU\",\"ICU\",\"Orthopeadics\",\"Neurology\",\"General Medicine\",\"Cardiology\",\"ICU\",\"General Medicine\",\"General Medicine\",\"Hospitalist\",\"ICU\",\"Hospitalist\",\"ICU\",\"ICU\",\"General Medicine\",\"General Medicine\",\"Cardiology\",\"Cardiology\",\"Hospitalist\",\"General Medicine\",\"ICU\",\"General Medicine\",\"ICU\",\"General Medicine\",\"ICU\",\"General Medicine\",\"Orthopeadics\",\"ICU\",\"ICU\",\"Hospitalist\",\"ICU\",\"General Medicine\",\"General Medicine\",\"General Medicine\",\"Orthopeadics\",\"ICU\",\"ICU\",\"ICU\",\"ICU\",\"ICU\",\"ICU\",\"ICU\",\"General Medicine\",\"General Medicine\",\"General Medicine\",\"Neurology\",\"ICU\",\"ICU\",\"Cardiology\",\"Hospitalist\",\"Cardiology\",\"General Medicine\",\"Hospitalist\",\"General Medicine\",\"General Medicine\",\"Orthopeadics\",\"Neurology\",\"ICU\",\"General Medicine\",\"General Medicine\",\"General Medicine\",\"Cardiology\",\"Cardiology\",\"General Medicine\",\"Neurology\",\"General Medicine\",\"General Medicine\",\"General Medicine\",\"Cardiology\",\"Hospitalist\",\"General Medicine\",\"Hospitalist\",\"General Medicine\",\"Cardiology\",\"Neurology\",\"Hospitalist\",\"General Medicine\",\"Hospitalist\",\"ICU\",\"General Medicine\",\"General Medicine\",\"Orthopeadics\",\"General Medicine\",\"Hospitalist\",\"Neurology\",\"General Medicine\",\"General Medicine\",\"ICU\",\"ICU\",\"General Medicine\",\"Hospitalist\",\"Orthopeadics\",\"Cardiology\",\"Hospitalist\",\"ICU\",\"General Medicine\",\"Hospitalist\",\"Hospitalist\",\"Orthopeadics\",\"General Medicine\",\"ICU\",\"General Medicine\",\"Cardiology\",\"ICU\",\"General Medicine\",\"Orthopeadics\",\"ICU\",\"General Medicine\",\"ICU\",\"General Medicine\",\"Cardiology\",\"ICU\",\"Cardiology\",\"General Medicine\",\"Cardiology\",\"ICU\",\"Orthopeadics\",\"ICU\",\"General Medicine\",\"General Medicine\",\"Cardiology\",\"General Medicine\",\"Neurology\",\"General Medicine\",\"ICU\",\"General Medicine\",\"General Medicine\",\"Cardiology\",\"Cardiology\",\"ICU\",\"ICU\",\"General Medicine\",\"General Medicine\",\"Neurology\",\"Cardiology\",\"Hospitalist\",\"ICU\",\"Neurology\",\"Hospitalist\",\"General Medicine\",\"General Medicine\",\"General Medicine\",\"General Medicine\",\"Neurology\",\"General Medicine\",\"General Medicine\",\"General Medicine\",\"ICU\",\"ICU\",\"ICU\",\"General Medicine\",\"General Medicine\",\"Hospitalist\",\"Cardiology\",\"General Medicine\",\"Hospitalist\",\"Hospitalist\",\"General Medicine\",\"General Medicine\",\"Hospitalist\",\"Hospitalist\",\"Orthopeadics\",\"Cardiology\",\"Neurology\",\"Hospitalist\",\"Orthopeadics\",\"General Medicine\",\"General Medicine\",\"General Medicine\",\"General Medicine\",\"General Medicine\",\"ICU\",\"General Medicine\",\"Hospitalist\",\"Cardiology\",\"Cardiology\",\"General Medicine\",\"General Medicine\",\"ICU\",\"Orthopeadics\",\"Orthopeadics\",\"Neurology\",\"ICU\",\"General Medicine\",\"ICU\",\"General Medicine\",\"ICU\",\"Hospitalist\",\"Hospitalist\",\"Cardiology\",\"General Medicine\",\"Cardiology\",\"General Medicine\",\"Cardiology\",\"General Medicine\",\"General Medicine\",\"General Medicine\",\"ICU\",\"ICU\",\"General Medicine\",\"General Medicine\",\"ICU\",\"General Medicine\",\"Neurology\",\"ICU\",\"Orthopeadics\",\"General Medicine\",\"Hospitalist\",\"Cardiology\",\"ICU\",\"General Medicine\",\"ICU\",\"Cardiology\",\"General Medicine\",\"General Medicine\",\"Hospitalist\",\"ICU\",\"ICU\",\"Orthopeadics\",\"General Medicine\",\"General Medicine\",\"ICU\",\"Neurology\",\"General Medicine\",\"General Medicine\",\"Cardiology\",\"General Medicine\",\"ICU\",\"Cardiology\",\"ICU\",\"General Medicine\",\"ICU\",\"Neurology\",\"Cardiology\",\"General Medicine\",\"General Medicine\",\"Orthopeadics\",\"Hospitalist\",\"General Medicine\",\"General Medicine\",\"General Medicine\",\"Neurology\",\"General Medicine\",\"General Medicine\",\"Cardiology\",\"Hospitalist\",\"General Medicine\",\"General Medicine\",\"General Medicine\",\"General Medicine\",\"Cardiology\",\"General Medicine\",\"General Medicine\",\"Neurology\",\"Hospitalist\",\"General Medicine\",\"General Medicine\",\"Neurology\",\"ICU\",\"Hospitalist\",\"General Medicine\",\"ICU\",\"Orthopeadics\",\"Hospitalist\",\"General Medicine\",\"Cardiology\",\"Hospitalist\",\"ICU\",\"Hospitalist\",\"General Medicine\",\"ICU\",\"ICU\",\"General Medicine\",\"ICU\",\"Orthopeadics\",\"Orthopeadics\",\"General Medicine\",\"General Medicine\",\"ICU\",\"Hospitalist\",\"General Medicine\",\"ICU\",\"Neurology\",\"ICU\",\"ICU\",\"Cardiology\",\"Orthopeadics\",\"General Medicine\",\"ICU\",\"Neurology\",\"General Medicine\",\"Neurology\",\"Neurology\",\"Cardiology\",\"Cardiology\",\"General Medicine\",\"Neurology\",\"Neurology\",\"General Medicine\",\"Cardiology\",\"Neurology\",\"Neurology\",\"Neurology\",\"ICU\",\"Cardiology\",\"General Medicine\",\"Neurology\",\"Neurology\",\"General Medicine\",\"Neurology\",\"Hospitalist\",\"Neurology\",\"ICU\",\"ICU\",\"Hospitalist\",\"General Medicine\",\"General Medicine\",\"General Medicine\",\"Hospitalist\",\"ICU\",\"Hospitalist\",\"ICU\",\"Hospitalist\",\"General Medicine\",\"Hospitalist\",\"Neurology\",\"Neurology\",\"ICU\",\"General Medicine\",\"General Medicine\",\"Neurology\",\"Hospitalist\",\"Orthopeadics\",\"General Medicine\",\"ICU\",\"Neurology\",\"General Medicine\",\"General Medicine\",\"Cardiology\",\"Neurology\",\"Hospitalist\",\"Orthopeadics\",\"General Medicine\",\"Cardiology\",\"ICU\",\"Orthopeadics\",\"Cardiology\",\"Neurology\",\"Orthopeadics\",\"ICU\",\"ICU\",\"General Medicine\",\"General Medicine\",\"Cardiology\",\"Neurology\",\"Neurology\",\"General Medicine\",\"Orthopeadics\",\"General Medicine\",\"Cardiology\",\"ICU\",\"General Medicine\",\"General Medicine\",\"ICU\",\"Cardiology\",\"Cardiology\",\"General Medicine\",\"Hospitalist\",\"General Medicine\",\"General Medicine\",\"General Medicine\",\"Hospitalist\",\"Neurology\",\"Cardiology\",\"Neurology\",\"ICU\",\"General Medicine\",\"ICU\",\"General Medicine\",\"Hospitalist\",\"General Medicine\",\"Cardiology\",\"Neurology\",\"General Medicine\",\"Hospitalist\",\"General Medicine\",\"General Medicine\",\"General Medicine\",\"General Medicine\",\"General Medicine\",\"General Medicine\",\"Orthopeadics\",\"ICU\",\"Neurology\",\"Neurology\",\"ICU\",\"Neurology\",\"Orthopeadics\",\"Hospitalist\",\"General Medicine\",\"ICU\",\"Neurology\",\"Cardiology\",\"ICU\",\"Cardiology\",\"General Medicine\",\"General Medicine\",\"General Medicine\",\"ICU\",\"Neurology\",\"ICU\",\"General Medicine\",\"Hospitalist\",\"Hospitalist\",\"Cardiology\",\"General Medicine\",\"Hospitalist\",\"General Medicine\",\"ICU\",\"General Medicine\",\"General Medicine\",\"Neurology\",\"General Medicine\",\"General Medicine\",\"General Medicine\",\"General Medicine\",\"General Medicine\",\"Hospitalist\",\"Neurology\",\"General Medicine\",\"Cardiology\",\"General Medicine\",\"General Medicine\",\"Orthopeadics\",\"ICU\",\"General Medicine\",\"ICU\",\"Neurology\",\"General Medicine\",\"Neurology\",\"ICU\",\"Orthopeadics\",\"Cardiology\",\"General Medicine\",\"General Medicine\",\"General Medicine\",\"General Medicine\",\"Hospitalist\",\"ICU\",\"Hospitalist\",\"ICU\",\"Hospitalist\",\"Hospitalist\",\"General Medicine\",\"Hospitalist\",\"General Medicine\",\"Cardiology\",\"Orthopeadics\",\"Neurology\",\"Cardiology\",\"General Medicine\",\"General Medicine\",\"Neurology\",\"General Medicine\",\"General Medicine\",\"Cardiology\",\"ICU\",\"General Medicine\",\"General Medicine\",\"General Medicine\",\"ICU\",\"General Medicine\",\"ICU\",\"Hospitalist\",\"General Medicine\",\"Cardiology\",\"General Medicine\",\"General Medicine\",\"Orthopeadics\",\"Hospitalist\",\"General Medicine\",\"Neurology\",\"General Medicine\",\"ICU\",\"Cardiology\",\"General Medicine\",\"ICU\",\"ICU\",\"General Medicine\",\"Hospitalist\",\"Hospitalist\",\"General Medicine\",\"ICU\",\"Cardiology\",\"General Medicine\",\"Hospitalist\",\"Hospitalist\",\"Orthopeadics\",\"Hospitalist\",\"General Medicine\",\"Orthopeadics\",\"General Medicine\",\"General Medicine\",\"ICU\",\"Cardiology\",\"Neurology\",\"Cardiology\",\"ICU\",\"General Medicine\",\"Cardiology\",\"General Medicine\",\"ICU\",\"ICU\",\"Hospitalist\",\"Orthopeadics\",\"General Medicine\",\"ICU\",\"General Medicine\",\"Cardiology\",\"Hospitalist\",\"ICU\",\"Orthopeadics\",\"General Medicine\",\"ICU\",\"ICU\",\"General Medicine\",\"General Medicine\",\"Cardiology\",\"General Medicine\",\"General Medicine\",\"General Medicine\",\"General Medicine\",\"General Medicine\",\"General Medicine\",\"ICU\",\"Cardiology\",\"Orthopeadics\",\"General Medicine\",\"Cardiology\",\"Cardiology\",\"General Medicine\",\"ICU\",\"General Medicine\",\"ICU\",\"Neurology\",\"Cardiology\",\"Cardiology\",\"ICU\",\"Cardiology\",\"General Medicine\",\"ICU\",\"General Medicine\",\"General Medicine\",\"General Medicine\",\"ICU\",\"Cardiology\",\"ICU\",\"Hospitalist\",\"General Medicine\",\"General Medicine\"],\"x0\":\" \",\"xaxis\":\"x\",\"y\":[6.717771346663337,3.825969024190549,3.3824933742760894,3.7633523908979027,13.650953356868314,9.55504663316706,16.472256927259497,9.646856958539377,14.787083693676138,12.081905064424134,7.162810789382473,4.554479019182422,10.06074035372089,10.547414930746019,6.369160688763615,13.82828983654956,8.357081414905487,10.421874640064999,15.349671133605698,8.20295251955964,4.90036121870833,5.476966558161552,4.751740349807609,2.255705046762321,13.32849237105871,11.36757552880648,6.3760895418121395,6.718293372162124,3.766962107644845,6.3069084299175415,7.957105299951457,15.415513626910197,12.053232979788426,9.589547154969848,7.9853152601140085,6.950851692811442,3.3288079897829266,3.131825449869753,8.263810083756793,2.9105919123254047,13.042938867967235,2.4840863912645155,11.71569255716547,14.948764902755446,10.38739795227341,10.077280544309833,14.995420850808227,8.57696343026047,8.769049103492678,2.0664088434703,13.934283114678243,8.192555998951315,9.871817820594371,2.1069538806566577,6.296517563621494,4.574649318620964,12.472654578134161,6.495285894597193,4.631735945326659,10.424714201817752,10.951695849963292,12.275701565171232,10.777036221634408,2.182020283875822,15.118849827587344,12.987743093480983,4.9274480771494265,10.66599616677123,11.019811821899815,14.897845015984537,5.107199228261431,8.235262602687095,8.438865552709505,8.924782072232734,4.811733101568249,5.342351715091443,10.133823971886311,6.0334476178007,12.37877294324059,14.700115816085894,4.15073051088869,6.408437243401028,12.411706059033369,8.017256924885546,9.465766280240564,2.508400537487095,14.846204768648976,6.726158077550355,15.622700456009511,9.317125443389067,10.621573143400733,13.744103146730872,7.247168534816998,3.2410715327260937,12.792737340971314,16.161805620328312,9.928437197562438,10.523978773147833,6.816557622453512,6.789999758981924,16.83891828595611,9.81065814836101,12.700672184499258,6.390661800363563,4.842254958353364,12.680416814804758,6.580272988158669,12.79453646857412,2.6392966486252023,11.447056076167822,2.4396341939694386,5.92288969345742,11.434997367471192,15.660602282660527,2.981757927509367,12.01379128103462,11.740538825641329,9.204322849616577,15.895307278651982,12.102463884705326,5.40107646098088,4.959098293437467,2.279623700639979,7.783019621541534,12.81439034228503,14.650621160978142,3.748880775486529,12.091387366015336,9.400155461805205,13.156892335374863,14.98340264631295,3.4400459298122996,9.873563238189092,10.217167300653552,8.701934853307467,3.4919477747218624,2.0129739231354193,13.303016312560928,3.8226803071630546,9.869775690424374,16.22512602988089,5.497955737829974,13.977978381023565,7.507728308124129,15.42210328912562,4.815536829575064,6.558499984960162,5.669601446786581,9.949811654211924,5.67347585644538,5.852701177649488,10.352633499344003,7.2651396257273,8.753585361546138,3.778577220907724,9.663402823364528,11.841126804327988,9.549971541828711,2.420530629706912,4.370946216740997,11.499479626448812,10.665039792360158,3.0413405142134016,14.457093722950479,5.208812386113119,11.512227476206906,7.57482205314159,2.208800575205568,6.367131196860003,5.623746908682826,5.273816523095461,7.899941045313281,13.944443594153821,9.651521610149047,9.112132814593524,3.917441433833521,12.138189535660414,11.214127343068665,9.247602855970339,5.8323348050571635,14.348074410760933,6.349690245316244,15.183750180060994,10.587088070157588,12.282943192808268,6.645202993809198,3.773073578091727,11.347380282136788,13.910329545104375,5.488724044043865,11.775195680766805,2.102908597727079,4.730037973271101,5.213168917436491,2.2533496043148618,11.849022550051112,10.65387410272101,15.442761870373886,10.507869022015395,9.045994576227217,10.685085448198512,15.36933017162199,2.2554024084550637,5.908662034402504,8.6783341481441,14.274502304067346,10.642027789840464,12.5983983759366,9.97436600213521,4.194270684461247,15.516296763815635,8.484974975670085,8.015168388358147,6.272480298148806,8.174398358154713,2.905936446722365,13.717025110896882,16.998213188933306,10.102859041137759,4.388233092795661,4.215421494051402,14.799782870550313,13.932112063609662,2.7448622062013563,15.573662832078085,4.006159505968678,4.224672502675003,6.105207950038243,14.386312079052331,7.153878406653058,2.3624670702333677,10.17610668752372,5.841803811414798,15.212172945220967,10.10210385864643,7.77956982310865,8.18930908694826,8.388041402369263,12.660427831400705,9.498131393523604,9.382891390390167,2.9481977832440394,3.3969591115622335,5.333811935944873,12.362961130992339,5.080003227783515,2.163953123522834,12.516991212508742,14.388287823338494,7.945071158811599,9.973929311799017,2.0441174391093,13.379684557674487,8.724820437587844,11.720372764390234,7.4254059581229095,10.632359594154808,10.067500605938005,4.28127297331247,10.888192253853976,13.312327957108069,6.641276449172444,11.300099808637057,16.30698316948985,4.236265261770096,3.4736431871928612,15.8831721191615,2.0780244320281613,15.142298105127779,7.158905043137265,13.009845770398146,12.571336210689672,13.525345409401156,8.63493815513405,11.591619383265595,13.471628653645691,3.3367105659422966,14.676301162990871,10.424252480048384,8.5265826999082,11.02402805373983,10.206560361658156,9.425010840770312,7.1701718327627075,14.499949274976867,4.015181096784842,10.395617547661995,13.932190956681012,15.440714353313645,14.049194858991243,10.24883278551751,6.779164007029092,8.163864687445187,9.115077480389171,14.571605607794268,5.795888042480301,11.178354012021334,10.816994243150482,7.887406049073988,4.924177013834746,6.190590625789845,8.703382464470508,8.614291818705611,11.971881959468677,2.7127068678858492,7.2640735804723935,4.2054775499913575,11.115915952621446,16.18918611446958,12.294841316393107,7.504608434879696,4.80609321048341,9.424780177060747,15.156452386154445,4.450249525051207,6.438673167461116,5.225229172575469,4.997363566047145,4.013020876981264,4.258518692825293,9.472297150009844,2.974892703572614,12.123099173942432,13.33278988232305,7.079608019102602,4.4644401685836055,5.41956085573692,7.8243050553150235,2.534247676148047,8.714055797787788,5.9188379074556074,11.141214393470126,6.171448278129925,10.12797112117871,13.326051283795493,15.46220981773928,4.528152113976274,4.0304556327322745,10.426577317433699,4.117606387413426,4.986324120041769,10.516933886417497,12.365760238730472,6.280408814186233,16.753521233008957,5.883385130657741,14.454152770202654,7.430237064580476,6.2375616395514735,9.953840465682617,9.34948967940758,13.358075738120517,7.791697535892297,14.9196987641043,4.427740280912954,5.803260070542365,4.4860099817009536,16.784041971729216,16.989907376726443,7.5531954346418875,6.62074681050769,16.15437045083616,2.914253477122933,12.93640265608752,14.807147995107528,3.7688438554620896,9.037003419406915,4.563139378160718,11.991499405503948,13.70463669103085,4.147175819197409,16.032984636363043,10.25431009292675,6.8760527881297735,8.44082578475667,7.255112893092706,12.13519602153231,10.553389673746995,4.191781803814072,2.082388614090064,7.684616163390981,10.917334876642967,13.820020524857277,3.829063198424037,7.778382938764552,10.685853534896061,7.611563823973006,12.539995566807539,9.920995281479861,15.074306743188663,4.040342515577809,13.066078694761366,11.360759287372556,11.81620928752903,5.323226839850697,4.475334505902469,3.3204377520825847,4.608205831391145,4.816419627652395,9.85849696168745,7.784003257069956,14.592053914427714,8.100704890200884,8.104727002379835,9.95414423453791,10.88995435083628,10.270529691613456,7.478230558388788,6.909370804980388,4.420970750436966,12.040956573237668,5.148935148469619,8.077797223345755,12.522477539351211,9.100882073922211,4.738522717121276,5.862721934451492,12.875980571200667,10.688386380171037,5.513635190432961,8.340095962027462,16.9748235974245,2.6663766145812104,4.11057135063013,5.86756467566316,12.432390610416014,4.222366654615295,10.7587777194908,7.820726630600111,4.471184100592282,12.318385140447838,15.116539920805977,8.125878099213546,12.244492156765308,4.004132281027475,2.524370121485945,6.896504635905348,5.746587272651202,13.28715827754447,4.119963787629809,4.93571848832832,15.287647254494711,9.852817144297557,10.439373842533518,14.065531706096538,15.273151607542916,4.770870363108063,6.66948600474981,13.687150980570198,14.38736032230821,8.04177674932965,2.910901294116856,9.251734960822231,15.627739594604826,11.183073393777697,7.749946707673965,7.534976333930905,8.45792670497702,4.96887734978783,14.219141446972515,10.400056742432717,12.571604311363124,9.557963835036302,11.811954762130025,9.424872503205528,7.97289997685016,4.101825582066212,4.855980692603089,6.964099186721783,15.041548629448062,6.785136745418845,10.335768059510855,11.082221199109675,16.85193698107185,4.59975472125571,6.145635737291423,6.71761038151529,4.561073574299963,7.621290893864922,16.65543023801477,8.037949076856018,12.37503657338983,4.224690467457631,8.790462257439138,4.326131250579498,4.752214318284874,4.6989802951078765,14.153539129137727,6.226007675721152,3.3978750841978753,3.7758846944120195,9.957221473104624,2.252143106702474,8.452174768370476,14.335011771042634,8.648971501640375,3.834287767665696,6.146799043606823,13.26363739506423,3.0586812334063755,5.982481455354633,4.211368811601375,4.425283465021039,11.105396894191294,13.258430104158595,4.3730705951038145,12.746474257205673,9.932031875599561,3.335056825416455,11.573574720663634,14.383281412470664,9.353410502392647,5.458197150972746,14.784080342737775,12.499478113790571,15.712912563416099,8.45455050921646,4.64932687225725,6.39100162176475,13.128586374954391,10.397016333196614,4.589804280818127,5.9985049073615775,13.82424195042887,13.165941328827639,15.811000301279627,7.004827998915094,10.496180025638841,3.2502504455631733,4.960556539452705,4.259351968404489,9.782219901930247,12.481972442452276,9.830120079969637,14.454000432679486,11.121963443175728,2.8391598905155018,10.159496824413905,3.4565791397461445,9.631236814184845,4.197121808523107,11.774619140407648,16.78592551617726,7.058963399978891,6.8619614276233225,5.054112879319812,3.4799717170890343,6.3268918519459305,6.366871204961099,3.3845012729687007,7.961991744451333,3.7543010100667598,12.709256460924202,10.372028737440484,10.71269196007271,12.573460287091704,11.267331736052842,3.282319796967561,9.781317288080285,3.672860886835067,13.338825667972888,11.112876897892257,9.95695507600512,13.398349193910953,11.90159023331688,3.6848451403667504,7.239378417010412,5.331684245859589,16.12251502209987,15.958583335666393,14.373768629706495,4.646067046166445,9.284697929318465,9.74709675092799,10.090417161999174,3.051107726886398,10.646383255416954,3.942249421145987,16.45626610650337,3.516730466676157,8.347326052758042,13.499803423533272,7.245086022743717,7.801940440606681,3.346680699372959,7.544031763304712,3.1891479477796656,6.390603117152198,12.003594365258106,3.585772318438929,13.626184904886413,6.904900504764502,6.179943583257017,4.626271920667369,13.056747339824197,7.943915530326402,11.981274866169201,14.579665724185835,6.504795995792339,10.039591877149936,11.543940598773245,4.691521886321697,14.742347250835095,5.924201007994366,8.07172894477548,2.5483454862503567,2.1139548148938148,7.81619764613099,13.5155611481579,4.202927965956019,10.115537719363735,8.394412844133242,6.305181510899124,5.19741348498599,8.782952305623581,6.474203472720196,12.859779110397223,3.604817091264417,9.384178499168586,14.156925107534958,8.18957144844504,4.596507135283412,10.33442864107106,4.980881167643435,3.877609888029231,14.981830868295301,16.272193335768648,8.61416993423111,3.5808464527732484,6.31351704476545,10.101442530014033,4.07712399609467,16.62752132832736,9.4345170416167,4.414625831374035,13.152833849821542,7.431690880701048,3.618634654026679,4.544247344934885,7.858168451837193,3.8525635314166635,12.51368224879317,2.546735596187608,16.86788287978207,14.980873490544358,7.889448857003379,15.36628132813739,15.50304075162284,3.8112829269793354,10.887322772957653,9.241809369378576,6.113524114257562,12.420605897371527,11.465698948944866,3.6633858658198397,9.979503394373236,8.571955055204693,4.789729321104008,5.270810233697663,6.256772087645439,3.918134339365292,8.811123807857033,7.155835683744524,12.74970790889076,14.393323885266415,13.996333551145957,9.172858656829575,15.745479021359554,7.361073329186804,10.068797890355315,7.598355791891963,13.761805516603868,10.382256369842924,8.390758071201189,4.153125239130162,2.8940241740253123,12.97788177144944,3.9824134357859986,13.741250158951054,5.580863935467086,12.68212139182361,3.1877022037516185,3.5391651913663775,14.37309460100307,10.70056812269626,8.175662402466944,4.518875886439119,15.47141159045781,2.9510185353321554,3.178281421638174,5.962342041557915,8.54296980295515,8.632712558697463,4.721749664047032,11.362095422134843,14.932265031784883,2.5696693878341277,2.2992778236933846,12.259916499510545,11.098825966002803,8.925273966810586,10.26231220531809,6.036233840754827,14.078233178611413,9.756778130563724,10.778028664974563,14.646675687382993,11.936178229707922,15.435454637047021,8.726069517684799,13.323413402311518,6.879644496424094,8.322150524403199,2.109383581186358,10.56368791644611,13.725405397382728,11.35545589966923,4.819882420779625,3.123064003841507,7.1954414795999515],\"y0\":\" \",\"yaxis\":\"y\",\"type\":\"box\"}],                        {\"template\":{\"data\":{\"histogram2dcontour\":[{\"type\":\"histogram2dcontour\",\"colorbar\":{\"outlinewidth\":0,\"ticks\":\"\"},\"colorscale\":[[0.0,\"#0d0887\"],[0.1111111111111111,\"#46039f\"],[0.2222222222222222,\"#7201a8\"],[0.3333333333333333,\"#9c179e\"],[0.4444444444444444,\"#bd3786\"],[0.5555555555555556,\"#d8576b\"],[0.6666666666666666,\"#ed7953\"],[0.7777777777777778,\"#fb9f3a\"],[0.8888888888888888,\"#fdca26\"],[1.0,\"#f0f921\"]]}],\"choropleth\":[{\"type\":\"choropleth\",\"colorbar\":{\"outlinewidth\":0,\"ticks\":\"\"}}],\"histogram2d\":[{\"type\":\"histogram2d\",\"colorbar\":{\"outlinewidth\":0,\"ticks\":\"\"},\"colorscale\":[[0.0,\"#0d0887\"],[0.1111111111111111,\"#46039f\"],[0.2222222222222222,\"#7201a8\"],[0.3333333333333333,\"#9c179e\"],[0.4444444444444444,\"#bd3786\"],[0.5555555555555556,\"#d8576b\"],[0.6666666666666666,\"#ed7953\"],[0.7777777777777778,\"#fb9f3a\"],[0.8888888888888888,\"#fdca26\"],[1.0,\"#f0f921\"]]}],\"heatmap\":[{\"type\":\"heatmap\",\"colorbar\":{\"outlinewidth\":0,\"ticks\":\"\"},\"colorscale\":[[0.0,\"#0d0887\"],[0.1111111111111111,\"#46039f\"],[0.2222222222222222,\"#7201a8\"],[0.3333333333333333,\"#9c179e\"],[0.4444444444444444,\"#bd3786\"],[0.5555555555555556,\"#d8576b\"],[0.6666666666666666,\"#ed7953\"],[0.7777777777777778,\"#fb9f3a\"],[0.8888888888888888,\"#fdca26\"],[1.0,\"#f0f921\"]]}],\"heatmapgl\":[{\"type\":\"heatmapgl\",\"colorbar\":{\"outlinewidth\":0,\"ticks\":\"\"},\"colorscale\":[[0.0,\"#0d0887\"],[0.1111111111111111,\"#46039f\"],[0.2222222222222222,\"#7201a8\"],[0.3333333333333333,\"#9c179e\"],[0.4444444444444444,\"#bd3786\"],[0.5555555555555556,\"#d8576b\"],[0.6666666666666666,\"#ed7953\"],[0.7777777777777778,\"#fb9f3a\"],[0.8888888888888888,\"#fdca26\"],[1.0,\"#f0f921\"]]}],\"contourcarpet\":[{\"type\":\"contourcarpet\",\"colorbar\":{\"outlinewidth\":0,\"ticks\":\"\"}}],\"contour\":[{\"type\":\"contour\",\"colorbar\":{\"outlinewidth\":0,\"ticks\":\"\"},\"colorscale\":[[0.0,\"#0d0887\"],[0.1111111111111111,\"#46039f\"],[0.2222222222222222,\"#7201a8\"],[0.3333333333333333,\"#9c179e\"],[0.4444444444444444,\"#bd3786\"],[0.5555555555555556,\"#d8576b\"],[0.6666666666666666,\"#ed7953\"],[0.7777777777777778,\"#fb9f3a\"],[0.8888888888888888,\"#fdca26\"],[1.0,\"#f0f921\"]]}],\"surface\":[{\"type\":\"surface\",\"colorbar\":{\"outlinewidth\":0,\"ticks\":\"\"},\"colorscale\":[[0.0,\"#0d0887\"],[0.1111111111111111,\"#46039f\"],[0.2222222222222222,\"#7201a8\"],[0.3333333333333333,\"#9c179e\"],[0.4444444444444444,\"#bd3786\"],[0.5555555555555556,\"#d8576b\"],[0.6666666666666666,\"#ed7953\"],[0.7777777777777778,\"#fb9f3a\"],[0.8888888888888888,\"#fdca26\"],[1.0,\"#f0f921\"]]}],\"mesh3d\":[{\"type\":\"mesh3d\",\"colorbar\":{\"outlinewidth\":0,\"ticks\":\"\"}}],\"scatter\":[{\"fillpattern\":{\"fillmode\":\"overlay\",\"size\":10,\"solidity\":0.2},\"type\":\"scatter\"}],\"parcoords\":[{\"type\":\"parcoords\",\"line\":{\"colorbar\":{\"outlinewidth\":0,\"ticks\":\"\"}}}],\"scatterpolargl\":[{\"type\":\"scatterpolargl\",\"marker\":{\"colorbar\":{\"outlinewidth\":0,\"ticks\":\"\"}}}],\"bar\":[{\"error_x\":{\"color\":\"#2a3f5f\"},\"error_y\":{\"color\":\"#2a3f5f\"},\"marker\":{\"line\":{\"color\":\"#E5ECF6\",\"width\":0.5},\"pattern\":{\"fillmode\":\"overlay\",\"size\":10,\"solidity\":0.2}},\"type\":\"bar\"}],\"scattergeo\":[{\"type\":\"scattergeo\",\"marker\":{\"colorbar\":{\"outlinewidth\":0,\"ticks\":\"\"}}}],\"scatterpolar\":[{\"type\":\"scatterpolar\",\"marker\":{\"colorbar\":{\"outlinewidth\":0,\"ticks\":\"\"}}}],\"histogram\":[{\"marker\":{\"pattern\":{\"fillmode\":\"overlay\",\"size\":10,\"solidity\":0.2}},\"type\":\"histogram\"}],\"scattergl\":[{\"type\":\"scattergl\",\"marker\":{\"colorbar\":{\"outlinewidth\":0,\"ticks\":\"\"}}}],\"scatter3d\":[{\"type\":\"scatter3d\",\"line\":{\"colorbar\":{\"outlinewidth\":0,\"ticks\":\"\"}},\"marker\":{\"colorbar\":{\"outlinewidth\":0,\"ticks\":\"\"}}}],\"scattermapbox\":[{\"type\":\"scattermapbox\",\"marker\":{\"colorbar\":{\"outlinewidth\":0,\"ticks\":\"\"}}}],\"scatterternary\":[{\"type\":\"scatterternary\",\"marker\":{\"colorbar\":{\"outlinewidth\":0,\"ticks\":\"\"}}}],\"scattercarpet\":[{\"type\":\"scattercarpet\",\"marker\":{\"colorbar\":{\"outlinewidth\":0,\"ticks\":\"\"}}}],\"carpet\":[{\"aaxis\":{\"endlinecolor\":\"#2a3f5f\",\"gridcolor\":\"white\",\"linecolor\":\"white\",\"minorgridcolor\":\"white\",\"startlinecolor\":\"#2a3f5f\"},\"baxis\":{\"endlinecolor\":\"#2a3f5f\",\"gridcolor\":\"white\",\"linecolor\":\"white\",\"minorgridcolor\":\"white\",\"startlinecolor\":\"#2a3f5f\"},\"type\":\"carpet\"}],\"table\":[{\"cells\":{\"fill\":{\"color\":\"#EBF0F8\"},\"line\":{\"color\":\"white\"}},\"header\":{\"fill\":{\"color\":\"#C8D4E3\"},\"line\":{\"color\":\"white\"}},\"type\":\"table\"}],\"barpolar\":[{\"marker\":{\"line\":{\"color\":\"#E5ECF6\",\"width\":0.5},\"pattern\":{\"fillmode\":\"overlay\",\"size\":10,\"solidity\":0.2}},\"type\":\"barpolar\"}],\"pie\":[{\"automargin\":true,\"type\":\"pie\"}]},\"layout\":{\"autotypenumbers\":\"strict\",\"colorway\":[\"#636efa\",\"#EF553B\",\"#00cc96\",\"#ab63fa\",\"#FFA15A\",\"#19d3f3\",\"#FF6692\",\"#B6E880\",\"#FF97FF\",\"#FECB52\"],\"font\":{\"color\":\"#2a3f5f\"},\"hovermode\":\"closest\",\"hoverlabel\":{\"align\":\"left\"},\"paper_bgcolor\":\"white\",\"plot_bgcolor\":\"#E5ECF6\",\"polar\":{\"bgcolor\":\"#E5ECF6\",\"angularaxis\":{\"gridcolor\":\"white\",\"linecolor\":\"white\",\"ticks\":\"\"},\"radialaxis\":{\"gridcolor\":\"white\",\"linecolor\":\"white\",\"ticks\":\"\"}},\"ternary\":{\"bgcolor\":\"#E5ECF6\",\"aaxis\":{\"gridcolor\":\"white\",\"linecolor\":\"white\",\"ticks\":\"\"},\"baxis\":{\"gridcolor\":\"white\",\"linecolor\":\"white\",\"ticks\":\"\"},\"caxis\":{\"gridcolor\":\"white\",\"linecolor\":\"white\",\"ticks\":\"\"}},\"coloraxis\":{\"colorbar\":{\"outlinewidth\":0,\"ticks\":\"\"}},\"colorscale\":{\"sequential\":[[0.0,\"#0d0887\"],[0.1111111111111111,\"#46039f\"],[0.2222222222222222,\"#7201a8\"],[0.3333333333333333,\"#9c179e\"],[0.4444444444444444,\"#bd3786\"],[0.5555555555555556,\"#d8576b\"],[0.6666666666666666,\"#ed7953\"],[0.7777777777777778,\"#fb9f3a\"],[0.8888888888888888,\"#fdca26\"],[1.0,\"#f0f921\"]],\"sequentialminus\":[[0.0,\"#0d0887\"],[0.1111111111111111,\"#46039f\"],[0.2222222222222222,\"#7201a8\"],[0.3333333333333333,\"#9c179e\"],[0.4444444444444444,\"#bd3786\"],[0.5555555555555556,\"#d8576b\"],[0.6666666666666666,\"#ed7953\"],[0.7777777777777778,\"#fb9f3a\"],[0.8888888888888888,\"#fdca26\"],[1.0,\"#f0f921\"]],\"diverging\":[[0,\"#8e0152\"],[0.1,\"#c51b7d\"],[0.2,\"#de77ae\"],[0.3,\"#f1b6da\"],[0.4,\"#fde0ef\"],[0.5,\"#f7f7f7\"],[0.6,\"#e6f5d0\"],[0.7,\"#b8e186\"],[0.8,\"#7fbc41\"],[0.9,\"#4d9221\"],[1,\"#276419\"]]},\"xaxis\":{\"gridcolor\":\"white\",\"linecolor\":\"white\",\"ticks\":\"\",\"title\":{\"standoff\":15},\"zerolinecolor\":\"white\",\"automargin\":true,\"zerolinewidth\":2},\"yaxis\":{\"gridcolor\":\"white\",\"linecolor\":\"white\",\"ticks\":\"\",\"title\":{\"standoff\":15},\"zerolinecolor\":\"white\",\"automargin\":true,\"zerolinewidth\":2},\"scene\":{\"xaxis\":{\"backgroundcolor\":\"#E5ECF6\",\"gridcolor\":\"white\",\"linecolor\":\"white\",\"showbackground\":true,\"ticks\":\"\",\"zerolinecolor\":\"white\",\"gridwidth\":2},\"yaxis\":{\"backgroundcolor\":\"#E5ECF6\",\"gridcolor\":\"white\",\"linecolor\":\"white\",\"showbackground\":true,\"ticks\":\"\",\"zerolinecolor\":\"white\",\"gridwidth\":2},\"zaxis\":{\"backgroundcolor\":\"#E5ECF6\",\"gridcolor\":\"white\",\"linecolor\":\"white\",\"showbackground\":true,\"ticks\":\"\",\"zerolinecolor\":\"white\",\"gridwidth\":2}},\"shapedefaults\":{\"line\":{\"color\":\"#2a3f5f\"}},\"annotationdefaults\":{\"arrowcolor\":\"#2a3f5f\",\"arrowhead\":0,\"arrowwidth\":1},\"geo\":{\"bgcolor\":\"white\",\"landcolor\":\"#E5ECF6\",\"subunitcolor\":\"white\",\"showland\":true,\"showlakes\":true,\"lakecolor\":\"white\"},\"title\":{\"x\":0.05},\"mapbox\":{\"style\":\"light\"}}},\"xaxis\":{\"anchor\":\"y\",\"domain\":[0.0,1.0],\"title\":{\"text\":\"x\"}},\"yaxis\":{\"anchor\":\"x\",\"domain\":[0.0,1.0],\"title\":{\"text\":\"y\"}},\"legend\":{\"tracegroupgap\":0},\"margin\":{\"t\":60},\"boxmode\":\"group\"},                        {\"responsive\": true}                    ).then(function(){\n",
       "                            \n",
       "var gd = document.getElementById('28885123-978b-4d98-9a1d-4e61aa52cc2c');\n",
       "var x = new MutationObserver(function (mutations, observer) {{\n",
       "        var display = window.getComputedStyle(gd).display;\n",
       "        if (!display || display === 'none') {{\n",
       "            console.log([gd, 'removed!']);\n",
       "            Plotly.purge(gd);\n",
       "            observer.disconnect();\n",
       "        }}\n",
       "}});\n",
       "\n",
       "// Listen for the removal of the full notebook cells\n",
       "var notebookContainer = gd.closest('#notebook-container');\n",
       "if (notebookContainer) {{\n",
       "    x.observe(notebookContainer, {childList: true});\n",
       "}}\n",
       "\n",
       "// Listen for the clearing of the current output cell\n",
       "var outputEl = gd.closest('.output');\n",
       "if (outputEl) {{\n",
       "    x.observe(outputEl, {childList: true});\n",
       "}}\n",
       "\n",
       "                        })                };                });            </script>        </div>"
      ]
     },
     "metadata": {},
     "output_type": "display_data"
    }
   ],
   "source": [
    "#15.Create a boxplot on ExpectedLOS by taking service into account.\n",
    "#-------------------------------------------------------------------\n",
    "fig = px.box(x=df4[\"Service\"], y=df4[\"ExpectedLOS\"])\n",
    "fig.show()"
   ]
  },
  {
   "cell_type": "code",
   "execution_count": 87,
   "id": "60416573",
   "metadata": {},
   "outputs": [
    {
     "name": "stdout",
     "output_type": "stream",
     "text": [
      "  ProviderSpecialty                                       ProviderName\n",
      "0        Cardiology  [[Kent Kendall, Ryan Kevin, Tyler Conner, Bail...\n",
      "1        Pediatrics  [[Sally Sue, Mike Myers, Jordan Michael, Ted T...\n",
      "2       PrimaryCare  [[Justin Time, Mike Joseph, Bridget Brenda, Br...\n",
      "3           Surgery  [[Fred Man, Kim Kimberly, Sarah Ab, Abigail Ma...\n"
     ]
    }
   ],
   "source": [
    "#16.Write a code snippet to print different ProviderSpecialty ( use groupby and get the list of the groups).\n",
    "#-----------------------------------------------------------------------------------------------------------\n",
    "df6 = df6.groupby('ProviderSpecialty')['ProviderName'].apply(list).reset_index(name='ProviderName')\n",
    "print(df6)"
   ]
  },
  {
   "cell_type": "code",
   "execution_count": null,
   "id": "7c72d575",
   "metadata": {},
   "outputs": [],
   "source": [
    "#17.Connect to sql and write a query to get Ambulatory visit record's year. (Attach screenshots for this question).\n",
    "#------------------------------------------------------------------------------------------------------------------\n",
    "cursor = conn.cursor()\n",
    "postgreSQL_select_Query = \"SELECT DATE_PART('YEAR', datescheduled) AS visit_year,COUNT(visitid) AS count FROM av GROUP BY DATE_PART('YEAR', datescheduled);\"\n",
    "cursor.execute(postgreSQL_select_Query)\n",
    "print(\"Selecting rows from ambulatory visits scheduled table using cursor.fetchall\")\n",
    "av_records = cursor.fetchall()\n",
    "\n",
    "print(\"Printing each row and it's columns values\")\n",
    "for row in av_records:\n",
    "        print(\"visityear = \", row[0])\n",
    "        print(\"count = \", row[1])\n",
    "        #print(\"Price  = \", row[2], \"\\n\")"
   ]
  },
  {
   "attachments": {
    "image.png": {
     "image/png": "[encoded data removed]"
    }
   },
   "cell_type": "markdown",
   "id": "3437c33a",
   "metadata": {},
   "source": [
    "![image.png](attachment:image.png)"
   ]
  },
  {
   "cell_type": "code",
   "execution_count": 58,
   "id": "49a14a31",
   "metadata": {},
   "outputs": [
    {
     "data": {
      "application/vnd.plotly.v1+json": {
       "config": {
        "plotlyServerURL": "https://plot.ly"
       },
       "data": [
        {
         "hole": 0.5,
         "labels": [
          "Hospitalist",
          "General Medicine",
          "General Medicine",
          "General Medicine",
          "ICU",
          "Hospitalist",
          "Hospitalist",
          "Cardiology",
          "ICU",
          "Hospitalist",
          "Hospitalist",
          "Hospitalist",
          "General Medicine",
          "Hospitalist",
          "Hospitalist",
          "Hospitalist",
          "Hospitalist",
          "Hospitalist",
          "Hospitalist",
          "Hospitalist",
          "Hospitalist",
          "General Medicine",
          "Hospitalist",
          "Hospitalist",
          "Hospitalist",
          "Cardiology",
          "Hospitalist",
          "General Medicine",
          "General Medicine",
          "Hospitalist",
          "General Medicine",
          "ICU",
          "Cardiology",
          "General Medicine",
          "General Medicine",
          "General Medicine",
          "General Medicine",
          "General Medicine",
          "General Medicine",
          "General Medicine",
          "Neurology",
          "Orthopeadics",
          "Cardiology",
          "Cardiology",
          "Hospitalist",
          "ICU",
          "Cardiology",
          "General Medicine",
          "General Medicine",
          "General Medicine",
          "Cardiology",
          "General Medicine",
          "Hospitalist",
          "Orthopeadics",
          "General Medicine",
          "General Medicine",
          "Cardiology",
          "General Medicine",
          "General Medicine",
          "Neurology",
          "Neurology",
          "Neurology",
          "Hospitalist",
          "Orthopeadics",
          "ICU",
          "ICU",
          "General Medicine",
          "General Medicine",
          "Neurology",
          "ICU",
          "Hospitalist",
          "General Medicine",
          "General Medicine",
          "General Medicine",
          "General Medicine",
          "General Medicine",
          "ICU",
          "Hospitalist",
          "Cardiology",
          "ICU",
          "Orthopeadics",
          "General Medicine",
          "ICU",
          "Hospitalist",
          "Hospitalist",
          "General Medicine",
          "Cardiology",
          "Hospitalist",
          "ICU",
          "General Medicine",
          "ICU",
          "ICU",
          "General Medicine",
          "Orthopeadics",
          "ICU",
          "ICU",
          "General Medicine",
          "ICU",
          "Cardiology",
          "General Medicine",
          "ICU",
          "Hospitalist",
          "Cardiology",
          "General Medicine",
          "Orthopeadics",
          "ICU",
          "Cardiology",
          "Cardiology",
          "Cardiology",
          "Cardiology",
          "Orthopeadics",
          "General Medicine",
          "Cardiology",
          "ICU",
          "Cardiology",
          "ICU",
          "Cardiology",
          "General Medicine",
          "ICU",
          "ICU",
          "General Medicine",
          "Cardiology",
          "Cardiology",
          "General Medicine",
          "Cardiology",
          "Neurology",
          "ICU",
          "Cardiology",
          "General Medicine",
          "Neurology",
          "Neurology",
          "ICU",
          "General Medicine",
          "ICU",
          "Hospitalist",
          "ICU",
          "ICU",
          "ICU",
          "General Medicine",
          "General Medicine",
          "ICU",
          "Hospitalist",
          "Cardiology",
          "ICU",
          "ICU",
          "Hospitalist",
          "General Medicine",
          "ICU",
          "General Medicine",
          "ICU",
          "General Medicine",
          "ICU",
          "Hospitalist",
          "General Medicine",
          "Orthopeadics",
          "Hospitalist",
          "Neurology",
          "Cardiology",
          "ICU",
          "Orthopeadics",
          "ICU",
          "ICU",
          "Orthopeadics",
          "Neurology",
          "General Medicine",
          "Cardiology",
          "ICU",
          "General Medicine",
          "General Medicine",
          "Hospitalist",
          "ICU",
          "Hospitalist",
          "ICU",
          "ICU",
          "General Medicine",
          "General Medicine",
          "Cardiology",
          "Cardiology",
          "Hospitalist",
          "General Medicine",
          "ICU",
          "General Medicine",
          "ICU",
          "General Medicine",
          "ICU",
          "General Medicine",
          "Orthopeadics",
          "ICU",
          "ICU",
          "Hospitalist",
          "ICU",
          "General Medicine",
          "General Medicine",
          "General Medicine",
          "Orthopeadics",
          "ICU",
          "ICU",
          "ICU",
          "ICU",
          "ICU",
          "ICU",
          "ICU",
          "General Medicine",
          "General Medicine",
          "General Medicine",
          "Neurology",
          "ICU",
          "ICU",
          "Cardiology",
          "Hospitalist",
          "Cardiology",
          "General Medicine",
          "Hospitalist",
          "General Medicine",
          "General Medicine",
          "Orthopeadics",
          "Neurology",
          "ICU",
          "General Medicine",
          "General Medicine",
          "General Medicine",
          "Cardiology",
          "Cardiology",
          "General Medicine",
          "Neurology",
          "General Medicine",
          "General Medicine",
          "General Medicine",
          "Cardiology",
          "Hospitalist",
          "General Medicine",
          "Hospitalist",
          "General Medicine",
          "Cardiology",
          "Neurology",
          "Hospitalist",
          "General Medicine",
          "Hospitalist",
          "ICU",
          "General Medicine",
          "General Medicine",
          "Orthopeadics",
          "General Medicine",
          "Hospitalist",
          "Neurology",
          "General Medicine",
          "General Medicine",
          "ICU",
          "ICU",
          "General Medicine",
          "Hospitalist",
          "Orthopeadics",
          "Cardiology",
          "Hospitalist",
          "ICU",
          "General Medicine",
          "Hospitalist",
          "Hospitalist",
          "Orthopeadics",
          "General Medicine",
          "ICU",
          "General Medicine",
          "Cardiology",
          "ICU",
          "General Medicine",
          "Orthopeadics",
          "ICU",
          "General Medicine",
          "ICU",
          "General Medicine",
          "Cardiology",
          "ICU",
          "Cardiology",
          "General Medicine",
          "Cardiology",
          "ICU",
          "Orthopeadics",
          "ICU",
          "General Medicine",
          "General Medicine",
          "Cardiology",
          "General Medicine",
          "Neurology",
          "General Medicine",
          "ICU",
          "General Medicine",
          "General Medicine",
          "Cardiology",
          "Cardiology",
          "ICU",
          "ICU",
          "General Medicine",
          "General Medicine",
          "Neurology",
          "Cardiology",
          "Hospitalist",
          "ICU",
          "Neurology",
          "Hospitalist",
          "General Medicine",
          "General Medicine",
          "General Medicine",
          "General Medicine",
          "Neurology",
          "General Medicine",
          "General Medicine",
          "General Medicine",
          "ICU",
          "ICU",
          "ICU",
          "General Medicine",
          "General Medicine",
          "Hospitalist",
          "Cardiology",
          "General Medicine",
          "Hospitalist",
          "Hospitalist",
          "General Medicine",
          "General Medicine",
          "Hospitalist",
          "Hospitalist",
          "Orthopeadics",
          "Cardiology",
          "Neurology",
          "Hospitalist",
          "Orthopeadics",
          "General Medicine",
          "General Medicine",
          "General Medicine",
          "General Medicine",
          "General Medicine",
          "ICU",
          "General Medicine",
          "Hospitalist",
          "Cardiology",
          "Cardiology",
          "General Medicine",
          "General Medicine",
          "ICU",
          "Orthopeadics",
          "Orthopeadics",
          "Neurology",
          "ICU",
          "General Medicine",
          "ICU",
          "General Medicine",
          "ICU",
          "Hospitalist",
          "Hospitalist",
          "Cardiology",
          "General Medicine",
          "Cardiology",
          "General Medicine",
          "Cardiology",
          "General Medicine",
          "General Medicine",
          "General Medicine",
          "ICU",
          "ICU",
          "General Medicine",
          "General Medicine",
          "ICU",
          "General Medicine",
          "Neurology",
          "ICU",
          "Orthopeadics",
          "General Medicine",
          "Hospitalist",
          "Cardiology",
          "ICU",
          "General Medicine",
          "ICU",
          "Cardiology",
          "General Medicine",
          "General Medicine",
          "Hospitalist",
          "ICU",
          "ICU",
          "Orthopeadics",
          "General Medicine",
          "General Medicine",
          "ICU",
          "Neurology",
          "General Medicine",
          "General Medicine",
          "Cardiology",
          "General Medicine",
          "ICU",
          "Cardiology",
          "ICU",
          "General Medicine",
          "ICU",
          "Neurology",
          "Cardiology",
          "General Medicine",
          "General Medicine",
          "Orthopeadics",
          "Hospitalist",
          "General Medicine",
          "General Medicine",
          "General Medicine",
          "Neurology",
          "General Medicine",
          "General Medicine",
          "Cardiology",
          "Hospitalist",
          "General Medicine",
          "General Medicine",
          "General Medicine",
          "General Medicine",
          "Cardiology",
          "General Medicine",
          "General Medicine",
          "Neurology",
          "Hospitalist",
          "General Medicine",
          "General Medicine",
          "Neurology",
          "ICU",
          "Hospitalist",
          "General Medicine",
          "ICU",
          "Orthopeadics",
          "Hospitalist",
          "General Medicine",
          "Cardiology",
          "Hospitalist",
          "ICU",
          "Hospitalist",
          "General Medicine",
          "ICU",
          "ICU",
          "General Medicine",
          "ICU",
          "Orthopeadics",
          "Orthopeadics",
          "General Medicine",
          "General Medicine",
          "ICU",
          "Hospitalist",
          "General Medicine",
          "ICU",
          "Neurology",
          "ICU",
          "ICU",
          "Cardiology",
          "Orthopeadics",
          "General Medicine",
          "ICU",
          "Neurology",
          "General Medicine",
          "Neurology",
          "Neurology",
          "Cardiology",
          "Cardiology",
          "General Medicine",
          "Neurology",
          "Neurology",
          "General Medicine",
          "Cardiology",
          "Neurology",
          "Neurology",
          "Neurology",
          "ICU",
          "Cardiology",
          "General Medicine",
          "Neurology",
          "Neurology",
          "General Medicine",
          "Neurology",
          "Hospitalist",
          "Neurology",
          "ICU",
          "ICU",
          "Hospitalist",
          "General Medicine",
          "General Medicine",
          "General Medicine",
          "Hospitalist",
          "ICU",
          "Hospitalist",
          "ICU",
          "Hospitalist",
          "General Medicine",
          "Hospitalist",
          "Neurology",
          "Neurology",
          "ICU",
          "General Medicine",
          "General Medicine",
          "Neurology",
          "Hospitalist",
          "Orthopeadics",
          "General Medicine",
          "ICU",
          "Neurology",
          "General Medicine",
          "General Medicine",
          "Cardiology",
          "Neurology",
          "Hospitalist",
          "Orthopeadics",
          "General Medicine",
          "Cardiology",
          "ICU",
          "Orthopeadics",
          "Cardiology",
          "Neurology",
          "Orthopeadics",
          "ICU",
          "ICU",
          "General Medicine",
          "General Medicine",
          "Cardiology",
          "Neurology",
          "Neurology",
          "General Medicine",
          "Orthopeadics",
          "General Medicine",
          "Cardiology",
          "ICU",
          "General Medicine",
          "General Medicine",
          "ICU",
          "Cardiology",
          "Cardiology",
          "General Medicine",
          "Hospitalist",
          "General Medicine",
          "General Medicine",
          "General Medicine",
          "Hospitalist",
          "Neurology",
          "Cardiology",
          "Neurology",
          "ICU",
          "General Medicine",
          "ICU",
          "General Medicine",
          "Hospitalist",
          "General Medicine",
          "Cardiology",
          "Neurology",
          "General Medicine",
          "Hospitalist",
          "General Medicine",
          "General Medicine",
          "General Medicine",
          "General Medicine",
          "General Medicine",
          "General Medicine",
          "Orthopeadics",
          "ICU",
          "Neurology",
          "Neurology",
          "ICU",
          "Neurology",
          "Orthopeadics",
          "Hospitalist",
          "General Medicine",
          "ICU",
          "Neurology",
          "Cardiology",
          "ICU",
          "Cardiology",
          "General Medicine",
          "General Medicine",
          "General Medicine",
          "ICU",
          "Neurology",
          "ICU",
          "General Medicine",
          "Hospitalist",
          "Hospitalist",
          "Cardiology",
          "General Medicine",
          "Hospitalist",
          "General Medicine",
          "ICU",
          "General Medicine",
          "General Medicine",
          "Neurology",
          "General Medicine",
          "General Medicine",
          "General Medicine",
          "General Medicine",
          "General Medicine",
          "Hospitalist",
          "Neurology",
          "General Medicine",
          "Cardiology",
          "General Medicine",
          "General Medicine",
          "Orthopeadics",
          "ICU",
          "General Medicine",
          "ICU",
          "Neurology",
          "General Medicine",
          "Neurology",
          "ICU",
          "Orthopeadics",
          "Cardiology",
          "General Medicine",
          "General Medicine",
          "General Medicine",
          "General Medicine",
          "Hospitalist",
          "ICU",
          "Hospitalist",
          "ICU",
          "Hospitalist",
          "Hospitalist",
          "General Medicine",
          "Hospitalist",
          "General Medicine",
          "Cardiology",
          "Orthopeadics",
          "Neurology",
          "Cardiology",
          "General Medicine",
          "General Medicine",
          "Neurology",
          "General Medicine",
          "General Medicine",
          "Cardiology",
          "ICU",
          "General Medicine",
          "General Medicine",
          "General Medicine",
          "ICU",
          "General Medicine",
          "ICU",
          "Hospitalist",
          "General Medicine",
          "Cardiology",
          "General Medicine",
          "General Medicine",
          "Orthopeadics",
          "Hospitalist",
          "General Medicine",
          "Neurology",
          "General Medicine",
          "ICU",
          "Cardiology",
          "General Medicine",
          "ICU",
          "ICU",
          "General Medicine",
          "Hospitalist",
          "Hospitalist",
          "General Medicine",
          "ICU",
          "Cardiology",
          "General Medicine",
          "Hospitalist",
          "Hospitalist",
          "Orthopeadics",
          "Hospitalist",
          "General Medicine",
          "Orthopeadics",
          "General Medicine",
          "General Medicine",
          "ICU",
          "Cardiology",
          "Neurology",
          "Cardiology",
          "ICU",
          "General Medicine",
          "Cardiology",
          "General Medicine",
          "ICU",
          "ICU",
          "Hospitalist",
          "Orthopeadics",
          "General Medicine",
          "ICU",
          "General Medicine",
          "Cardiology",
          "Hospitalist",
          "ICU",
          "Orthopeadics",
          "General Medicine",
          "ICU",
          "ICU",
          "General Medicine",
          "General Medicine",
          "Cardiology",
          "General Medicine",
          "General Medicine",
          "General Medicine",
          "General Medicine",
          "General Medicine",
          "General Medicine",
          "ICU",
          "Cardiology",
          "Orthopeadics",
          "General Medicine",
          "Cardiology",
          "Cardiology",
          "General Medicine",
          "ICU",
          "General Medicine",
          "ICU",
          "Neurology",
          "Cardiology",
          "Cardiology",
          "ICU",
          "Cardiology",
          "General Medicine",
          "ICU",
          "General Medicine",
          "General Medicine",
          "General Medicine",
          "ICU",
          "Cardiology",
          "ICU",
          "Hospitalist",
          "General Medicine",
          "General Medicine"
         ],
         "type": "pie",
         "values": [
          48,
          11,
          9,
          64,
          19,
          80,
          78,
          23,
          49,
          20,
          23,
          29,
          12,
          7,
          177,
          2,
          68
         ]
        }
       ],
       "layout": {
        "template": {
         "data": {
          "bar": [
           {
            "error_x": {
             "color": "#2a3f5f"
            },
            "error_y": {
             "color": "#2a3f5f"
            },
            "marker": {
             "line": {
              "color": "#E5ECF6",
              "width": 0.5
             },
             "pattern": {
              "fillmode": "overlay",
              "size": 10,
              "solidity": 0.2
             }
            },
            "type": "bar"
           }
          ],
          "barpolar": [
           {
            "marker": {
             "line": {
              "color": "#E5ECF6",
              "width": 0.5
             },
             "pattern": {
              "fillmode": "overlay",
              "size": 10,
              "solidity": 0.2
             }
            },
            "type": "barpolar"
           }
          ],
          "carpet": [
           {
            "aaxis": {
             "endlinecolor": "#2a3f5f",
             "gridcolor": "white",
             "linecolor": "white",
             "minorgridcolor": "white",
             "startlinecolor": "#2a3f5f"
            },
            "baxis": {
             "endlinecolor": "#2a3f5f",
             "gridcolor": "white",
             "linecolor": "white",
             "minorgridcolor": "white",
             "startlinecolor": "#2a3f5f"
            },
            "type": "carpet"
           }
          ],
          "choropleth": [
           {
            "colorbar": {
             "outlinewidth": 0,
             "ticks": ""
            },
            "type": "choropleth"
           }
          ],
          "contour": [
           {
            "colorbar": {
             "outlinewidth": 0,
             "ticks": ""
            },
            "colorscale": [
             [
              0,
              "#0d0887"
             ],
             [
              0.1111111111111111,
              "#46039f"
             ],
             [
              0.2222222222222222,
              "#7201a8"
             ],
             [
              0.3333333333333333,
              "#9c179e"
             ],
             [
              0.4444444444444444,
              "#bd3786"
             ],
             [
              0.5555555555555556,
              "#d8576b"
             ],
             [
              0.6666666666666666,
              "#ed7953"
             ],
             [
              0.7777777777777778,
              "#fb9f3a"
             ],
             [
              0.8888888888888888,
              "#fdca26"
             ],
             [
              1,
              "#f0f921"
             ]
            ],
            "type": "contour"
           }
          ],
          "contourcarpet": [
           {
            "colorbar": {
             "outlinewidth": 0,
             "ticks": ""
            },
            "type": "contourcarpet"
           }
          ],
          "heatmap": [
           {
            "colorbar": {
             "outlinewidth": 0,
             "ticks": ""
            },
            "colorscale": [
             [
              0,
              "#0d0887"
             ],
             [
              0.1111111111111111,
              "#46039f"
             ],
             [
              0.2222222222222222,
              "#7201a8"
             ],
             [
              0.3333333333333333,
              "#9c179e"
             ],
             [
              0.4444444444444444,
              "#bd3786"
             ],
             [
              0.5555555555555556,
              "#d8576b"
             ],
             [
              0.6666666666666666,
              "#ed7953"
             ],
             [
              0.7777777777777778,
              "#fb9f3a"
             ],
             [
              0.8888888888888888,
              "#fdca26"
             ],
             [
              1,
              "#f0f921"
             ]
            ],
            "type": "heatmap"
           }
          ],
          "heatmapgl": [
           {
            "colorbar": {
             "outlinewidth": 0,
             "ticks": ""
            },
            "colorscale": [
             [
              0,
              "#0d0887"
             ],
             [
              0.1111111111111111,
              "#46039f"
             ],
             [
              0.2222222222222222,
              "#7201a8"
             ],
             [
              0.3333333333333333,
              "#9c179e"
             ],
             [
              0.4444444444444444,
              "#bd3786"
             ],
             [
              0.5555555555555556,
              "#d8576b"
             ],
             [
              0.6666666666666666,
              "#ed7953"
             ],
             [
              0.7777777777777778,
              "#fb9f3a"
             ],
             [
              0.8888888888888888,
              "#fdca26"
             ],
             [
              1,
              "#f0f921"
             ]
            ],
            "type": "heatmapgl"
           }
          ],
          "histogram": [
           {
            "marker": {
             "pattern": {
              "fillmode": "overlay",
              "size": 10,
              "solidity": 0.2
             }
            },
            "type": "histogram"
           }
          ],
          "histogram2d": [
           {
            "colorbar": {
             "outlinewidth": 0,
             "ticks": ""
            },
            "colorscale": [
             [
              0,
              "#0d0887"
             ],
             [
              0.1111111111111111,
              "#46039f"
             ],
             [
              0.2222222222222222,
              "#7201a8"
             ],
             [
              0.3333333333333333,
              "#9c179e"
             ],
             [
              0.4444444444444444,
              "#bd3786"
             ],
             [
              0.5555555555555556,
              "#d8576b"
             ],
             [
              0.6666666666666666,
              "#ed7953"
             ],
             [
              0.7777777777777778,
              "#fb9f3a"
             ],
             [
              0.8888888888888888,
              "#fdca26"
             ],
             [
              1,
              "#f0f921"
             ]
            ],
            "type": "histogram2d"
           }
          ],
          "histogram2dcontour": [
           {
            "colorbar": {
             "outlinewidth": 0,
             "ticks": ""
            },
            "colorscale": [
             [
              0,
              "#0d0887"
             ],
             [
              0.1111111111111111,
              "#46039f"
             ],
             [
              0.2222222222222222,
              "#7201a8"
             ],
             [
              0.3333333333333333,
              "#9c179e"
             ],
             [
              0.4444444444444444,
              "#bd3786"
             ],
             [
              0.5555555555555556,
              "#d8576b"
             ],
             [
              0.6666666666666666,
              "#ed7953"
             ],
             [
              0.7777777777777778,
              "#fb9f3a"
             ],
             [
              0.8888888888888888,
              "#fdca26"
             ],
             [
              1,
              "#f0f921"
             ]
            ],
            "type": "histogram2dcontour"
           }
          ],
          "mesh3d": [
           {
            "colorbar": {
             "outlinewidth": 0,
             "ticks": ""
            },
            "type": "mesh3d"
           }
          ],
          "parcoords": [
           {
            "line": {
             "colorbar": {
              "outlinewidth": 0,
              "ticks": ""
             }
            },
            "type": "parcoords"
           }
          ],
          "pie": [
           {
            "automargin": true,
            "type": "pie"
           }
          ],
          "scatter": [
           {
            "fillpattern": {
             "fillmode": "overlay",
             "size": 10,
             "solidity": 0.2
            },
            "type": "scatter"
           }
          ],
          "scatter3d": [
           {
            "line": {
             "colorbar": {
              "outlinewidth": 0,
              "ticks": ""
             }
            },
            "marker": {
             "colorbar": {
              "outlinewidth": 0,
              "ticks": ""
             }
            },
            "type": "scatter3d"
           }
          ],
          "scattercarpet": [
           {
            "marker": {
             "colorbar": {
              "outlinewidth": 0,
              "ticks": ""
             }
            },
            "type": "scattercarpet"
           }
          ],
          "scattergeo": [
           {
            "marker": {
             "colorbar": {
              "outlinewidth": 0,
              "ticks": ""
             }
            },
            "type": "scattergeo"
           }
          ],
          "scattergl": [
           {
            "marker": {
             "colorbar": {
              "outlinewidth": 0,
              "ticks": ""
             }
            },
            "type": "scattergl"
           }
          ],
          "scattermapbox": [
           {
            "marker": {
             "colorbar": {
              "outlinewidth": 0,
              "ticks": ""
             }
            },
            "type": "scattermapbox"
           }
          ],
          "scatterpolar": [
           {
            "marker": {
             "colorbar": {
              "outlinewidth": 0,
              "ticks": ""
             }
            },
            "type": "scatterpolar"
           }
          ],
          "scatterpolargl": [
           {
            "marker": {
             "colorbar": {
              "outlinewidth": 0,
              "ticks": ""
             }
            },
            "type": "scatterpolargl"
           }
          ],
          "scatterternary": [
           {
            "marker": {
             "colorbar": {
              "outlinewidth": 0,
              "ticks": ""
             }
            },
            "type": "scatterternary"
           }
          ],
          "surface": [
           {
            "colorbar": {
             "outlinewidth": 0,
             "ticks": ""
            },
            "colorscale": [
             [
              0,
              "#0d0887"
             ],
             [
              0.1111111111111111,
              "#46039f"
             ],
             [
              0.2222222222222222,
              "#7201a8"
             ],
             [
              0.3333333333333333,
              "#9c179e"
             ],
             [
              0.4444444444444444,
              "#bd3786"
             ],
             [
              0.5555555555555556,
              "#d8576b"
             ],
             [
              0.6666666666666666,
              "#ed7953"
             ],
             [
              0.7777777777777778,
              "#fb9f3a"
             ],
             [
              0.8888888888888888,
              "#fdca26"
             ],
             [
              1,
              "#f0f921"
             ]
            ],
            "type": "surface"
           }
          ],
          "table": [
           {
            "cells": {
             "fill": {
              "color": "#EBF0F8"
             },
             "line": {
              "color": "white"
             }
            },
            "header": {
             "fill": {
              "color": "#C8D4E3"
             },
             "line": {
              "color": "white"
             }
            },
            "type": "table"
           }
          ]
         },
         "layout": {
          "annotationdefaults": {
           "arrowcolor": "#2a3f5f",
           "arrowhead": 0,
           "arrowwidth": 1
          },
          "autotypenumbers": "strict",
          "coloraxis": {
           "colorbar": {
            "outlinewidth": 0,
            "ticks": ""
           }
          },
          "colorscale": {
           "diverging": [
            [
             0,
             "#8e0152"
            ],
            [
             0.1,
             "#c51b7d"
            ],
            [
             0.2,
             "#de77ae"
            ],
            [
             0.3,
             "#f1b6da"
            ],
            [
             0.4,
             "#fde0ef"
            ],
            [
             0.5,
             "#f7f7f7"
            ],
            [
             0.6,
             "#e6f5d0"
            ],
            [
             0.7,
             "#b8e186"
            ],
            [
             0.8,
             "#7fbc41"
            ],
            [
             0.9,
             "#4d9221"
            ],
            [
             1,
             "#276419"
            ]
           ],
           "sequential": [
            [
             0,
             "#0d0887"
            ],
            [
             0.1111111111111111,
             "#46039f"
            ],
            [
             0.2222222222222222,
             "#7201a8"
            ],
            [
             0.3333333333333333,
             "#9c179e"
            ],
            [
             0.4444444444444444,
             "#bd3786"
            ],
            [
             0.5555555555555556,
             "#d8576b"
            ],
            [
             0.6666666666666666,
             "#ed7953"
            ],
            [
             0.7777777777777778,
             "#fb9f3a"
            ],
            [
             0.8888888888888888,
             "#fdca26"
            ],
            [
             1,
             "#f0f921"
            ]
           ],
           "sequentialminus": [
            [
             0,
             "#0d0887"
            ],
            [
             0.1111111111111111,
             "#46039f"
            ],
            [
             0.2222222222222222,
             "#7201a8"
            ],
            [
             0.3333333333333333,
             "#9c179e"
            ],
            [
             0.4444444444444444,
             "#bd3786"
            ],
            [
             0.5555555555555556,
             "#d8576b"
            ],
            [
             0.6666666666666666,
             "#ed7953"
            ],
            [
             0.7777777777777778,
             "#fb9f3a"
            ],
            [
             0.8888888888888888,
             "#fdca26"
            ],
            [
             1,
             "#f0f921"
            ]
           ]
          },
          "colorway": [
           "#636efa",
           "#EF553B",
           "#00cc96",
           "#ab63fa",
           "#FFA15A",
           "#19d3f3",
           "#FF6692",
           "#B6E880",
           "#FF97FF",
           "#FECB52"
          ],
          "font": {
           "color": "#2a3f5f"
          },
          "geo": {
           "bgcolor": "white",
           "lakecolor": "white",
           "landcolor": "#E5ECF6",
           "showlakes": true,
           "showland": true,
           "subunitcolor": "white"
          },
          "hoverlabel": {
           "align": "left"
          },
          "hovermode": "closest",
          "mapbox": {
           "style": "light"
          },
          "paper_bgcolor": "white",
          "plot_bgcolor": "#E5ECF6",
          "polar": {
           "angularaxis": {
            "gridcolor": "white",
            "linecolor": "white",
            "ticks": ""
           },
           "bgcolor": "#E5ECF6",
           "radialaxis": {
            "gridcolor": "white",
            "linecolor": "white",
            "ticks": ""
           }
          },
          "scene": {
           "xaxis": {
            "backgroundcolor": "#E5ECF6",
            "gridcolor": "white",
            "gridwidth": 2,
            "linecolor": "white",
            "showbackground": true,
            "ticks": "",
            "zerolinecolor": "white"
           },
           "yaxis": {
            "backgroundcolor": "#E5ECF6",
            "gridcolor": "white",
            "gridwidth": 2,
            "linecolor": "white",
            "showbackground": true,
            "ticks": "",
            "zerolinecolor": "white"
           },
           "zaxis": {
            "backgroundcolor": "#E5ECF6",
            "gridcolor": "white",
            "gridwidth": 2,
            "linecolor": "white",
            "showbackground": true,
            "ticks": "",
            "zerolinecolor": "white"
           }
          },
          "shapedefaults": {
           "line": {
            "color": "#2a3f5f"
           }
          },
          "ternary": {
           "aaxis": {
            "gridcolor": "white",
            "linecolor": "white",
            "ticks": ""
           },
           "baxis": {
            "gridcolor": "white",
            "linecolor": "white",
            "ticks": ""
           },
           "bgcolor": "#E5ECF6",
           "caxis": {
            "gridcolor": "white",
            "linecolor": "white",
            "ticks": ""
           }
          },
          "title": {
           "x": 0.05
          },
          "xaxis": {
           "automargin": true,
           "gridcolor": "white",
           "linecolor": "white",
           "ticks": "",
           "title": {
            "standoff": 15
           },
           "zerolinecolor": "white",
           "zerolinewidth": 2
          },
          "yaxis": {
           "automargin": true,
           "gridcolor": "white",
           "linecolor": "white",
           "ticks": "",
           "title": {
            "standoff": 15
           },
           "zerolinecolor": "white",
           "zerolinewidth": 2
          }
         }
        }
       }
      },
      "text/html": [
       "<div>                            <div id=\"1308ef6f-691a-47a8-8c51-ed1156efa555\" class=\"plotly-graph-div\" style=\"height:525px; width:100%;\"></div>            <script type=\"text/javascript\">                require([\"plotly\"], function(Plotly) {                    window.PLOTLYENV=window.PLOTLYENV || {};                                    if (document.getElementById(\"1308ef6f-691a-47a8-8c51-ed1156efa555\")) {                    Plotly.newPlot(                        \"1308ef6f-691a-47a8-8c51-ed1156efa555\",                        [{\"hole\":0.5,\"labels\":[\"Hospitalist\",\"General Medicine\",\"General Medicine\",\"General Medicine\",\"ICU\",\"Hospitalist\",\"Hospitalist\",\"Cardiology\",\"ICU\",\"Hospitalist\",\"Hospitalist\",\"Hospitalist\",\"General Medicine\",\"Hospitalist\",\"Hospitalist\",\"Hospitalist\",\"Hospitalist\",\"Hospitalist\",\"Hospitalist\",\"Hospitalist\",\"Hospitalist\",\"General Medicine\",\"Hospitalist\",\"Hospitalist\",\"Hospitalist\",\"Cardiology\",\"Hospitalist\",\"General Medicine\",\"General Medicine\",\"Hospitalist\",\"General Medicine\",\"ICU\",\"Cardiology\",\"General Medicine\",\"General Medicine\",\"General Medicine\",\"General Medicine\",\"General Medicine\",\"General Medicine\",\"General Medicine\",\"Neurology\",\"Orthopeadics\",\"Cardiology\",\"Cardiology\",\"Hospitalist\",\"ICU\",\"Cardiology\",\"General Medicine\",\"General Medicine\",\"General Medicine\",\"Cardiology\",\"General Medicine\",\"Hospitalist\",\"Orthopeadics\",\"General Medicine\",\"General Medicine\",\"Cardiology\",\"General Medicine\",\"General Medicine\",\"Neurology\",\"Neurology\",\"Neurology\",\"Hospitalist\",\"Orthopeadics\",\"ICU\",\"ICU\",\"General Medicine\",\"General Medicine\",\"Neurology\",\"ICU\",\"Hospitalist\",\"General Medicine\",\"General Medicine\",\"General Medicine\",\"General Medicine\",\"General Medicine\",\"ICU\",\"Hospitalist\",\"Cardiology\",\"ICU\",\"Orthopeadics\",\"General Medicine\",\"ICU\",\"Hospitalist\",\"Hospitalist\",\"General Medicine\",\"Cardiology\",\"Hospitalist\",\"ICU\",\"General Medicine\",\"ICU\",\"ICU\",\"General Medicine\",\"Orthopeadics\",\"ICU\",\"ICU\",\"General Medicine\",\"ICU\",\"Cardiology\",\"General Medicine\",\"ICU\",\"Hospitalist\",\"Cardiology\",\"General Medicine\",\"Orthopeadics\",\"ICU\",\"Cardiology\",\"Cardiology\",\"Cardiology\",\"Cardiology\",\"Orthopeadics\",\"General Medicine\",\"Cardiology\",\"ICU\",\"Cardiology\",\"ICU\",\"Cardiology\",\"General Medicine\",\"ICU\",\"ICU\",\"General Medicine\",\"Cardiology\",\"Cardiology\",\"General Medicine\",\"Cardiology\",\"Neurology\",\"ICU\",\"Cardiology\",\"General Medicine\",\"Neurology\",\"Neurology\",\"ICU\",\"General Medicine\",\"ICU\",\"Hospitalist\",\"ICU\",\"ICU\",\"ICU\",\"General Medicine\",\"General Medicine\",\"ICU\",\"Hospitalist\",\"Cardiology\",\"ICU\",\"ICU\",\"Hospitalist\",\"General Medicine\",\"ICU\",\"General Medicine\",\"ICU\",\"General Medicine\",\"ICU\",\"Hospitalist\",\"General Medicine\",\"Orthopeadics\",\"Hospitalist\",\"Neurology\",\"Cardiology\",\"ICU\",\"Orthopeadics\",\"ICU\",\"ICU\",\"Orthopeadics\",\"Neurology\",\"General Medicine\",\"Cardiology\",\"ICU\",\"General Medicine\",\"General Medicine\",\"Hospitalist\",\"ICU\",\"Hospitalist\",\"ICU\",\"ICU\",\"General Medicine\",\"General Medicine\",\"Cardiology\",\"Cardiology\",\"Hospitalist\",\"General Medicine\",\"ICU\",\"General Medicine\",\"ICU\",\"General Medicine\",\"ICU\",\"General Medicine\",\"Orthopeadics\",\"ICU\",\"ICU\",\"Hospitalist\",\"ICU\",\"General Medicine\",\"General Medicine\",\"General Medicine\",\"Orthopeadics\",\"ICU\",\"ICU\",\"ICU\",\"ICU\",\"ICU\",\"ICU\",\"ICU\",\"General Medicine\",\"General Medicine\",\"General Medicine\",\"Neurology\",\"ICU\",\"ICU\",\"Cardiology\",\"Hospitalist\",\"Cardiology\",\"General Medicine\",\"Hospitalist\",\"General Medicine\",\"General Medicine\",\"Orthopeadics\",\"Neurology\",\"ICU\",\"General Medicine\",\"General Medicine\",\"General Medicine\",\"Cardiology\",\"Cardiology\",\"General Medicine\",\"Neurology\",\"General Medicine\",\"General Medicine\",\"General Medicine\",\"Cardiology\",\"Hospitalist\",\"General Medicine\",\"Hospitalist\",\"General Medicine\",\"Cardiology\",\"Neurology\",\"Hospitalist\",\"General Medicine\",\"Hospitalist\",\"ICU\",\"General Medicine\",\"General Medicine\",\"Orthopeadics\",\"General Medicine\",\"Hospitalist\",\"Neurology\",\"General Medicine\",\"General Medicine\",\"ICU\",\"ICU\",\"General Medicine\",\"Hospitalist\",\"Orthopeadics\",\"Cardiology\",\"Hospitalist\",\"ICU\",\"General Medicine\",\"Hospitalist\",\"Hospitalist\",\"Orthopeadics\",\"General Medicine\",\"ICU\",\"General Medicine\",\"Cardiology\",\"ICU\",\"General Medicine\",\"Orthopeadics\",\"ICU\",\"General Medicine\",\"ICU\",\"General Medicine\",\"Cardiology\",\"ICU\",\"Cardiology\",\"General Medicine\",\"Cardiology\",\"ICU\",\"Orthopeadics\",\"ICU\",\"General Medicine\",\"General Medicine\",\"Cardiology\",\"General Medicine\",\"Neurology\",\"General Medicine\",\"ICU\",\"General Medicine\",\"General Medicine\",\"Cardiology\",\"Cardiology\",\"ICU\",\"ICU\",\"General Medicine\",\"General Medicine\",\"Neurology\",\"Cardiology\",\"Hospitalist\",\"ICU\",\"Neurology\",\"Hospitalist\",\"General Medicine\",\"General Medicine\",\"General Medicine\",\"General Medicine\",\"Neurology\",\"General Medicine\",\"General Medicine\",\"General Medicine\",\"ICU\",\"ICU\",\"ICU\",\"General Medicine\",\"General Medicine\",\"Hospitalist\",\"Cardiology\",\"General Medicine\",\"Hospitalist\",\"Hospitalist\",\"General Medicine\",\"General Medicine\",\"Hospitalist\",\"Hospitalist\",\"Orthopeadics\",\"Cardiology\",\"Neurology\",\"Hospitalist\",\"Orthopeadics\",\"General Medicine\",\"General Medicine\",\"General Medicine\",\"General Medicine\",\"General Medicine\",\"ICU\",\"General Medicine\",\"Hospitalist\",\"Cardiology\",\"Cardiology\",\"General Medicine\",\"General Medicine\",\"ICU\",\"Orthopeadics\",\"Orthopeadics\",\"Neurology\",\"ICU\",\"General Medicine\",\"ICU\",\"General Medicine\",\"ICU\",\"Hospitalist\",\"Hospitalist\",\"Cardiology\",\"General Medicine\",\"Cardiology\",\"General Medicine\",\"Cardiology\",\"General Medicine\",\"General Medicine\",\"General Medicine\",\"ICU\",\"ICU\",\"General Medicine\",\"General Medicine\",\"ICU\",\"General Medicine\",\"Neurology\",\"ICU\",\"Orthopeadics\",\"General Medicine\",\"Hospitalist\",\"Cardiology\",\"ICU\",\"General Medicine\",\"ICU\",\"Cardiology\",\"General Medicine\",\"General Medicine\",\"Hospitalist\",\"ICU\",\"ICU\",\"Orthopeadics\",\"General Medicine\",\"General Medicine\",\"ICU\",\"Neurology\",\"General Medicine\",\"General Medicine\",\"Cardiology\",\"General Medicine\",\"ICU\",\"Cardiology\",\"ICU\",\"General Medicine\",\"ICU\",\"Neurology\",\"Cardiology\",\"General Medicine\",\"General Medicine\",\"Orthopeadics\",\"Hospitalist\",\"General Medicine\",\"General Medicine\",\"General Medicine\",\"Neurology\",\"General Medicine\",\"General Medicine\",\"Cardiology\",\"Hospitalist\",\"General Medicine\",\"General Medicine\",\"General Medicine\",\"General Medicine\",\"Cardiology\",\"General Medicine\",\"General Medicine\",\"Neurology\",\"Hospitalist\",\"General Medicine\",\"General Medicine\",\"Neurology\",\"ICU\",\"Hospitalist\",\"General Medicine\",\"ICU\",\"Orthopeadics\",\"Hospitalist\",\"General Medicine\",\"Cardiology\",\"Hospitalist\",\"ICU\",\"Hospitalist\",\"General Medicine\",\"ICU\",\"ICU\",\"General Medicine\",\"ICU\",\"Orthopeadics\",\"Orthopeadics\",\"General Medicine\",\"General Medicine\",\"ICU\",\"Hospitalist\",\"General Medicine\",\"ICU\",\"Neurology\",\"ICU\",\"ICU\",\"Cardiology\",\"Orthopeadics\",\"General Medicine\",\"ICU\",\"Neurology\",\"General Medicine\",\"Neurology\",\"Neurology\",\"Cardiology\",\"Cardiology\",\"General Medicine\",\"Neurology\",\"Neurology\",\"General Medicine\",\"Cardiology\",\"Neurology\",\"Neurology\",\"Neurology\",\"ICU\",\"Cardiology\",\"General Medicine\",\"Neurology\",\"Neurology\",\"General Medicine\",\"Neurology\",\"Hospitalist\",\"Neurology\",\"ICU\",\"ICU\",\"Hospitalist\",\"General Medicine\",\"General Medicine\",\"General Medicine\",\"Hospitalist\",\"ICU\",\"Hospitalist\",\"ICU\",\"Hospitalist\",\"General Medicine\",\"Hospitalist\",\"Neurology\",\"Neurology\",\"ICU\",\"General Medicine\",\"General Medicine\",\"Neurology\",\"Hospitalist\",\"Orthopeadics\",\"General Medicine\",\"ICU\",\"Neurology\",\"General Medicine\",\"General Medicine\",\"Cardiology\",\"Neurology\",\"Hospitalist\",\"Orthopeadics\",\"General Medicine\",\"Cardiology\",\"ICU\",\"Orthopeadics\",\"Cardiology\",\"Neurology\",\"Orthopeadics\",\"ICU\",\"ICU\",\"General Medicine\",\"General Medicine\",\"Cardiology\",\"Neurology\",\"Neurology\",\"General Medicine\",\"Orthopeadics\",\"General Medicine\",\"Cardiology\",\"ICU\",\"General Medicine\",\"General Medicine\",\"ICU\",\"Cardiology\",\"Cardiology\",\"General Medicine\",\"Hospitalist\",\"General Medicine\",\"General Medicine\",\"General Medicine\",\"Hospitalist\",\"Neurology\",\"Cardiology\",\"Neurology\",\"ICU\",\"General Medicine\",\"ICU\",\"General Medicine\",\"Hospitalist\",\"General Medicine\",\"Cardiology\",\"Neurology\",\"General Medicine\",\"Hospitalist\",\"General Medicine\",\"General Medicine\",\"General Medicine\",\"General Medicine\",\"General Medicine\",\"General Medicine\",\"Orthopeadics\",\"ICU\",\"Neurology\",\"Neurology\",\"ICU\",\"Neurology\",\"Orthopeadics\",\"Hospitalist\",\"General Medicine\",\"ICU\",\"Neurology\",\"Cardiology\",\"ICU\",\"Cardiology\",\"General Medicine\",\"General Medicine\",\"General Medicine\",\"ICU\",\"Neurology\",\"ICU\",\"General Medicine\",\"Hospitalist\",\"Hospitalist\",\"Cardiology\",\"General Medicine\",\"Hospitalist\",\"General Medicine\",\"ICU\",\"General Medicine\",\"General Medicine\",\"Neurology\",\"General Medicine\",\"General Medicine\",\"General Medicine\",\"General Medicine\",\"General Medicine\",\"Hospitalist\",\"Neurology\",\"General Medicine\",\"Cardiology\",\"General Medicine\",\"General Medicine\",\"Orthopeadics\",\"ICU\",\"General Medicine\",\"ICU\",\"Neurology\",\"General Medicine\",\"Neurology\",\"ICU\",\"Orthopeadics\",\"Cardiology\",\"General Medicine\",\"General Medicine\",\"General Medicine\",\"General Medicine\",\"Hospitalist\",\"ICU\",\"Hospitalist\",\"ICU\",\"Hospitalist\",\"Hospitalist\",\"General Medicine\",\"Hospitalist\",\"General Medicine\",\"Cardiology\",\"Orthopeadics\",\"Neurology\",\"Cardiology\",\"General Medicine\",\"General Medicine\",\"Neurology\",\"General Medicine\",\"General Medicine\",\"Cardiology\",\"ICU\",\"General Medicine\",\"General Medicine\",\"General Medicine\",\"ICU\",\"General Medicine\",\"ICU\",\"Hospitalist\",\"General Medicine\",\"Cardiology\",\"General Medicine\",\"General Medicine\",\"Orthopeadics\",\"Hospitalist\",\"General Medicine\",\"Neurology\",\"General Medicine\",\"ICU\",\"Cardiology\",\"General Medicine\",\"ICU\",\"ICU\",\"General Medicine\",\"Hospitalist\",\"Hospitalist\",\"General Medicine\",\"ICU\",\"Cardiology\",\"General Medicine\",\"Hospitalist\",\"Hospitalist\",\"Orthopeadics\",\"Hospitalist\",\"General Medicine\",\"Orthopeadics\",\"General Medicine\",\"General Medicine\",\"ICU\",\"Cardiology\",\"Neurology\",\"Cardiology\",\"ICU\",\"General Medicine\",\"Cardiology\",\"General Medicine\",\"ICU\",\"ICU\",\"Hospitalist\",\"Orthopeadics\",\"General Medicine\",\"ICU\",\"General Medicine\",\"Cardiology\",\"Hospitalist\",\"ICU\",\"Orthopeadics\",\"General Medicine\",\"ICU\",\"ICU\",\"General Medicine\",\"General Medicine\",\"Cardiology\",\"General Medicine\",\"General Medicine\",\"General Medicine\",\"General Medicine\",\"General Medicine\",\"General Medicine\",\"ICU\",\"Cardiology\",\"Orthopeadics\",\"General Medicine\",\"Cardiology\",\"Cardiology\",\"General Medicine\",\"ICU\",\"General Medicine\",\"ICU\",\"Neurology\",\"Cardiology\",\"Cardiology\",\"ICU\",\"Cardiology\",\"General Medicine\",\"ICU\",\"General Medicine\",\"General Medicine\",\"General Medicine\",\"ICU\",\"Cardiology\",\"ICU\",\"Hospitalist\",\"General Medicine\",\"General Medicine\"],\"values\":[48,11,9,64,19,80,78,23,49,20,23,29,12,7,177,2,68],\"type\":\"pie\"}],                        {\"template\":{\"data\":{\"histogram2dcontour\":[{\"type\":\"histogram2dcontour\",\"colorbar\":{\"outlinewidth\":0,\"ticks\":\"\"},\"colorscale\":[[0.0,\"#0d0887\"],[0.1111111111111111,\"#46039f\"],[0.2222222222222222,\"#7201a8\"],[0.3333333333333333,\"#9c179e\"],[0.4444444444444444,\"#bd3786\"],[0.5555555555555556,\"#d8576b\"],[0.6666666666666666,\"#ed7953\"],[0.7777777777777778,\"#fb9f3a\"],[0.8888888888888888,\"#fdca26\"],[1.0,\"#f0f921\"]]}],\"choropleth\":[{\"type\":\"choropleth\",\"colorbar\":{\"outlinewidth\":0,\"ticks\":\"\"}}],\"histogram2d\":[{\"type\":\"histogram2d\",\"colorbar\":{\"outlinewidth\":0,\"ticks\":\"\"},\"colorscale\":[[0.0,\"#0d0887\"],[0.1111111111111111,\"#46039f\"],[0.2222222222222222,\"#7201a8\"],[0.3333333333333333,\"#9c179e\"],[0.4444444444444444,\"#bd3786\"],[0.5555555555555556,\"#d8576b\"],[0.6666666666666666,\"#ed7953\"],[0.7777777777777778,\"#fb9f3a\"],[0.8888888888888888,\"#fdca26\"],[1.0,\"#f0f921\"]]}],\"heatmap\":[{\"type\":\"heatmap\",\"colorbar\":{\"outlinewidth\":0,\"ticks\":\"\"},\"colorscale\":[[0.0,\"#0d0887\"],[0.1111111111111111,\"#46039f\"],[0.2222222222222222,\"#7201a8\"],[0.3333333333333333,\"#9c179e\"],[0.4444444444444444,\"#bd3786\"],[0.5555555555555556,\"#d8576b\"],[0.6666666666666666,\"#ed7953\"],[0.7777777777777778,\"#fb9f3a\"],[0.8888888888888888,\"#fdca26\"],[1.0,\"#f0f921\"]]}],\"heatmapgl\":[{\"type\":\"heatmapgl\",\"colorbar\":{\"outlinewidth\":0,\"ticks\":\"\"},\"colorscale\":[[0.0,\"#0d0887\"],[0.1111111111111111,\"#46039f\"],[0.2222222222222222,\"#7201a8\"],[0.3333333333333333,\"#9c179e\"],[0.4444444444444444,\"#bd3786\"],[0.5555555555555556,\"#d8576b\"],[0.6666666666666666,\"#ed7953\"],[0.7777777777777778,\"#fb9f3a\"],[0.8888888888888888,\"#fdca26\"],[1.0,\"#f0f921\"]]}],\"contourcarpet\":[{\"type\":\"contourcarpet\",\"colorbar\":{\"outlinewidth\":0,\"ticks\":\"\"}}],\"contour\":[{\"type\":\"contour\",\"colorbar\":{\"outlinewidth\":0,\"ticks\":\"\"},\"colorscale\":[[0.0,\"#0d0887\"],[0.1111111111111111,\"#46039f\"],[0.2222222222222222,\"#7201a8\"],[0.3333333333333333,\"#9c179e\"],[0.4444444444444444,\"#bd3786\"],[0.5555555555555556,\"#d8576b\"],[0.6666666666666666,\"#ed7953\"],[0.7777777777777778,\"#fb9f3a\"],[0.8888888888888888,\"#fdca26\"],[1.0,\"#f0f921\"]]}],\"surface\":[{\"type\":\"surface\",\"colorbar\":{\"outlinewidth\":0,\"ticks\":\"\"},\"colorscale\":[[0.0,\"#0d0887\"],[0.1111111111111111,\"#46039f\"],[0.2222222222222222,\"#7201a8\"],[0.3333333333333333,\"#9c179e\"],[0.4444444444444444,\"#bd3786\"],[0.5555555555555556,\"#d8576b\"],[0.6666666666666666,\"#ed7953\"],[0.7777777777777778,\"#fb9f3a\"],[0.8888888888888888,\"#fdca26\"],[1.0,\"#f0f921\"]]}],\"mesh3d\":[{\"type\":\"mesh3d\",\"colorbar\":{\"outlinewidth\":0,\"ticks\":\"\"}}],\"scatter\":[{\"fillpattern\":{\"fillmode\":\"overlay\",\"size\":10,\"solidity\":0.2},\"type\":\"scatter\"}],\"parcoords\":[{\"type\":\"parcoords\",\"line\":{\"colorbar\":{\"outlinewidth\":0,\"ticks\":\"\"}}}],\"scatterpolargl\":[{\"type\":\"scatterpolargl\",\"marker\":{\"colorbar\":{\"outlinewidth\":0,\"ticks\":\"\"}}}],\"bar\":[{\"error_x\":{\"color\":\"#2a3f5f\"},\"error_y\":{\"color\":\"#2a3f5f\"},\"marker\":{\"line\":{\"color\":\"#E5ECF6\",\"width\":0.5},\"pattern\":{\"fillmode\":\"overlay\",\"size\":10,\"solidity\":0.2}},\"type\":\"bar\"}],\"scattergeo\":[{\"type\":\"scattergeo\",\"marker\":{\"colorbar\":{\"outlinewidth\":0,\"ticks\":\"\"}}}],\"scatterpolar\":[{\"type\":\"scatterpolar\",\"marker\":{\"colorbar\":{\"outlinewidth\":0,\"ticks\":\"\"}}}],\"histogram\":[{\"marker\":{\"pattern\":{\"fillmode\":\"overlay\",\"size\":10,\"solidity\":0.2}},\"type\":\"histogram\"}],\"scattergl\":[{\"type\":\"scattergl\",\"marker\":{\"colorbar\":{\"outlinewidth\":0,\"ticks\":\"\"}}}],\"scatter3d\":[{\"type\":\"scatter3d\",\"line\":{\"colorbar\":{\"outlinewidth\":0,\"ticks\":\"\"}},\"marker\":{\"colorbar\":{\"outlinewidth\":0,\"ticks\":\"\"}}}],\"scattermapbox\":[{\"type\":\"scattermapbox\",\"marker\":{\"colorbar\":{\"outlinewidth\":0,\"ticks\":\"\"}}}],\"scatterternary\":[{\"type\":\"scatterternary\",\"marker\":{\"colorbar\":{\"outlinewidth\":0,\"ticks\":\"\"}}}],\"scattercarpet\":[{\"type\":\"scattercarpet\",\"marker\":{\"colorbar\":{\"outlinewidth\":0,\"ticks\":\"\"}}}],\"carpet\":[{\"aaxis\":{\"endlinecolor\":\"#2a3f5f\",\"gridcolor\":\"white\",\"linecolor\":\"white\",\"minorgridcolor\":\"white\",\"startlinecolor\":\"#2a3f5f\"},\"baxis\":{\"endlinecolor\":\"#2a3f5f\",\"gridcolor\":\"white\",\"linecolor\":\"white\",\"minorgridcolor\":\"white\",\"startlinecolor\":\"#2a3f5f\"},\"type\":\"carpet\"}],\"table\":[{\"cells\":{\"fill\":{\"color\":\"#EBF0F8\"},\"line\":{\"color\":\"white\"}},\"header\":{\"fill\":{\"color\":\"#C8D4E3\"},\"line\":{\"color\":\"white\"}},\"type\":\"table\"}],\"barpolar\":[{\"marker\":{\"line\":{\"color\":\"#E5ECF6\",\"width\":0.5},\"pattern\":{\"fillmode\":\"overlay\",\"size\":10,\"solidity\":0.2}},\"type\":\"barpolar\"}],\"pie\":[{\"automargin\":true,\"type\":\"pie\"}]},\"layout\":{\"autotypenumbers\":\"strict\",\"colorway\":[\"#636efa\",\"#EF553B\",\"#00cc96\",\"#ab63fa\",\"#FFA15A\",\"#19d3f3\",\"#FF6692\",\"#B6E880\",\"#FF97FF\",\"#FECB52\"],\"font\":{\"color\":\"#2a3f5f\"},\"hovermode\":\"closest\",\"hoverlabel\":{\"align\":\"left\"},\"paper_bgcolor\":\"white\",\"plot_bgcolor\":\"#E5ECF6\",\"polar\":{\"bgcolor\":\"#E5ECF6\",\"angularaxis\":{\"gridcolor\":\"white\",\"linecolor\":\"white\",\"ticks\":\"\"},\"radialaxis\":{\"gridcolor\":\"white\",\"linecolor\":\"white\",\"ticks\":\"\"}},\"ternary\":{\"bgcolor\":\"#E5ECF6\",\"aaxis\":{\"gridcolor\":\"white\",\"linecolor\":\"white\",\"ticks\":\"\"},\"baxis\":{\"gridcolor\":\"white\",\"linecolor\":\"white\",\"ticks\":\"\"},\"caxis\":{\"gridcolor\":\"white\",\"linecolor\":\"white\",\"ticks\":\"\"}},\"coloraxis\":{\"colorbar\":{\"outlinewidth\":0,\"ticks\":\"\"}},\"colorscale\":{\"sequential\":[[0.0,\"#0d0887\"],[0.1111111111111111,\"#46039f\"],[0.2222222222222222,\"#7201a8\"],[0.3333333333333333,\"#9c179e\"],[0.4444444444444444,\"#bd3786\"],[0.5555555555555556,\"#d8576b\"],[0.6666666666666666,\"#ed7953\"],[0.7777777777777778,\"#fb9f3a\"],[0.8888888888888888,\"#fdca26\"],[1.0,\"#f0f921\"]],\"sequentialminus\":[[0.0,\"#0d0887\"],[0.1111111111111111,\"#46039f\"],[0.2222222222222222,\"#7201a8\"],[0.3333333333333333,\"#9c179e\"],[0.4444444444444444,\"#bd3786\"],[0.5555555555555556,\"#d8576b\"],[0.6666666666666666,\"#ed7953\"],[0.7777777777777778,\"#fb9f3a\"],[0.8888888888888888,\"#fdca26\"],[1.0,\"#f0f921\"]],\"diverging\":[[0,\"#8e0152\"],[0.1,\"#c51b7d\"],[0.2,\"#de77ae\"],[0.3,\"#f1b6da\"],[0.4,\"#fde0ef\"],[0.5,\"#f7f7f7\"],[0.6,\"#e6f5d0\"],[0.7,\"#b8e186\"],[0.8,\"#7fbc41\"],[0.9,\"#4d9221\"],[1,\"#276419\"]]},\"xaxis\":{\"gridcolor\":\"white\",\"linecolor\":\"white\",\"ticks\":\"\",\"title\":{\"standoff\":15},\"zerolinecolor\":\"white\",\"automargin\":true,\"zerolinewidth\":2},\"yaxis\":{\"gridcolor\":\"white\",\"linecolor\":\"white\",\"ticks\":\"\",\"title\":{\"standoff\":15},\"zerolinecolor\":\"white\",\"automargin\":true,\"zerolinewidth\":2},\"scene\":{\"xaxis\":{\"backgroundcolor\":\"#E5ECF6\",\"gridcolor\":\"white\",\"linecolor\":\"white\",\"showbackground\":true,\"ticks\":\"\",\"zerolinecolor\":\"white\",\"gridwidth\":2},\"yaxis\":{\"backgroundcolor\":\"#E5ECF6\",\"gridcolor\":\"white\",\"linecolor\":\"white\",\"showbackground\":true,\"ticks\":\"\",\"zerolinecolor\":\"white\",\"gridwidth\":2},\"zaxis\":{\"backgroundcolor\":\"#E5ECF6\",\"gridcolor\":\"white\",\"linecolor\":\"white\",\"showbackground\":true,\"ticks\":\"\",\"zerolinecolor\":\"white\",\"gridwidth\":2}},\"shapedefaults\":{\"line\":{\"color\":\"#2a3f5f\"}},\"annotationdefaults\":{\"arrowcolor\":\"#2a3f5f\",\"arrowhead\":0,\"arrowwidth\":1},\"geo\":{\"bgcolor\":\"white\",\"landcolor\":\"#E5ECF6\",\"subunitcolor\":\"white\",\"showland\":true,\"showlakes\":true,\"lakecolor\":\"white\"},\"title\":{\"x\":0.05},\"mapbox\":{\"style\":\"light\"}}}},                        {\"responsive\": true}                    ).then(function(){\n",
       "                            \n",
       "var gd = document.getElementById('1308ef6f-691a-47a8-8c51-ed1156efa555');\n",
       "var x = new MutationObserver(function (mutations, observer) {{\n",
       "        var display = window.getComputedStyle(gd).display;\n",
       "        if (!display || display === 'none') {{\n",
       "            console.log([gd, 'removed!']);\n",
       "            Plotly.purge(gd);\n",
       "            observer.disconnect();\n",
       "        }}\n",
       "}});\n",
       "\n",
       "// Listen for the removal of the full notebook cells\n",
       "var notebookContainer = gd.closest('#notebook-container');\n",
       "if (notebookContainer) {{\n",
       "    x.observe(notebookContainer, {childList: true});\n",
       "}}\n",
       "\n",
       "// Listen for the clearing of the current output cell\n",
       "var outputEl = gd.closest('.output');\n",
       "if (outputEl) {{\n",
       "    x.observe(outputEl, {childList: true});\n",
       "}}\n",
       "\n",
       "                        })                };                });            </script>        </div>"
      ]
     },
     "metadata": {},
     "output_type": "display_data"
    }
   ],
   "source": [
    "#18.Display using a donut chart the patient count in the ReAdmissionRegistry.\n",
    "#------------------------------------------------------------------------------\n",
    "import plotly.graph_objects as go\n",
    "groupbydiagnosis=df4.groupby('PrimaryDiagnosis')['PatientID'].nunique().reset_index(name='countofpatients')\n",
    "labels = df4[\"Service\"]\n",
    "values = groupbydiagnosis['countofpatients']\n",
    "fig = go.Figure(data=[go.Pie(labels=labels, values=values, hole=.5)])\n",
    "fig.show()"
   ]
  },
  {
   "cell_type": "code",
   "execution_count": 64,
   "id": "3be5a93b",
   "metadata": {},
   "outputs": [
    {
     "name": "stdout",
     "output_type": "stream",
     "text": [
      "     AdmissionID  PatientID AdmissionDate           DischargeDate  \\\n",
      "12           398        134    2018-01-10 2018-01-15 16:43:47.026   \n",
      "24           368        178    2018-01-14 2018-01-18 13:44:53.072   \n",
      "31           369        198    2018-01-15 2018-01-31 14:28:07.437   \n",
      "36           406        230    2018-01-18 2018-02-01 20:55:30.903   \n",
      "47           174        352    2018-01-29 2018-02-02 21:21:45.388   \n",
      "87           295        560    2018-02-13 2018-02-26 18:17:22.826   \n",
      "92           297        588    2018-02-15 2018-02-26 14:46:54.780   \n",
      "101          691        709    2018-02-21 2018-03-01 08:44:33.655   \n",
      "110          549          8    2018-01-01 2018-01-07 15:39:25.987   \n",
      "119          252         19    2018-01-01 2018-01-17 14:13:23.627   \n",
      "127          550         27    2018-01-02 2018-01-13 07:34:46.603   \n",
      "140          391         41    2018-01-03 2018-01-10 00:57:05.440   \n",
      "157          609         59    2018-01-04 2018-01-09 01:18:34.182   \n",
      "179          144         83    2018-01-05 2018-01-17 11:00:10.366   \n",
      "186          145         90    2018-01-06 2018-01-15 03:16:35.614   \n",
      "190          444         95    2018-01-06 2018-01-19 02:57:34.514   \n",
      "199          445        108    2018-01-07 2018-01-22 06:49:20.132   \n",
      "203          114        113    2018-01-08 2018-01-14 22:04:11.532   \n",
      "221           10        139    2018-01-10 2018-01-23 02:52:59.927   \n",
      "261           68        194    2018-01-15 2018-01-24 13:02:54.142   \n",
      "270          161        208    2018-01-16 2018-01-31 13:52:54.519   \n",
      "275           70        215    2018-01-17 2018-01-26 11:36:41.083   \n",
      "281          372        221    2018-01-18 2018-01-21 01:21:00.624   \n",
      "316          459        259    2018-01-21 2018-01-25 10:56:22.658   \n",
      "319          325        262    2018-01-21 2018-01-28 07:42:51.034   \n",
      "321          219        264    2018-01-21 2018-02-03 13:01:46.214   \n",
      "338          221        284    2018-01-23 2018-02-02 15:16:54.688   \n",
      "353          413        302    2018-01-25 2018-01-29 15:37:42.226   \n",
      "357          131        307    2018-01-25 2018-02-06 07:32:54.294   \n",
      "375          616        329    2018-01-27 2018-02-08 12:48:19.071   \n",
      "383          173        338    2018-01-28 2018-01-31 09:33:18.479   \n",
      "394          383        351    2018-01-29 2018-02-01 13:51:43.552   \n",
      "397          280        355    2018-01-29 2018-02-04 06:00:18.953   \n",
      "403          384        365    2018-01-30 2018-02-03 21:40:45.505   \n",
      "418          670        406    2018-01-31 2018-02-16 14:33:25.110   \n",
      "442          623        438    2018-02-03 2018-02-15 19:59:54.262   \n",
      "451          473        448    2018-02-04 2018-02-16 12:02:18.116   \n",
      "457          474        458    2018-02-05 2018-02-15 23:58:18.113   \n",
      "460          626        462    2018-02-06 2018-02-12 07:25:43.824   \n",
      "465          676        470    2018-02-06 2018-02-21 08:09:43.432   \n",
      "476          477        486    2018-02-08 2018-02-16 08:36:20.182   \n",
      "479           39        490    2018-02-08 2018-02-22 10:01:24.704   \n",
      "485          535        496    2018-02-09 2018-02-12 14:44:45.232   \n",
      "516           42        533    2018-02-11 2018-02-24 12:10:12.347   \n",
      "526          431        543    2018-02-12 2018-02-19 11:04:49.046   \n",
      "564           99        587    2018-02-15 2018-02-24 06:57:25.143   \n",
      "572          100        597    2018-02-16 2018-02-25 00:37:27.040   \n",
      "610          505        646    2018-02-18 2018-03-04 04:54:33.917   \n",
      "614          488        652    2018-02-19 2018-02-22 23:14:27.662   \n",
      "622          248        663    2018-02-19 2018-02-28 15:33:40.216   \n",
      "625          518        666    2018-02-19 2018-03-02 10:50:39.029   \n",
      "626          564        667    2018-02-19 2018-03-02 15:41:36.457   \n",
      "640          565        687    2018-02-20 2018-03-04 05:12:27.379   \n",
      "672          586        731    2018-02-22 2018-03-03 21:51:47.920   \n",
      "\n",
      "    DischargeDisposition      Service    PrimaryDiagnosis  ExpectedLOS  \\\n",
      "12               Expired          ICU           Pneumonia    16.225126   \n",
      "24               Expired          ICU  Spinal Cord Injury    15.183750   \n",
      "31               Expired          ICU  Spinal Cord Injury    15.369330   \n",
      "36               Expired   Cardiology                Afib    15.212173   \n",
      "47               Expired          ICU           Pneumonia    16.989907   \n",
      "87               Expired    Neurology       Heart Failure    16.785926   \n",
      "92               Expired    Neurology              Stroke    15.958583   \n",
      "101              Expired   Cardiology       Heart Failure    15.471412   \n",
      "110                 Home  Hospitalist           Pneumonia    16.472257   \n",
      "119                 Home  Hospitalist              Stroke    15.349671   \n",
      "127                 Home          ICU           Pneumonia    15.415514   \n",
      "140                 Home   Cardiology                Afib    14.995421   \n",
      "157                 Home          ICU           Pneumonia    15.118850   \n",
      "179                 Home          ICU           Pneumonia    15.622700   \n",
      "186                 Home          ICU           Pneumonia    16.161806   \n",
      "190                 Home          ICU              Stroke    16.838918   \n",
      "199                 Home          ICU              Stroke    15.660602   \n",
      "203                 Home          ICU           Pneumonia    15.895307   \n",
      "221                 Home          ICU              Stroke    15.422103   \n",
      "261                 Home          ICU           Pneumonia    15.442762   \n",
      "270                 Home   Cardiology                 AMI    15.516297   \n",
      "275                 Home          ICU           Pneumonia    16.998213   \n",
      "281                 Home    Neurology              Stroke    15.573663   \n",
      "316                 Home          ICU           Pneumonia    16.306983   \n",
      "319                 Home          ICU           Pneumonia    15.883172   \n",
      "321                 Home          ICU       Heart Failure    15.142298   \n",
      "338                 Home   Cardiology       Heart Failure    15.440714   \n",
      "353                 Home          ICU              Stroke    16.189186   \n",
      "357                 Home   Cardiology                 AMI    15.156452   \n",
      "375                 Home   Cardiology       Heart Failure    15.462210   \n",
      "383                 Home          ICU           Pneumonia    16.753521   \n",
      "394                 Home          ICU           Pneumonia    16.784042   \n",
      "397                 Home          ICU       Heart Failure    16.154370   \n",
      "403                 Home          ICU           Pneumonia    16.032985   \n",
      "418                 Home          ICU       Heart Failure    15.074307   \n",
      "442                 Home          ICU                 AMI    16.974824   \n",
      "451                 Home          ICU           Pneumonia    15.116540   \n",
      "457                 Home          ICU           Pneumonia    15.287647   \n",
      "460                 Home   Cardiology       Heart Failure    15.273152   \n",
      "465                 Home   Cardiology       Heart Failure    15.627740   \n",
      "476                 Home    Neurology            Migraine    15.041549   \n",
      "479                 Home          ICU           Pneumonia    16.851937   \n",
      "485                 Home          ICU           Pneumonia    16.655430   \n",
      "516                 Home    Neurology              Stroke    15.712913   \n",
      "526                 Home   Cardiology                 AMI    15.811000   \n",
      "564                 Home          ICU           Pneumonia    16.122515   \n",
      "572                 Home          ICU           Pneumonia    16.456266   \n",
      "610                 Home          ICU           Pneumonia    16.272193   \n",
      "614                 Home          ICU           Pneumonia    16.627521   \n",
      "622                 Home          ICU       Heart Failure    16.867883   \n",
      "625                 Home          ICU           Pneumonia    15.366281   \n",
      "626                 Home          ICU           Pneumonia    15.503041   \n",
      "640                 Home          ICU           Pneumonia    15.745479   \n",
      "672                 Home   Cardiology       Heart Failure    15.435455   \n",
      "\n",
      "     ExpectedMortality  \n",
      "12            0.460186  \n",
      "24            0.318426  \n",
      "31            0.082132  \n",
      "36            0.487404  \n",
      "47            0.573870  \n",
      "87            0.808604  \n",
      "92            0.172149  \n",
      "101           0.362760  \n",
      "110           0.526198  \n",
      "119           0.478003  \n",
      "127           0.774480  \n",
      "140           0.385435  \n",
      "157           0.967396  \n",
      "179           0.395238  \n",
      "186           0.824220  \n",
      "190           0.958035  \n",
      "199           0.639241  \n",
      "203           0.629358  \n",
      "221           0.568847  \n",
      "261           0.320295  \n",
      "270           0.419545  \n",
      "275           0.394041  \n",
      "281           0.624283  \n",
      "316           0.264117  \n",
      "319           0.821217  \n",
      "321           0.328102  \n",
      "338           0.209943  \n",
      "353           0.546420  \n",
      "357           0.209086  \n",
      "375           0.482830  \n",
      "383           0.308928  \n",
      "394           0.143620  \n",
      "397           0.664635  \n",
      "403           0.401682  \n",
      "418           0.783586  \n",
      "442           0.057530  \n",
      "451           0.065651  \n",
      "457           0.182240  \n",
      "460           0.358536  \n",
      "465           0.280233  \n",
      "476           0.447190  \n",
      "479           0.206923  \n",
      "485           0.859087  \n",
      "516           0.763070  \n",
      "526           0.104853  \n",
      "564           0.654254  \n",
      "572           0.424688  \n",
      "610           0.461280  \n",
      "614           0.131845  \n",
      "622           0.973067  \n",
      "625           0.917408  \n",
      "626           0.188014  \n",
      "640           0.468351  \n",
      "672           0.361812  \n"
     ]
    }
   ],
   "source": [
    "#19.Show the records where the ExpectedLos is greater than the difference between the max and min ExpectedLos.\n",
    "#--------------------------------------------------------------------------------------------------------------\n",
    "test = df5[(df5['ExpectedLOS'] > (max(df5[\"ExpectedLOS\"])-min(df5[\"ExpectedLOS\"])))]\n",
    "print(test)"
   ]
  },
  {
   "cell_type": "code",
   "execution_count": 60,
   "id": "18e40c34",
   "metadata": {},
   "outputs": [
    {
     "data": {
      "application/vnd.plotly.v1+json": {
       "config": {
        "plotlyServerURL": "https://plot.ly"
       },
       "data": [
        {
         "alignmentgroup": "True",
         "hovertemplate": "Service=%{x}<br>ExpectedMortality=%{y}<extra></extra>",
         "legendgroup": "Cardiology",
         "marker": {
          "color": "#636efa",
          "pattern": {
           "shape": ""
          }
         },
         "name": "Cardiology",
         "offsetgroup": "Cardiology",
         "orientation": "v",
         "showlegend": true,
         "textposition": "auto",
         "type": "bar",
         "x": [
          "Cardiology"
         ],
         "xaxis": "x",
         "y": [
          0.2676049956366067
         ],
         "yaxis": "y"
        },
        {
         "alignmentgroup": "True",
         "hovertemplate": "Service=%{x}<br>ExpectedMortality=%{y}<extra></extra>",
         "legendgroup": "General Medicine",
         "marker": {
          "color": "#EF553B",
          "pattern": {
           "shape": ""
          }
         },
         "name": "General Medicine",
         "offsetgroup": "General Medicine",
         "orientation": "v",
         "showlegend": true,
         "textposition": "auto",
         "type": "bar",
         "x": [
          "General Medicine"
         ],
         "xaxis": "x",
         "y": [
          0.27158206392730033
         ],
         "yaxis": "y"
        },
        {
         "alignmentgroup": "True",
         "hovertemplate": "Service=%{x}<br>ExpectedMortality=%{y}<extra></extra>",
         "legendgroup": "Hospitalist",
         "marker": {
          "color": "#00cc96",
          "pattern": {
           "shape": ""
          }
         },
         "name": "Hospitalist",
         "offsetgroup": "Hospitalist",
         "orientation": "v",
         "showlegend": true,
         "textposition": "auto",
         "type": "bar",
         "x": [
          "Hospitalist"
         ],
         "xaxis": "x",
         "y": [
          0.3191243057532707
         ],
         "yaxis": "y"
        },
        {
         "alignmentgroup": "True",
         "hovertemplate": "Service=%{x}<br>ExpectedMortality=%{y}<extra></extra>",
         "legendgroup": "Orthopeadics",
         "marker": {
          "color": "#ab63fa",
          "pattern": {
           "shape": ""
          }
         },
         "name": "Orthopeadics",
         "offsetgroup": "Orthopeadics",
         "orientation": "v",
         "showlegend": true,
         "textposition": "auto",
         "type": "bar",
         "x": [
          "Orthopeadics"
         ],
         "xaxis": "x",
         "y": [
          0.3222511928470848
         ],
         "yaxis": "y"
        },
        {
         "alignmentgroup": "True",
         "hovertemplate": "Service=%{x}<br>ExpectedMortality=%{y}<extra></extra>",
         "legendgroup": "ICU",
         "marker": {
          "color": "#FFA15A",
          "pattern": {
           "shape": ""
          }
         },
         "name": "ICU",
         "offsetgroup": "ICU",
         "orientation": "v",
         "showlegend": true,
         "textposition": "auto",
         "type": "bar",
         "x": [
          "ICU"
         ],
         "xaxis": "x",
         "y": [
          0.45727763001061594
         ],
         "yaxis": "y"
        },
        {
         "alignmentgroup": "True",
         "hovertemplate": "Service=%{x}<br>ExpectedMortality=%{y}<extra></extra>",
         "legendgroup": "Neurology",
         "marker": {
          "color": "#19d3f3",
          "pattern": {
           "shape": ""
          }
         },
         "name": "Neurology",
         "offsetgroup": "Neurology",
         "orientation": "v",
         "showlegend": true,
         "textposition": "auto",
         "type": "bar",
         "x": [
          "Neurology"
         ],
         "xaxis": "x",
         "y": [
          0.47346047937277824
         ],
         "yaxis": "y"
        }
       ],
       "layout": {
        "barmode": "relative",
        "height": 400,
        "legend": {
         "title": {
          "text": "Service"
         },
         "tracegroupgap": 0
        },
        "margin": {
         "t": 60
        },
        "template": {
         "data": {
          "bar": [
           {
            "error_x": {
             "color": "#2a3f5f"
            },
            "error_y": {
             "color": "#2a3f5f"
            },
            "marker": {
             "line": {
              "color": "#E5ECF6",
              "width": 0.5
             },
             "pattern": {
              "fillmode": "overlay",
              "size": 10,
              "solidity": 0.2
             }
            },
            "type": "bar"
           }
          ],
          "barpolar": [
           {
            "marker": {
             "line": {
              "color": "#E5ECF6",
              "width": 0.5
             },
             "pattern": {
              "fillmode": "overlay",
              "size": 10,
              "solidity": 0.2
             }
            },
            "type": "barpolar"
           }
          ],
          "carpet": [
           {
            "aaxis": {
             "endlinecolor": "#2a3f5f",
             "gridcolor": "white",
             "linecolor": "white",
             "minorgridcolor": "white",
             "startlinecolor": "#2a3f5f"
            },
            "baxis": {
             "endlinecolor": "#2a3f5f",
             "gridcolor": "white",
             "linecolor": "white",
             "minorgridcolor": "white",
             "startlinecolor": "#2a3f5f"
            },
            "type": "carpet"
           }
          ],
          "choropleth": [
           {
            "colorbar": {
             "outlinewidth": 0,
             "ticks": ""
            },
            "type": "choropleth"
           }
          ],
          "contour": [
           {
            "colorbar": {
             "outlinewidth": 0,
             "ticks": ""
            },
            "colorscale": [
             [
              0,
              "#0d0887"
             ],
             [
              0.1111111111111111,
              "#46039f"
             ],
             [
              0.2222222222222222,
              "#7201a8"
             ],
             [
              0.3333333333333333,
              "#9c179e"
             ],
             [
              0.4444444444444444,
              "#bd3786"
             ],
             [
              0.5555555555555556,
              "#d8576b"
             ],
             [
              0.6666666666666666,
              "#ed7953"
             ],
             [
              0.7777777777777778,
              "#fb9f3a"
             ],
             [
              0.8888888888888888,
              "#fdca26"
             ],
             [
              1,
              "#f0f921"
             ]
            ],
            "type": "contour"
           }
          ],
          "contourcarpet": [
           {
            "colorbar": {
             "outlinewidth": 0,
             "ticks": ""
            },
            "type": "contourcarpet"
           }
          ],
          "heatmap": [
           {
            "colorbar": {
             "outlinewidth": 0,
             "ticks": ""
            },
            "colorscale": [
             [
              0,
              "#0d0887"
             ],
             [
              0.1111111111111111,
              "#46039f"
             ],
             [
              0.2222222222222222,
              "#7201a8"
             ],
             [
              0.3333333333333333,
              "#9c179e"
             ],
             [
              0.4444444444444444,
              "#bd3786"
             ],
             [
              0.5555555555555556,
              "#d8576b"
             ],
             [
              0.6666666666666666,
              "#ed7953"
             ],
             [
              0.7777777777777778,
              "#fb9f3a"
             ],
             [
              0.8888888888888888,
              "#fdca26"
             ],
             [
              1,
              "#f0f921"
             ]
            ],
            "type": "heatmap"
           }
          ],
          "heatmapgl": [
           {
            "colorbar": {
             "outlinewidth": 0,
             "ticks": ""
            },
            "colorscale": [
             [
              0,
              "#0d0887"
             ],
             [
              0.1111111111111111,
              "#46039f"
             ],
             [
              0.2222222222222222,
              "#7201a8"
             ],
             [
              0.3333333333333333,
              "#9c179e"
             ],
             [
              0.4444444444444444,
              "#bd3786"
             ],
             [
              0.5555555555555556,
              "#d8576b"
             ],
             [
              0.6666666666666666,
              "#ed7953"
             ],
             [
              0.7777777777777778,
              "#fb9f3a"
             ],
             [
              0.8888888888888888,
              "#fdca26"
             ],
             [
              1,
              "#f0f921"
             ]
            ],
            "type": "heatmapgl"
           }
          ],
          "histogram": [
           {
            "marker": {
             "pattern": {
              "fillmode": "overlay",
              "size": 10,
              "solidity": 0.2
             }
            },
            "type": "histogram"
           }
          ],
          "histogram2d": [
           {
            "colorbar": {
             "outlinewidth": 0,
             "ticks": ""
            },
            "colorscale": [
             [
              0,
              "#0d0887"
             ],
             [
              0.1111111111111111,
              "#46039f"
             ],
             [
              0.2222222222222222,
              "#7201a8"
             ],
             [
              0.3333333333333333,
              "#9c179e"
             ],
             [
              0.4444444444444444,
              "#bd3786"
             ],
             [
              0.5555555555555556,
              "#d8576b"
             ],
             [
              0.6666666666666666,
              "#ed7953"
             ],
             [
              0.7777777777777778,
              "#fb9f3a"
             ],
             [
              0.8888888888888888,
              "#fdca26"
             ],
             [
              1,
              "#f0f921"
             ]
            ],
            "type": "histogram2d"
           }
          ],
          "histogram2dcontour": [
           {
            "colorbar": {
             "outlinewidth": 0,
             "ticks": ""
            },
            "colorscale": [
             [
              0,
              "#0d0887"
             ],
             [
              0.1111111111111111,
              "#46039f"
             ],
             [
              0.2222222222222222,
              "#7201a8"
             ],
             [
              0.3333333333333333,
              "#9c179e"
             ],
             [
              0.4444444444444444,
              "#bd3786"
             ],
             [
              0.5555555555555556,
              "#d8576b"
             ],
             [
              0.6666666666666666,
              "#ed7953"
             ],
             [
              0.7777777777777778,
              "#fb9f3a"
             ],
             [
              0.8888888888888888,
              "#fdca26"
             ],
             [
              1,
              "#f0f921"
             ]
            ],
            "type": "histogram2dcontour"
           }
          ],
          "mesh3d": [
           {
            "colorbar": {
             "outlinewidth": 0,
             "ticks": ""
            },
            "type": "mesh3d"
           }
          ],
          "parcoords": [
           {
            "line": {
             "colorbar": {
              "outlinewidth": 0,
              "ticks": ""
             }
            },
            "type": "parcoords"
           }
          ],
          "pie": [
           {
            "automargin": true,
            "type": "pie"
           }
          ],
          "scatter": [
           {
            "fillpattern": {
             "fillmode": "overlay",
             "size": 10,
             "solidity": 0.2
            },
            "type": "scatter"
           }
          ],
          "scatter3d": [
           {
            "line": {
             "colorbar": {
              "outlinewidth": 0,
              "ticks": ""
             }
            },
            "marker": {
             "colorbar": {
              "outlinewidth": 0,
              "ticks": ""
             }
            },
            "type": "scatter3d"
           }
          ],
          "scattercarpet": [
           {
            "marker": {
             "colorbar": {
              "outlinewidth": 0,
              "ticks": ""
             }
            },
            "type": "scattercarpet"
           }
          ],
          "scattergeo": [
           {
            "marker": {
             "colorbar": {
              "outlinewidth": 0,
              "ticks": ""
             }
            },
            "type": "scattergeo"
           }
          ],
          "scattergl": [
           {
            "marker": {
             "colorbar": {
              "outlinewidth": 0,
              "ticks": ""
             }
            },
            "type": "scattergl"
           }
          ],
          "scattermapbox": [
           {
            "marker": {
             "colorbar": {
              "outlinewidth": 0,
              "ticks": ""
             }
            },
            "type": "scattermapbox"
           }
          ],
          "scatterpolar": [
           {
            "marker": {
             "colorbar": {
              "outlinewidth": 0,
              "ticks": ""
             }
            },
            "type": "scatterpolar"
           }
          ],
          "scatterpolargl": [
           {
            "marker": {
             "colorbar": {
              "outlinewidth": 0,
              "ticks": ""
             }
            },
            "type": "scatterpolargl"
           }
          ],
          "scatterternary": [
           {
            "marker": {
             "colorbar": {
              "outlinewidth": 0,
              "ticks": ""
             }
            },
            "type": "scatterternary"
           }
          ],
          "surface": [
           {
            "colorbar": {
             "outlinewidth": 0,
             "ticks": ""
            },
            "colorscale": [
             [
              0,
              "#0d0887"
             ],
             [
              0.1111111111111111,
              "#46039f"
             ],
             [
              0.2222222222222222,
              "#7201a8"
             ],
             [
              0.3333333333333333,
              "#9c179e"
             ],
             [
              0.4444444444444444,
              "#bd3786"
             ],
             [
              0.5555555555555556,
              "#d8576b"
             ],
             [
              0.6666666666666666,
              "#ed7953"
             ],
             [
              0.7777777777777778,
              "#fb9f3a"
             ],
             [
              0.8888888888888888,
              "#fdca26"
             ],
             [
              1,
              "#f0f921"
             ]
            ],
            "type": "surface"
           }
          ],
          "table": [
           {
            "cells": {
             "fill": {
              "color": "#EBF0F8"
             },
             "line": {
              "color": "white"
             }
            },
            "header": {
             "fill": {
              "color": "#C8D4E3"
             },
             "line": {
              "color": "white"
             }
            },
            "type": "table"
           }
          ]
         },
         "layout": {
          "annotationdefaults": {
           "arrowcolor": "#2a3f5f",
           "arrowhead": 0,
           "arrowwidth": 1
          },
          "autotypenumbers": "strict",
          "coloraxis": {
           "colorbar": {
            "outlinewidth": 0,
            "ticks": ""
           }
          },
          "colorscale": {
           "diverging": [
            [
             0,
             "#8e0152"
            ],
            [
             0.1,
             "#c51b7d"
            ],
            [
             0.2,
             "#de77ae"
            ],
            [
             0.3,
             "#f1b6da"
            ],
            [
             0.4,
             "#fde0ef"
            ],
            [
             0.5,
             "#f7f7f7"
            ],
            [
             0.6,
             "#e6f5d0"
            ],
            [
             0.7,
             "#b8e186"
            ],
            [
             0.8,
             "#7fbc41"
            ],
            [
             0.9,
             "#4d9221"
            ],
            [
             1,
             "#276419"
            ]
           ],
           "sequential": [
            [
             0,
             "#0d0887"
            ],
            [
             0.1111111111111111,
             "#46039f"
            ],
            [
             0.2222222222222222,
             "#7201a8"
            ],
            [
             0.3333333333333333,
             "#9c179e"
            ],
            [
             0.4444444444444444,
             "#bd3786"
            ],
            [
             0.5555555555555556,
             "#d8576b"
            ],
            [
             0.6666666666666666,
             "#ed7953"
            ],
            [
             0.7777777777777778,
             "#fb9f3a"
            ],
            [
             0.8888888888888888,
             "#fdca26"
            ],
            [
             1,
             "#f0f921"
            ]
           ],
           "sequentialminus": [
            [
             0,
             "#0d0887"
            ],
            [
             0.1111111111111111,
             "#46039f"
            ],
            [
             0.2222222222222222,
             "#7201a8"
            ],
            [
             0.3333333333333333,
             "#9c179e"
            ],
            [
             0.4444444444444444,
             "#bd3786"
            ],
            [
             0.5555555555555556,
             "#d8576b"
            ],
            [
             0.6666666666666666,
             "#ed7953"
            ],
            [
             0.7777777777777778,
             "#fb9f3a"
            ],
            [
             0.8888888888888888,
             "#fdca26"
            ],
            [
             1,
             "#f0f921"
            ]
           ]
          },
          "colorway": [
           "#636efa",
           "#EF553B",
           "#00cc96",
           "#ab63fa",
           "#FFA15A",
           "#19d3f3",
           "#FF6692",
           "#B6E880",
           "#FF97FF",
           "#FECB52"
          ],
          "font": {
           "color": "#2a3f5f"
          },
          "geo": {
           "bgcolor": "white",
           "lakecolor": "white",
           "landcolor": "#E5ECF6",
           "showlakes": true,
           "showland": true,
           "subunitcolor": "white"
          },
          "hoverlabel": {
           "align": "left"
          },
          "hovermode": "closest",
          "mapbox": {
           "style": "light"
          },
          "paper_bgcolor": "white",
          "plot_bgcolor": "#E5ECF6",
          "polar": {
           "angularaxis": {
            "gridcolor": "white",
            "linecolor": "white",
            "ticks": ""
           },
           "bgcolor": "#E5ECF6",
           "radialaxis": {
            "gridcolor": "white",
            "linecolor": "white",
            "ticks": ""
           }
          },
          "scene": {
           "xaxis": {
            "backgroundcolor": "#E5ECF6",
            "gridcolor": "white",
            "gridwidth": 2,
            "linecolor": "white",
            "showbackground": true,
            "ticks": "",
            "zerolinecolor": "white"
           },
           "yaxis": {
            "backgroundcolor": "#E5ECF6",
            "gridcolor": "white",
            "gridwidth": 2,
            "linecolor": "white",
            "showbackground": true,
            "ticks": "",
            "zerolinecolor": "white"
           },
           "zaxis": {
            "backgroundcolor": "#E5ECF6",
            "gridcolor": "white",
            "gridwidth": 2,
            "linecolor": "white",
            "showbackground": true,
            "ticks": "",
            "zerolinecolor": "white"
           }
          },
          "shapedefaults": {
           "line": {
            "color": "#2a3f5f"
           }
          },
          "ternary": {
           "aaxis": {
            "gridcolor": "white",
            "linecolor": "white",
            "ticks": ""
           },
           "baxis": {
            "gridcolor": "white",
            "linecolor": "white",
            "ticks": ""
           },
           "bgcolor": "#E5ECF6",
           "caxis": {
            "gridcolor": "white",
            "linecolor": "white",
            "ticks": ""
           }
          },
          "title": {
           "x": 0.05
          },
          "xaxis": {
           "automargin": true,
           "gridcolor": "white",
           "linecolor": "white",
           "ticks": "",
           "title": {
            "standoff": 15
           },
           "zerolinecolor": "white",
           "zerolinewidth": 2
          },
          "yaxis": {
           "automargin": true,
           "gridcolor": "white",
           "linecolor": "white",
           "ticks": "",
           "title": {
            "standoff": 15
           },
           "zerolinecolor": "white",
           "zerolinewidth": 2
          }
         }
        },
        "xaxis": {
         "anchor": "y",
         "categoryarray": [
          "Cardiology",
          "General Medicine",
          "Hospitalist",
          "Orthopeadics",
          "ICU",
          "Neurology"
         ],
         "categoryorder": "array",
         "domain": [
          0,
          1
         ],
         "title": {
          "text": "Service"
         }
        },
        "yaxis": {
         "anchor": "x",
         "domain": [
          0,
          1
         ],
         "title": {
          "text": "ExpectedMortality"
         }
        }
       }
      },
      "text/html": [
       "<div>                            <div id=\"97ca51c7-0f50-4ce4-93ff-6679e56a5dca\" class=\"plotly-graph-div\" style=\"height:400px; width:100%;\"></div>            <script type=\"text/javascript\">                require([\"plotly\"], function(Plotly) {                    window.PLOTLYENV=window.PLOTLYENV || {};                                    if (document.getElementById(\"97ca51c7-0f50-4ce4-93ff-6679e56a5dca\")) {                    Plotly.newPlot(                        \"97ca51c7-0f50-4ce4-93ff-6679e56a5dca\",                        [{\"alignmentgroup\":\"True\",\"hovertemplate\":\"Service=%{x}<br>ExpectedMortality=%{y}<extra></extra>\",\"legendgroup\":\"Cardiology\",\"marker\":{\"color\":\"#636efa\",\"pattern\":{\"shape\":\"\"}},\"name\":\"Cardiology\",\"offsetgroup\":\"Cardiology\",\"orientation\":\"v\",\"showlegend\":true,\"textposition\":\"auto\",\"x\":[\"Cardiology\"],\"xaxis\":\"x\",\"y\":[0.2676049956366067],\"yaxis\":\"y\",\"type\":\"bar\"},{\"alignmentgroup\":\"True\",\"hovertemplate\":\"Service=%{x}<br>ExpectedMortality=%{y}<extra></extra>\",\"legendgroup\":\"General Medicine\",\"marker\":{\"color\":\"#EF553B\",\"pattern\":{\"shape\":\"\"}},\"name\":\"General Medicine\",\"offsetgroup\":\"General Medicine\",\"orientation\":\"v\",\"showlegend\":true,\"textposition\":\"auto\",\"x\":[\"General Medicine\"],\"xaxis\":\"x\",\"y\":[0.27158206392730033],\"yaxis\":\"y\",\"type\":\"bar\"},{\"alignmentgroup\":\"True\",\"hovertemplate\":\"Service=%{x}<br>ExpectedMortality=%{y}<extra></extra>\",\"legendgroup\":\"Hospitalist\",\"marker\":{\"color\":\"#00cc96\",\"pattern\":{\"shape\":\"\"}},\"name\":\"Hospitalist\",\"offsetgroup\":\"Hospitalist\",\"orientation\":\"v\",\"showlegend\":true,\"textposition\":\"auto\",\"x\":[\"Hospitalist\"],\"xaxis\":\"x\",\"y\":[0.3191243057532707],\"yaxis\":\"y\",\"type\":\"bar\"},{\"alignmentgroup\":\"True\",\"hovertemplate\":\"Service=%{x}<br>ExpectedMortality=%{y}<extra></extra>\",\"legendgroup\":\"Orthopeadics\",\"marker\":{\"color\":\"#ab63fa\",\"pattern\":{\"shape\":\"\"}},\"name\":\"Orthopeadics\",\"offsetgroup\":\"Orthopeadics\",\"orientation\":\"v\",\"showlegend\":true,\"textposition\":\"auto\",\"x\":[\"Orthopeadics\"],\"xaxis\":\"x\",\"y\":[0.3222511928470848],\"yaxis\":\"y\",\"type\":\"bar\"},{\"alignmentgroup\":\"True\",\"hovertemplate\":\"Service=%{x}<br>ExpectedMortality=%{y}<extra></extra>\",\"legendgroup\":\"ICU\",\"marker\":{\"color\":\"#FFA15A\",\"pattern\":{\"shape\":\"\"}},\"name\":\"ICU\",\"offsetgroup\":\"ICU\",\"orientation\":\"v\",\"showlegend\":true,\"textposition\":\"auto\",\"x\":[\"ICU\"],\"xaxis\":\"x\",\"y\":[0.45727763001061594],\"yaxis\":\"y\",\"type\":\"bar\"},{\"alignmentgroup\":\"True\",\"hovertemplate\":\"Service=%{x}<br>ExpectedMortality=%{y}<extra></extra>\",\"legendgroup\":\"Neurology\",\"marker\":{\"color\":\"#19d3f3\",\"pattern\":{\"shape\":\"\"}},\"name\":\"Neurology\",\"offsetgroup\":\"Neurology\",\"orientation\":\"v\",\"showlegend\":true,\"textposition\":\"auto\",\"x\":[\"Neurology\"],\"xaxis\":\"x\",\"y\":[0.47346047937277824],\"yaxis\":\"y\",\"type\":\"bar\"}],                        {\"template\":{\"data\":{\"histogram2dcontour\":[{\"type\":\"histogram2dcontour\",\"colorbar\":{\"outlinewidth\":0,\"ticks\":\"\"},\"colorscale\":[[0.0,\"#0d0887\"],[0.1111111111111111,\"#46039f\"],[0.2222222222222222,\"#7201a8\"],[0.3333333333333333,\"#9c179e\"],[0.4444444444444444,\"#bd3786\"],[0.5555555555555556,\"#d8576b\"],[0.6666666666666666,\"#ed7953\"],[0.7777777777777778,\"#fb9f3a\"],[0.8888888888888888,\"#fdca26\"],[1.0,\"#f0f921\"]]}],\"choropleth\":[{\"type\":\"choropleth\",\"colorbar\":{\"outlinewidth\":0,\"ticks\":\"\"}}],\"histogram2d\":[{\"type\":\"histogram2d\",\"colorbar\":{\"outlinewidth\":0,\"ticks\":\"\"},\"colorscale\":[[0.0,\"#0d0887\"],[0.1111111111111111,\"#46039f\"],[0.2222222222222222,\"#7201a8\"],[0.3333333333333333,\"#9c179e\"],[0.4444444444444444,\"#bd3786\"],[0.5555555555555556,\"#d8576b\"],[0.6666666666666666,\"#ed7953\"],[0.7777777777777778,\"#fb9f3a\"],[0.8888888888888888,\"#fdca26\"],[1.0,\"#f0f921\"]]}],\"heatmap\":[{\"type\":\"heatmap\",\"colorbar\":{\"outlinewidth\":0,\"ticks\":\"\"},\"colorscale\":[[0.0,\"#0d0887\"],[0.1111111111111111,\"#46039f\"],[0.2222222222222222,\"#7201a8\"],[0.3333333333333333,\"#9c179e\"],[0.4444444444444444,\"#bd3786\"],[0.5555555555555556,\"#d8576b\"],[0.6666666666666666,\"#ed7953\"],[0.7777777777777778,\"#fb9f3a\"],[0.8888888888888888,\"#fdca26\"],[1.0,\"#f0f921\"]]}],\"heatmapgl\":[{\"type\":\"heatmapgl\",\"colorbar\":{\"outlinewidth\":0,\"ticks\":\"\"},\"colorscale\":[[0.0,\"#0d0887\"],[0.1111111111111111,\"#46039f\"],[0.2222222222222222,\"#7201a8\"],[0.3333333333333333,\"#9c179e\"],[0.4444444444444444,\"#bd3786\"],[0.5555555555555556,\"#d8576b\"],[0.6666666666666666,\"#ed7953\"],[0.7777777777777778,\"#fb9f3a\"],[0.8888888888888888,\"#fdca26\"],[1.0,\"#f0f921\"]]}],\"contourcarpet\":[{\"type\":\"contourcarpet\",\"colorbar\":{\"outlinewidth\":0,\"ticks\":\"\"}}],\"contour\":[{\"type\":\"contour\",\"colorbar\":{\"outlinewidth\":0,\"ticks\":\"\"},\"colorscale\":[[0.0,\"#0d0887\"],[0.1111111111111111,\"#46039f\"],[0.2222222222222222,\"#7201a8\"],[0.3333333333333333,\"#9c179e\"],[0.4444444444444444,\"#bd3786\"],[0.5555555555555556,\"#d8576b\"],[0.6666666666666666,\"#ed7953\"],[0.7777777777777778,\"#fb9f3a\"],[0.8888888888888888,\"#fdca26\"],[1.0,\"#f0f921\"]]}],\"surface\":[{\"type\":\"surface\",\"colorbar\":{\"outlinewidth\":0,\"ticks\":\"\"},\"colorscale\":[[0.0,\"#0d0887\"],[0.1111111111111111,\"#46039f\"],[0.2222222222222222,\"#7201a8\"],[0.3333333333333333,\"#9c179e\"],[0.4444444444444444,\"#bd3786\"],[0.5555555555555556,\"#d8576b\"],[0.6666666666666666,\"#ed7953\"],[0.7777777777777778,\"#fb9f3a\"],[0.8888888888888888,\"#fdca26\"],[1.0,\"#f0f921\"]]}],\"mesh3d\":[{\"type\":\"mesh3d\",\"colorbar\":{\"outlinewidth\":0,\"ticks\":\"\"}}],\"scatter\":[{\"fillpattern\":{\"fillmode\":\"overlay\",\"size\":10,\"solidity\":0.2},\"type\":\"scatter\"}],\"parcoords\":[{\"type\":\"parcoords\",\"line\":{\"colorbar\":{\"outlinewidth\":0,\"ticks\":\"\"}}}],\"scatterpolargl\":[{\"type\":\"scatterpolargl\",\"marker\":{\"colorbar\":{\"outlinewidth\":0,\"ticks\":\"\"}}}],\"bar\":[{\"error_x\":{\"color\":\"#2a3f5f\"},\"error_y\":{\"color\":\"#2a3f5f\"},\"marker\":{\"line\":{\"color\":\"#E5ECF6\",\"width\":0.5},\"pattern\":{\"fillmode\":\"overlay\",\"size\":10,\"solidity\":0.2}},\"type\":\"bar\"}],\"scattergeo\":[{\"type\":\"scattergeo\",\"marker\":{\"colorbar\":{\"outlinewidth\":0,\"ticks\":\"\"}}}],\"scatterpolar\":[{\"type\":\"scatterpolar\",\"marker\":{\"colorbar\":{\"outlinewidth\":0,\"ticks\":\"\"}}}],\"histogram\":[{\"marker\":{\"pattern\":{\"fillmode\":\"overlay\",\"size\":10,\"solidity\":0.2}},\"type\":\"histogram\"}],\"scattergl\":[{\"type\":\"scattergl\",\"marker\":{\"colorbar\":{\"outlinewidth\":0,\"ticks\":\"\"}}}],\"scatter3d\":[{\"type\":\"scatter3d\",\"line\":{\"colorbar\":{\"outlinewidth\":0,\"ticks\":\"\"}},\"marker\":{\"colorbar\":{\"outlinewidth\":0,\"ticks\":\"\"}}}],\"scattermapbox\":[{\"type\":\"scattermapbox\",\"marker\":{\"colorbar\":{\"outlinewidth\":0,\"ticks\":\"\"}}}],\"scatterternary\":[{\"type\":\"scatterternary\",\"marker\":{\"colorbar\":{\"outlinewidth\":0,\"ticks\":\"\"}}}],\"scattercarpet\":[{\"type\":\"scattercarpet\",\"marker\":{\"colorbar\":{\"outlinewidth\":0,\"ticks\":\"\"}}}],\"carpet\":[{\"aaxis\":{\"endlinecolor\":\"#2a3f5f\",\"gridcolor\":\"white\",\"linecolor\":\"white\",\"minorgridcolor\":\"white\",\"startlinecolor\":\"#2a3f5f\"},\"baxis\":{\"endlinecolor\":\"#2a3f5f\",\"gridcolor\":\"white\",\"linecolor\":\"white\",\"minorgridcolor\":\"white\",\"startlinecolor\":\"#2a3f5f\"},\"type\":\"carpet\"}],\"table\":[{\"cells\":{\"fill\":{\"color\":\"#EBF0F8\"},\"line\":{\"color\":\"white\"}},\"header\":{\"fill\":{\"color\":\"#C8D4E3\"},\"line\":{\"color\":\"white\"}},\"type\":\"table\"}],\"barpolar\":[{\"marker\":{\"line\":{\"color\":\"#E5ECF6\",\"width\":0.5},\"pattern\":{\"fillmode\":\"overlay\",\"size\":10,\"solidity\":0.2}},\"type\":\"barpolar\"}],\"pie\":[{\"automargin\":true,\"type\":\"pie\"}]},\"layout\":{\"autotypenumbers\":\"strict\",\"colorway\":[\"#636efa\",\"#EF553B\",\"#00cc96\",\"#ab63fa\",\"#FFA15A\",\"#19d3f3\",\"#FF6692\",\"#B6E880\",\"#FF97FF\",\"#FECB52\"],\"font\":{\"color\":\"#2a3f5f\"},\"hovermode\":\"closest\",\"hoverlabel\":{\"align\":\"left\"},\"paper_bgcolor\":\"white\",\"plot_bgcolor\":\"#E5ECF6\",\"polar\":{\"bgcolor\":\"#E5ECF6\",\"angularaxis\":{\"gridcolor\":\"white\",\"linecolor\":\"white\",\"ticks\":\"\"},\"radialaxis\":{\"gridcolor\":\"white\",\"linecolor\":\"white\",\"ticks\":\"\"}},\"ternary\":{\"bgcolor\":\"#E5ECF6\",\"aaxis\":{\"gridcolor\":\"white\",\"linecolor\":\"white\",\"ticks\":\"\"},\"baxis\":{\"gridcolor\":\"white\",\"linecolor\":\"white\",\"ticks\":\"\"},\"caxis\":{\"gridcolor\":\"white\",\"linecolor\":\"white\",\"ticks\":\"\"}},\"coloraxis\":{\"colorbar\":{\"outlinewidth\":0,\"ticks\":\"\"}},\"colorscale\":{\"sequential\":[[0.0,\"#0d0887\"],[0.1111111111111111,\"#46039f\"],[0.2222222222222222,\"#7201a8\"],[0.3333333333333333,\"#9c179e\"],[0.4444444444444444,\"#bd3786\"],[0.5555555555555556,\"#d8576b\"],[0.6666666666666666,\"#ed7953\"],[0.7777777777777778,\"#fb9f3a\"],[0.8888888888888888,\"#fdca26\"],[1.0,\"#f0f921\"]],\"sequentialminus\":[[0.0,\"#0d0887\"],[0.1111111111111111,\"#46039f\"],[0.2222222222222222,\"#7201a8\"],[0.3333333333333333,\"#9c179e\"],[0.4444444444444444,\"#bd3786\"],[0.5555555555555556,\"#d8576b\"],[0.6666666666666666,\"#ed7953\"],[0.7777777777777778,\"#fb9f3a\"],[0.8888888888888888,\"#fdca26\"],[1.0,\"#f0f921\"]],\"diverging\":[[0,\"#8e0152\"],[0.1,\"#c51b7d\"],[0.2,\"#de77ae\"],[0.3,\"#f1b6da\"],[0.4,\"#fde0ef\"],[0.5,\"#f7f7f7\"],[0.6,\"#e6f5d0\"],[0.7,\"#b8e186\"],[0.8,\"#7fbc41\"],[0.9,\"#4d9221\"],[1,\"#276419\"]]},\"xaxis\":{\"gridcolor\":\"white\",\"linecolor\":\"white\",\"ticks\":\"\",\"title\":{\"standoff\":15},\"zerolinecolor\":\"white\",\"automargin\":true,\"zerolinewidth\":2},\"yaxis\":{\"gridcolor\":\"white\",\"linecolor\":\"white\",\"ticks\":\"\",\"title\":{\"standoff\":15},\"zerolinecolor\":\"white\",\"automargin\":true,\"zerolinewidth\":2},\"scene\":{\"xaxis\":{\"backgroundcolor\":\"#E5ECF6\",\"gridcolor\":\"white\",\"linecolor\":\"white\",\"showbackground\":true,\"ticks\":\"\",\"zerolinecolor\":\"white\",\"gridwidth\":2},\"yaxis\":{\"backgroundcolor\":\"#E5ECF6\",\"gridcolor\":\"white\",\"linecolor\":\"white\",\"showbackground\":true,\"ticks\":\"\",\"zerolinecolor\":\"white\",\"gridwidth\":2},\"zaxis\":{\"backgroundcolor\":\"#E5ECF6\",\"gridcolor\":\"white\",\"linecolor\":\"white\",\"showbackground\":true,\"ticks\":\"\",\"zerolinecolor\":\"white\",\"gridwidth\":2}},\"shapedefaults\":{\"line\":{\"color\":\"#2a3f5f\"}},\"annotationdefaults\":{\"arrowcolor\":\"#2a3f5f\",\"arrowhead\":0,\"arrowwidth\":1},\"geo\":{\"bgcolor\":\"white\",\"landcolor\":\"#E5ECF6\",\"subunitcolor\":\"white\",\"showland\":true,\"showlakes\":true,\"lakecolor\":\"white\"},\"title\":{\"x\":0.05},\"mapbox\":{\"style\":\"light\"}}},\"xaxis\":{\"anchor\":\"y\",\"domain\":[0.0,1.0],\"title\":{\"text\":\"Service\"},\"categoryorder\":\"array\",\"categoryarray\":[\"Cardiology\",\"General Medicine\",\"Hospitalist\",\"Orthopeadics\",\"ICU\",\"Neurology\"]},\"yaxis\":{\"anchor\":\"x\",\"domain\":[0.0,1.0],\"title\":{\"text\":\"ExpectedMortality\"}},\"legend\":{\"title\":{\"text\":\"Service\"},\"tracegroupgap\":0},\"margin\":{\"t\":60},\"barmode\":\"relative\",\"height\":400},                        {\"responsive\": true}                    ).then(function(){\n",
       "                            \n",
       "var gd = document.getElementById('97ca51c7-0f50-4ce4-93ff-6679e56a5dca');\n",
       "var x = new MutationObserver(function (mutations, observer) {{\n",
       "        var display = window.getComputedStyle(gd).display;\n",
       "        if (!display || display === 'none') {{\n",
       "            console.log([gd, 'removed!']);\n",
       "            Plotly.purge(gd);\n",
       "            observer.disconnect();\n",
       "        }}\n",
       "}});\n",
       "\n",
       "// Listen for the removal of the full notebook cells\n",
       "var notebookContainer = gd.closest('#notebook-container');\n",
       "if (notebookContainer) {{\n",
       "    x.observe(notebookContainer, {childList: true});\n",
       "}}\n",
       "\n",
       "// Listen for the clearing of the current output cell\n",
       "var outputEl = gd.closest('.output');\n",
       "if (outputEl) {{\n",
       "    x.observe(outputEl, {childList: true});\n",
       "}}\n",
       "\n",
       "                        })                };                });            </script>        </div>"
      ]
     },
     "metadata": {},
     "output_type": "display_data"
    }
   ],
   "source": [
    "#20.Using a bar chart, which Service had the lowest count of Expected Mortality?\n",
    "#--------------------------------------------------------------------------------\n",
    "import plotly.express as px\n",
    "groupbydiagnosis=df4.groupby('Service')['ExpectedMortality'].mean().reset_index(name='ExpectedMortality').sort_values('ExpectedMortality')\n",
    "fig = px.bar(groupbydiagnosis, x='Service', y='ExpectedMortality',\n",
    "             hover_data=['Service', 'ExpectedMortality'], color='Service',\n",
    "             labels={'em':'ExpectedMortality'}, height=400)\n",
    "fig.show()"
   ]
  }
 ],
 "metadata": {
  "kernelspec": {
   "display_name": "Python 3 (ipykernel)",
   "language": "python",
   "name": "python3"
  },
  "language_info": {
   "codemirror_mode": {
    "name": "ipython",
    "version": 3
   },
   "file_extension": ".py",
   "mimetype": "text/x-python",
   "name": "python",
   "nbconvert_exporter": "python",
   "pygments_lexer": "ipython3",
   "version": "3.10.9"
  }
 },
 "nbformat": 4,
 "nbformat_minor": 5
}
